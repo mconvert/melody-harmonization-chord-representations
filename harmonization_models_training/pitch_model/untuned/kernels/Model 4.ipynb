{
 "cells": [
  {
   "cell_type": "code",
   "execution_count": 1,
   "metadata": {},
   "outputs": [
    {
     "name": "stderr",
     "output_type": "stream",
     "text": [
      "/home/maxime/.local/lib/python3.5/site-packages/h5py/__init__.py:34: FutureWarning: Conversion of the second argument of issubdtype from `float` to `np.floating` is deprecated. In future, it will be treated as `np.float64 == np.dtype(float).type`.\n",
      "  from ._conv import register_converters as _register_converters\n",
      "Using TensorFlow backend.\n"
     ]
    }
   ],
   "source": [
    "import re\n",
    "import time\n",
    "\n",
    "import numpy as np\n",
    "import matplotlib.pyplot as plt\n",
    "\n",
    "from sklearn.metrics import confusion_matrix\n",
    "from sklearn.model_selection import StratifiedShuffleSplit\n",
    "from keras.models import Model\n",
    "from keras.models import load_model\n",
    "from keras.layers import Input, Dense, GRU, concatenate\n",
    "from keras import metrics\n",
    "from keras import backend as K\n",
    "from keras.utils import plot_model\n",
    "from keras.callbacks import EarlyStopping, ModelCheckpoint\n",
    "\n",
    "from IPython.display import SVG\n",
    "from keras.utils.vis_utils import model_to_dot\n",
    "\n",
    "# Custom library for the project\n",
    "import sys\n",
    "sys.path.insert(0, '../../../src')\n",
    "import harmoutil\n",
    "\n",
    "%matplotlib inline"
   ]
  },
  {
   "cell_type": "code",
   "execution_count": 2,
   "metadata": {},
   "outputs": [
    {
     "data": {
      "text/plain": [
       "<module 'harmoutil' from '../../../src/harmoutil.py'>"
      ]
     },
     "execution_count": 2,
     "metadata": {},
     "output_type": "execute_result"
    }
   ],
   "source": [
    "# # Remove when done with kernel\n",
    "import importlib\n",
    "importlib.reload(harmoutil)"
   ]
  },
  {
   "cell_type": "code",
   "execution_count": 3,
   "metadata": {},
   "outputs": [
    {
     "name": "stdout",
     "output_type": "stream",
     "text": [
      "334344 334344 334344 2209944\n"
     ]
    }
   ],
   "source": [
    "### Load raw data ###\n",
    "raw_data = harmoutil.load_pickled_data(\"../../../data/refined_data.pkl\") # lists of (chord label, melody seqs) by sections\n",
    "\n",
    "### Augment data ###\n",
    "augmented_data = harmoutil.transpose_and_augment_data(raw_data)\n",
    "\n",
    "data = [harmoutil.to_sevenths(section) for section in augmented_data]\n",
    "data = [harmoutil.melody_to_octave_range(section) for section in data]\n",
    "\n",
    "chords = [ch for section in data for ch, mel in section]\n",
    "# roots, suffixes = harmoutil.roots_and_suffixes(chords) # added for model 2\n",
    "melodies_by_beats = [mel for section in data for ch, mel in section]\n",
    "\n",
    "melodies_by_notes = []\n",
    "for mel in melodies_by_beats:\n",
    "    melodies_by_notes.append([n for b in mel for n in b])\n",
    "notes = [n for sec in melodies_by_notes for n in sec]\n",
    "print(len(chords), len(melodies_by_beats), len(melodies_by_notes), len(notes))"
   ]
  },
  {
   "cell_type": "code",
   "execution_count": 4,
   "metadata": {
    "collapsed": true
   },
   "outputs": [],
   "source": [
    "### Define class integer mapping ###\n",
    "notes_index = dict(\n",
    "    [(c, i) for i, c in enumerate(sorted(list(set(notes)))[1:])])\n",
    "notes_index[-1] = len(notes_index)\n",
    "notes_index['<end>'] = len(notes_index)\n",
    "notes_index['<pad>'] = len(notes_index)\n",
    "\n",
    "index_notes = dict(\n",
    "    [(v, k) for k, v in notes_index.items()])\n",
    "\n",
    "\n",
    "chords_index = dict(\n",
    "    [(c, i) for i, c in enumerate(sorted(list(set(chords))))])\n",
    "chords_index['<bos>'] = len(chords_index)\n",
    "chords_index['<eos>'] = len(chords_index)\n",
    "\n",
    "index_chords = dict(\n",
    "    [(v, k) for k, v in chords_index.items()])"
   ]
  },
  {
   "cell_type": "code",
   "execution_count": 5,
   "metadata": {},
   "outputs": [
    {
     "name": "stdout",
     "output_type": "stream",
     "text": [
      "Total number of distinct chord labels: 195\n",
      "Total number of distinct melody notes: 15\n",
      "Number notes in chord: 12\n",
      "Maximum length of melody sequences: 135\n",
      "Maximum length of chord sequences: 58\n",
      "Number of chords taken into account for next prediction: 7\n"
     ]
    }
   ],
   "source": [
    "### Numerical variables ###\n",
    "n_chords = len(chords_index)\n",
    "n_notes = len(notes_index)\n",
    "n_chord_notes = 12\n",
    "max_melody_seq_len = max([len(mel) for mel in melodies_by_notes])\n",
    "max_chords_seq_len = max([len(section) for section in data])\n",
    "ch_context_window = 7\n",
    "\n",
    "\n",
    "print(\"Total number of distinct chord labels:\", n_chords)\n",
    "print(\"Total number of distinct melody notes:\", n_notes)\n",
    "print(\"Number notes in chord:\", n_chord_notes)\n",
    "print(\"Maximum length of melody sequences:\", max_melody_seq_len)\n",
    "print(\"Maximum length of chord sequences:\", max_chords_seq_len)\n",
    "print(\"Number of chords taken into account for next prediction:\", ch_context_window)"
   ]
  },
  {
   "cell_type": "code",
   "execution_count": 6,
   "metadata": {},
   "outputs": [
    {
     "name": "stdout",
     "output_type": "stream",
     "text": [
      "363228 363228\n",
      "334344 334344\n",
      "45115280 45136440\n"
     ]
    }
   ],
   "source": [
    "### Build tensors ###\n",
    "\n",
    "# Build data lists\n",
    "input_melody_eos = []\n",
    "input_chords_eos = []\n",
    "target_chords_eos = []\n",
    "\n",
    "for section in data:\n",
    "    chord_sequence = [ch for ch, mel in section]\n",
    "    padded_sequence = ['<bos>']*ch_context_window + chord_sequence + ['<eos>']\n",
    "    for i in range(len(chord_sequence)+1):\n",
    "        input_chords_eos.append(padded_sequence[i:i+ch_context_window])\n",
    "        target_chords_eos.append(padded_sequence[i+ch_context_window])\n",
    "\n",
    "    chord_mel = [mel for ch, mel in section]\n",
    "    melody_sequence = []\n",
    "    for mel in chord_mel:\n",
    "        ch_mel = []\n",
    "        for b in mel:\n",
    "            for n in b:\n",
    "                ch_mel.append(n)\n",
    "        melody_sequence.append(ch_mel)\n",
    "    melody_sequence += [['<end>']]\n",
    "    input_melody_eos += melody_sequence\n",
    "\n",
    "print(len(target_chords_eos), len(input_chords_eos))    \n",
    "target_chords = [target_chords_eos[i] for i in range(len(target_chords_eos)) if not target_chords_eos[i] == '<eos>']\n",
    "input_chords = [input_chords_eos[i] for i in range(len(input_chords_eos)) if not target_chords_eos[i] == '<eos>']\n",
    "input_melody = [input_melody_eos[i] for i in range(len(input_melody_eos)) if not target_chords_eos[i] == '<eos>']    \n",
    "print(len(target_chords), len(input_chords))\n",
    "\n",
    "\n",
    "n_entries = len(target_chords)\n",
    "\n",
    "X_melody = np.zeros((n_entries, max_melody_seq_len, n_notes), dtype='float32')\n",
    "X_chords = np.zeros((n_entries, ch_context_window, n_chord_notes), dtype='float32')\n",
    "Y = np.zeros((n_entries, n_chord_notes), dtype='float32')\n",
    "\n",
    "# Y_C = np.zeros((n_entries, 1), dtype='float32')\n",
    "# Y_Db = np.zeros((n_entries, 1), dtype='float32')\n",
    "# Y_D = np.zeros((n_entries, 1), dtype='float32')\n",
    "# Y_Eb = np.zeros((n_entries, 1), dtype='float32')\n",
    "# Y_E = np.zeros((n_entries, 1), dtype='float32')\n",
    "# Y_F = np.zeros((n_entries, 1), dtype='float32')\n",
    "# Y_Gb = np.zeros((n_entries, 1), dtype='float32')\n",
    "# Y_G = np.zeros((n_entries, 1), dtype='float32')\n",
    "# Y_Ab = np.zeros((n_entries, 1), dtype='float32')\n",
    "# Y_A = np.zeros((n_entries, 1), dtype='float32')\n",
    "# Y_Bb = np.zeros((n_entries, 1), dtype='float32')\n",
    "# Y_B = np.zeros((n_entries, 1), dtype='float32')\n",
    "\n",
    "\n",
    "\n",
    "for i, (in_mel, in_ch, tg_ch) in enumerate(zip(input_melody, input_chords, target_chords)):\n",
    "    \n",
    "    # target chord\n",
    "    if tg_ch == '<bos>':\n",
    "        tg_chord_notes = [0]*12 # set <bos> to list of 0s\n",
    "    else:\n",
    "        tg_chord_notes = harmoutil.chord_to_notes(tg_ch)\n",
    "\n",
    "    for j, pres in enumerate(tg_chord_notes):\n",
    "        Y[i, j] = pres\n",
    "        \n",
    "        \n",
    "    # input chords\n",
    "    for j, ch in enumerate(in_ch):\n",
    "        if ch == '<bos>':\n",
    "            in_chord_notes = [0]*12 # set <bos> to list of 0s\n",
    "        else:\n",
    "            in_chord_notes = harmoutil.chord_to_notes(ch)\n",
    "        for k, pres in enumerate(in_chord_notes):\n",
    "            X_chords[i, j, k] = pres\n",
    "            \n",
    "    \n",
    "    # input melody\n",
    "    padded_melody = in_mel + ['<pad>']*(max_melody_seq_len - len(in_mel))\n",
    "    for k, note in enumerate(padded_melody):\n",
    "        X_melody[i, k, notes_index[note]] = 1\n",
    "        \n",
    "        \n",
    "            \n",
    "print(int(np.sum(X_melody)), n_entries*max_melody_seq_len)\n",
    "# print(int(np.sum(X_chords)), n_entries*ch_context_window)\n",
    "# print(int(np.sum(Y)), n_entries)\n"
   ]
  },
  {
   "cell_type": "code",
   "execution_count": 7,
   "metadata": {},
   "outputs": [
    {
     "name": "stdout",
     "output_type": "stream",
     "text": [
      "(267475, 135, 15) (267475, 7, 12) (267475, 12)\n",
      "(33434, 135, 15) (33434, 7, 12) (33434, 12)\n",
      "(33435, 135, 15) (33435, 7, 12) (33435, 12)\n"
     ]
    }
   ],
   "source": [
    "### Train/Validation/Test sets ###\n",
    "seed = 1\n",
    "\n",
    "strat_split = StratifiedShuffleSplit(n_splits=1, test_size=0.2, random_state=seed)\n",
    "\n",
    "for train_index, aux_index in strat_split.split(X_chords, Y):\n",
    "    # train variables\n",
    "    X_melody_train = X_melody[train_index]\n",
    "    X_chords_train = X_chords[train_index]\n",
    "    Y_train = Y[train_index]\n",
    "    \n",
    "    # auxiliary variables\n",
    "    X_melody_aux = X_melody[aux_index]\n",
    "    X_chords_aux = X_chords[aux_index]\n",
    "    Y_aux = Y[aux_index]\n",
    "    \n",
    "    \n",
    "strat_split = StratifiedShuffleSplit(n_splits=1, test_size=0.5, random_state=seed)\n",
    "for valid_index, test_index in strat_split.split(X_chords_aux, Y_aux):\n",
    "    # validation variables\n",
    "    X_melody_valid = X_melody_aux[valid_index]\n",
    "    X_chords_valid = X_chords_aux[valid_index]\n",
    "    Y_valid = Y_aux[valid_index]\n",
    "    \n",
    "    # test variables\n",
    "    X_melody_test = X_melody_aux[test_index]\n",
    "    X_chords_test = X_chords_aux[test_index]\n",
    "    Y_test = Y_aux[test_index]    \n",
    "    \n",
    "    \n",
    "print(X_melody_train.shape, X_chords_train.shape, Y_train.shape)\n",
    "print(X_melody_valid.shape, X_chords_valid.shape, Y_valid.shape)\n",
    "print(X_melody_test.shape, X_chords_test.shape, Y_test.shape)\n",
    "\n",
    "# train_size = melody_train.shape[0]\n",
    "# test_size = melody_test.shape[0]"
   ]
  },
  {
   "cell_type": "code",
   "execution_count": 8,
   "metadata": {},
   "outputs": [
    {
     "name": "stdout",
     "output_type": "stream",
     "text": [
      "____________________________________________________________________________________________________\n",
      "Layer (type)                     Output Shape          Param #     Connected to                     \n",
      "====================================================================================================\n",
      "input_1 (InputLayer)             (None, 135, 15)       0                                            \n",
      "____________________________________________________________________________________________________\n",
      "input_2 (InputLayer)             (None, 7, 12)         0                                            \n",
      "____________________________________________________________________________________________________\n",
      "gru_1 (GRU)                      (None, 128)           55296       input_1[0][0]                    \n",
      "____________________________________________________________________________________________________\n",
      "gru_2 (GRU)                      (None, 128)           54144       input_2[0][0]                    \n",
      "____________________________________________________________________________________________________\n",
      "concatenate_1 (Concatenate)      (None, 256)           0           gru_1[0][0]                      \n",
      "                                                                   gru_2[0][0]                      \n",
      "____________________________________________________________________________________________________\n",
      "dense_1 (Dense)                  (None, 12)            3084        concatenate_1[0][0]              \n",
      "====================================================================================================\n",
      "Total params: 112,524\n",
      "Trainable params: 112,524\n",
      "Non-trainable params: 0\n",
      "____________________________________________________________________________________________________\n",
      "None\n"
     ]
    }
   ],
   "source": [
    "### Define neural net architectur ###\n",
    "latent_dim = 128\n",
    "\n",
    "melody_input = Input(shape=(max_melody_seq_len, n_notes))\n",
    "melody_gru = GRU(latent_dim)(melody_input)\n",
    "\n",
    "chords_input = Input(shape=(ch_context_window, n_chord_notes))\n",
    "chords_gru = GRU(latent_dim)(chords_input)\n",
    "\n",
    "concat = concatenate([melody_gru, chords_gru])\n",
    "\n",
    "# chord_dense = Dense(n_chords, activation='softmax')(concat)\n",
    "\n",
    "chord_notes_dense = Dense(n_chord_notes, activation='sigmoid')(concat)\n",
    "\n",
    "# C_o = Dense(1, activation='sigmoid')(concat)\n",
    "# Db_o = Dense(1, activation='sigmoid')(concat)\n",
    "# D_o = Dense(1, activation='sigmoid')(concat)\n",
    "# Eb_o = Dense(1, activation='sigmoid')(concat)\n",
    "# E_o = Dense(1, activation='sigmoid')(concat)\n",
    "# F_o = Dense(1, activation='sigmoid')(concat)\n",
    "# Gb_o = Dense(1, activation='sigmoid')(concat)\n",
    "# G_o = Dense(1, activation='sigmoid')(concat)\n",
    "# Ab_o = Dense(1, activation='sigmoid')(concat)\n",
    "# A_o = Dense(1, activation='sigmoid')(concat)\n",
    "# Bb_o = Dense(1, activation='sigmoid')(concat)\n",
    "# B_o = Dense(1, activation='sigmoid')(concat)\n",
    "\n",
    "\n",
    "model = Model([melody_input, chords_input], [chord_notes_dense])\n",
    "model.compile(loss='binary_crossentropy',\n",
    "              optimizer='adam',\n",
    "              metrics=['accuracy'])\n",
    "\n",
    "print(model.summary())\n",
    "# SVG(model_to_dot(model).create(prog='dot', format='svg'))"
   ]
  },
  {
   "cell_type": "code",
   "execution_count": 9,
   "metadata": {
    "collapsed": true
   },
   "outputs": [],
   "source": [
    "### Introduce Early-Stopping and Save Best Performance callbacks ###\n",
    "# es = EarlyStopping(monitor='val_loss', min_delta=0, patience=5, verbose=1, mode='min')\n",
    "filepath = \"../../models/model-4_seventh_cc-7.h5\"\n",
    "bp = ModelCheckpoint(filepath, monitor='val_acc', verbose=1, save_best_only=True, mode='max')\n",
    "\n",
    "# filepath = \"../../models/model-4_cc-5.h5\"\n",
    "# mabpc = MultiAccuracyBestPerformanceCheckpoint(filepath, monitor=['val_dense_1_acc', 'val_dense_2_acc'], verbose=1)\n"
   ]
  },
  {
   "cell_type": "code",
   "execution_count": 10,
   "metadata": {
    "scrolled": false
   },
   "outputs": [
    {
     "name": "stdout",
     "output_type": "stream",
     "text": [
      "Train on 267475 samples, validate on 33434 samples\n",
      "Epoch 1/50\n",
      "267456/267475 [============================>.] - ETA: 0s - loss: 0.5201 - acc: 0.7511Epoch 00000: val_acc improved from -inf to 0.77595, saving model to ../../models/model-4_seventh_cc-7.h5\n",
      "267475/267475 [==============================] - 1079s - loss: 0.5201 - acc: 0.7511 - val_loss: 0.4825 - val_acc: 0.7759\n",
      "Epoch 2/50\n",
      "267456/267475 [============================>.] - ETA: 0s - loss: 0.4624 - acc: 0.7876Epoch 00001: val_acc improved from 0.77595 to 0.79543, saving model to ../../models/model-4_seventh_cc-7.h5\n",
      "267475/267475 [==============================] - 1077s - loss: 0.4624 - acc: 0.7876 - val_loss: 0.4512 - val_acc: 0.7954\n",
      "Epoch 3/50\n",
      "267456/267475 [============================>.] - ETA: 0s - loss: 0.4340 - acc: 0.8037Epoch 00002: val_acc improved from 0.79543 to 0.80533, saving model to ../../models/model-4_seventh_cc-7.h5\n",
      "267475/267475 [==============================] - 1077s - loss: 0.4340 - acc: 0.8037 - val_loss: 0.4327 - val_acc: 0.8053\n",
      "Epoch 4/50\n",
      "267456/267475 [============================>.] - ETA: 0s - loss: 0.4135 - acc: 0.8147Epoch 00003: val_acc improved from 0.80533 to 0.81197, saving model to ../../models/model-4_seventh_cc-7.h5\n",
      "267475/267475 [==============================] - 1077s - loss: 0.4135 - acc: 0.8147 - val_loss: 0.4224 - val_acc: 0.8120\n",
      "Epoch 5/50\n",
      "267456/267475 [============================>.] - ETA: 0s - loss: 0.3993 - acc: 0.8218Epoch 00004: val_acc improved from 0.81197 to 0.81690, saving model to ../../models/model-4_seventh_cc-7.h5\n",
      "267475/267475 [==============================] - 1078s - loss: 0.3993 - acc: 0.8218 - val_loss: 0.4113 - val_acc: 0.8169\n",
      "Epoch 6/50\n",
      "267456/267475 [============================>.] - ETA: 0s - loss: 0.3886 - acc: 0.8275Epoch 00005: val_acc improved from 0.81690 to 0.82032, saving model to ../../models/model-4_seventh_cc-7.h5\n",
      "267475/267475 [==============================] - 1078s - loss: 0.3886 - acc: 0.8275 - val_loss: 0.4074 - val_acc: 0.8203\n",
      "Epoch 7/50\n",
      "267456/267475 [============================>.] - ETA: 0s - loss: 0.3863 - acc: 0.8291Epoch 00006: val_acc improved from 0.82032 to 0.82259, saving model to ../../models/model-4_seventh_cc-7.h5\n",
      "267475/267475 [==============================] - 1076s - loss: 0.3863 - acc: 0.8291 - val_loss: 0.4032 - val_acc: 0.8226\n",
      "Epoch 8/50\n",
      "267456/267475 [============================>.] - ETA: 0s - loss: 0.3790 - acc: 0.8326Epoch 00007: val_acc improved from 0.82259 to 0.82283, saving model to ../../models/model-4_seventh_cc-7.h5\n",
      "267475/267475 [==============================] - 1077s - loss: 0.3790 - acc: 0.8326 - val_loss: 0.4017 - val_acc: 0.8228\n",
      "Epoch 9/50\n",
      "267456/267475 [============================>.] - ETA: 0s - loss: 0.3734 - acc: 0.8353Epoch 00008: val_acc improved from 0.82283 to 0.82753, saving model to ../../models/model-4_seventh_cc-7.h5\n",
      "267475/267475 [==============================] - 1077s - loss: 0.3734 - acc: 0.8353 - val_loss: 0.3930 - val_acc: 0.8275\n",
      "Epoch 10/50\n",
      "267456/267475 [============================>.] - ETA: 0s - loss: 0.3664 - acc: 0.8389Epoch 00009: val_acc improved from 0.82753 to 0.83025, saving model to ../../models/model-4_seventh_cc-7.h5\n",
      "267475/267475 [==============================] - 1077s - loss: 0.3664 - acc: 0.8389 - val_loss: 0.3890 - val_acc: 0.8303\n",
      "Epoch 11/50\n",
      "267456/267475 [============================>.] - ETA: 0s - loss: 0.3604 - acc: 0.8419Epoch 00010: val_acc improved from 0.83025 to 0.83213, saving model to ../../models/model-4_seventh_cc-7.h5\n",
      "267475/267475 [==============================] - 1077s - loss: 0.3604 - acc: 0.8419 - val_loss: 0.3861 - val_acc: 0.8321\n",
      "Epoch 12/50\n",
      "267456/267475 [============================>.] - ETA: 0s - loss: 0.3559 - acc: 0.8442Epoch 00011: val_acc improved from 0.83213 to 0.83378, saving model to ../../models/model-4_seventh_cc-7.h5\n",
      "267475/267475 [==============================] - 1075s - loss: 0.3559 - acc: 0.8442 - val_loss: 0.3830 - val_acc: 0.8338\n",
      "Epoch 13/50\n",
      "267456/267475 [============================>.] - ETA: 0s - loss: 0.3523 - acc: 0.8460Epoch 00012: val_acc improved from 0.83378 to 0.83449, saving model to ../../models/model-4_seventh_cc-7.h5\n",
      "267475/267475 [==============================] - 1077s - loss: 0.3523 - acc: 0.8460 - val_loss: 0.3813 - val_acc: 0.8345\n",
      "Epoch 14/50\n",
      "267456/267475 [============================>.] - ETA: 0s - loss: 0.3499 - acc: 0.8474Epoch 00013: val_acc improved from 0.83449 to 0.83560, saving model to ../../models/model-4_seventh_cc-7.h5\n",
      "267475/267475 [==============================] - 1076s - loss: 0.3499 - acc: 0.8474 - val_loss: 0.3787 - val_acc: 0.8356\n",
      "Epoch 15/50\n",
      "267456/267475 [============================>.] - ETA: 0s - loss: 0.3519 - acc: 0.8461Epoch 00014: val_acc did not improve\n",
      "267475/267475 [==============================] - 1077s - loss: 0.3519 - acc: 0.8461 - val_loss: 0.3814 - val_acc: 0.8349\n",
      "Epoch 16/50\n",
      "267456/267475 [============================>.] - ETA: 0s - loss: 0.3500 - acc: 0.8468Epoch 00015: val_acc improved from 0.83560 to 0.83606, saving model to ../../models/model-4_seventh_cc-7.h5\n",
      "267475/267475 [==============================] - 1077s - loss: 0.3500 - acc: 0.8468 - val_loss: 0.3802 - val_acc: 0.8361\n",
      "Epoch 17/50\n",
      "267456/267475 [============================>.] - ETA: 0s - loss: 0.3466 - acc: 0.8486Epoch 00016: val_acc improved from 0.83606 to 0.83808, saving model to ../../models/model-4_seventh_cc-7.h5\n",
      "267475/267475 [==============================] - 1075s - loss: 0.3466 - acc: 0.8486 - val_loss: 0.3773 - val_acc: 0.8381\n",
      "Epoch 18/50\n",
      "267456/267475 [============================>.] - ETA: 0s - loss: 0.3436 - acc: 0.8502Epoch 00017: val_acc improved from 0.83808 to 0.83816, saving model to ../../models/model-4_seventh_cc-7.h5\n",
      "267475/267475 [==============================] - 1077s - loss: 0.3436 - acc: 0.8502 - val_loss: 0.3751 - val_acc: 0.8382\n",
      "Epoch 19/50\n",
      "267456/267475 [============================>.] - ETA: 0s - loss: 0.3411 - acc: 0.8516Epoch 00018: val_acc did not improve\n",
      "267475/267475 [==============================] - 1077s - loss: 0.3411 - acc: 0.8516 - val_loss: 0.3744 - val_acc: 0.8381\n",
      "Epoch 20/50\n",
      "267456/267475 [============================>.] - ETA: 0s - loss: 0.3398 - acc: 0.8521Epoch 00019: val_acc improved from 0.83816 to 0.83818, saving model to ../../models/model-4_seventh_cc-7.h5\n",
      "267475/267475 [==============================] - 1077s - loss: 0.3398 - acc: 0.8521 - val_loss: 0.3741 - val_acc: 0.8382\n",
      "Epoch 21/50\n",
      "267456/267475 [============================>.] - ETA: 0s - loss: 0.3393 - acc: 0.8523Epoch 00020: val_acc improved from 0.83818 to 0.83824, saving model to ../../models/model-4_seventh_cc-7.h5\n",
      "267475/267475 [==============================] - 1077s - loss: 0.3393 - acc: 0.8523 - val_loss: 0.3751 - val_acc: 0.8382\n",
      "Epoch 22/50\n",
      "267456/267475 [============================>.] - ETA: 0s - loss: 0.3378 - acc: 0.8529Epoch 00021: val_acc improved from 0.83824 to 0.83902, saving model to ../../models/model-4_seventh_cc-7.h5\n",
      "267475/267475 [==============================] - 1077s - loss: 0.3378 - acc: 0.8529 - val_loss: 0.3749 - val_acc: 0.8390\n",
      "Epoch 23/50\n",
      "267456/267475 [============================>.] - ETA: 0s - loss: 0.3379 - acc: 0.8528Epoch 00022: val_acc improved from 0.83902 to 0.83956, saving model to ../../models/model-4_seventh_cc-7.h5\n",
      "267475/267475 [==============================] - 1075s - loss: 0.3379 - acc: 0.8528 - val_loss: 0.3736 - val_acc: 0.8396\n",
      "Epoch 24/50\n",
      "267456/267475 [============================>.] - ETA: 0s - loss: 0.3359 - acc: 0.8540Epoch 00023: val_acc improved from 0.83956 to 0.84016, saving model to ../../models/model-4_seventh_cc-7.h5\n",
      "267475/267475 [==============================] - 1076s - loss: 0.3359 - acc: 0.8540 - val_loss: 0.3717 - val_acc: 0.8402\n",
      "Epoch 25/50\n",
      "267456/267475 [============================>.] - ETA: 0s - loss: 0.3346 - acc: 0.8546Epoch 00024: val_acc did not improve\n",
      "267475/267475 [==============================] - 1075s - loss: 0.3346 - acc: 0.8546 - val_loss: 0.3702 - val_acc: 0.8398\n",
      "Epoch 26/50\n",
      "267456/267475 [============================>.] - ETA: 0s - loss: 0.3350 - acc: 0.8543Epoch 00025: val_acc improved from 0.84016 to 0.84070, saving model to ../../models/model-4_seventh_cc-7.h5\n",
      "267475/267475 [==============================] - 1076s - loss: 0.3350 - acc: 0.8543 - val_loss: 0.3700 - val_acc: 0.8407\n",
      "Epoch 27/50\n",
      "267456/267475 [============================>.] - ETA: 0s - loss: 0.3333 - acc: 0.8552Epoch 00026: val_acc did not improve\n",
      "267475/267475 [==============================] - 1077s - loss: 0.3333 - acc: 0.8552 - val_loss: 0.3728 - val_acc: 0.8397\n",
      "Epoch 28/50\n",
      "267456/267475 [============================>.] - ETA: 0s - loss: 0.3446 - acc: 0.8492Epoch 00027: val_acc did not improve\n",
      "267475/267475 [==============================] - 1077s - loss: 0.3447 - acc: 0.8491 - val_loss: 0.3835 - val_acc: 0.8334\n",
      "Epoch 29/50\n",
      "267456/267475 [============================>.] - ETA: 0s - loss: 0.3469 - acc: 0.8480Epoch 00028: val_acc did not improve\n",
      "267475/267475 [==============================] - 1077s - loss: 0.3469 - acc: 0.8480 - val_loss: 0.3812 - val_acc: 0.8342\n",
      "Epoch 30/50\n",
      "267456/267475 [============================>.] - ETA: 0s - loss: 0.3457 - acc: 0.8486Epoch 00029: val_acc did not improve\n",
      "267475/267475 [==============================] - 1076s - loss: 0.3457 - acc: 0.8486 - val_loss: 0.3792 - val_acc: 0.8354\n",
      "Epoch 31/50\n",
      "267456/267475 [============================>.] - ETA: 0s - loss: 0.3453 - acc: 0.8486Epoch 00030: val_acc did not improve\n",
      "267475/267475 [==============================] - 1077s - loss: 0.3453 - acc: 0.8486 - val_loss: 0.3769 - val_acc: 0.8371\n",
      "Epoch 32/50\n",
      "267456/267475 [============================>.] - ETA: 0s - loss: 0.3461 - acc: 0.8482Epoch 00031: val_acc did not improve\n",
      "267475/267475 [==============================] - 1076s - loss: 0.3461 - acc: 0.8482 - val_loss: 0.3805 - val_acc: 0.8352\n",
      "Epoch 33/50\n",
      "267456/267475 [============================>.] - ETA: 0s - loss: 0.3460 - acc: 0.8484Epoch 00032: val_acc did not improve\n",
      "267475/267475 [==============================] - 1076s - loss: 0.3460 - acc: 0.8484 - val_loss: 0.3786 - val_acc: 0.8365\n",
      "Epoch 34/50\n",
      "267456/267475 [============================>.] - ETA: 0s - loss: 0.3451 - acc: 0.8490Epoch 00033: val_acc did not improve\n",
      "267475/267475 [==============================] - 1076s - loss: 0.3451 - acc: 0.8490 - val_loss: 0.3802 - val_acc: 0.8352\n",
      "Epoch 35/50\n",
      "267456/267475 [============================>.] - ETA: 0s - loss: 0.3447 - acc: 0.8492Epoch 00034: val_acc did not improve\n",
      "267475/267475 [==============================] - 1076s - loss: 0.3447 - acc: 0.8492 - val_loss: 0.3791 - val_acc: 0.8358\n",
      "Epoch 36/50\n",
      "267456/267475 [============================>.] - ETA: 0s - loss: 0.3443 - acc: 0.8492Epoch 00035: val_acc did not improve\n",
      "267475/267475 [==============================] - 1078s - loss: 0.3443 - acc: 0.8492 - val_loss: 0.3774 - val_acc: 0.8371\n",
      "Epoch 37/50\n",
      "267456/267475 [============================>.] - ETA: 0s - loss: 0.3432 - acc: 0.8496Epoch 00036: val_acc did not improve\n",
      "267475/267475 [==============================] - 1078s - loss: 0.3432 - acc: 0.8496 - val_loss: 0.3769 - val_acc: 0.8374\n",
      "Epoch 38/50\n",
      "267456/267475 [============================>.] - ETA: 0s - loss: 0.3417 - acc: 0.8503Epoch 00037: val_acc did not improve\n",
      "267475/267475 [==============================] - 1078s - loss: 0.3417 - acc: 0.8503 - val_loss: 0.3753 - val_acc: 0.8380\n",
      "Epoch 39/50\n",
      "267456/267475 [============================>.] - ETA: 0s - loss: 0.3414 - acc: 0.8504Epoch 00038: val_acc did not improve\n",
      "267475/267475 [==============================] - 1078s - loss: 0.3414 - acc: 0.8504 - val_loss: 0.3754 - val_acc: 0.8376\n",
      "Epoch 40/50\n",
      "267456/267475 [============================>.] - ETA: 0s - loss: 0.3416 - acc: 0.8503Epoch 00039: val_acc did not improve\n",
      "267475/267475 [==============================] - 1076s - loss: 0.3416 - acc: 0.8503 - val_loss: 0.3766 - val_acc: 0.8373\n",
      "Epoch 41/50\n",
      "267456/267475 [============================>.] - ETA: 0s - loss: 0.3411 - acc: 0.8505Epoch 00040: val_acc did not improve\n",
      "267475/267475 [==============================] - 1076s - loss: 0.3411 - acc: 0.8505 - val_loss: 0.3759 - val_acc: 0.8381\n",
      "Epoch 42/50\n",
      "267456/267475 [============================>.] - ETA: 0s - loss: 0.3406 - acc: 0.8507Epoch 00041: val_acc did not improve\n",
      "267475/267475 [==============================] - 1077s - loss: 0.3406 - acc: 0.8507 - val_loss: 0.3756 - val_acc: 0.8378\n",
      "Epoch 43/50\n",
      "267456/267475 [============================>.] - ETA: 0s - loss: 0.3398 - acc: 0.8511Epoch 00042: val_acc did not improve\n",
      "267475/267475 [==============================] - 1077s - loss: 0.3398 - acc: 0.8511 - val_loss: 0.3762 - val_acc: 0.8370\n",
      "Epoch 44/50\n",
      "267456/267475 [============================>.] - ETA: 0s - loss: 0.3398 - acc: 0.8512Epoch 00043: val_acc did not improve\n",
      "267475/267475 [==============================] - 1075s - loss: 0.3398 - acc: 0.8512 - val_loss: 0.3764 - val_acc: 0.8371\n",
      "Epoch 45/50\n",
      "267456/267475 [============================>.] - ETA: 0s - loss: 0.3417 - acc: 0.8504Epoch 00044: val_acc did not improve\n",
      "267475/267475 [==============================] - 1066s - loss: 0.3417 - acc: 0.8504 - val_loss: 0.3773 - val_acc: 0.8374\n",
      "Epoch 46/50\n",
      "267456/267475 [============================>.] - ETA: 0s - loss: 0.3412 - acc: 0.8505Epoch 00045: val_acc did not improve\n",
      "267475/267475 [==============================] - 1061s - loss: 0.3412 - acc: 0.8505 - val_loss: 0.3771 - val_acc: 0.8369\n",
      "Epoch 47/50\n",
      "267456/267475 [============================>.] - ETA: 0s - loss: 0.3409 - acc: 0.8506Epoch 00046: val_acc did not improve\n",
      "267475/267475 [==============================] - 1061s - loss: 0.3409 - acc: 0.8506 - val_loss: 0.3754 - val_acc: 0.8380\n",
      "Epoch 48/50\n",
      "267456/267475 [============================>.] - ETA: 0s - loss: 0.3401 - acc: 0.8511Epoch 00047: val_acc did not improve\n",
      "267475/267475 [==============================] - 1062s - loss: 0.3401 - acc: 0.8511 - val_loss: 0.3761 - val_acc: 0.8375\n",
      "Epoch 49/50\n",
      "267456/267475 [============================>.] - ETA: 0s - loss: 0.3397 - acc: 0.8511Epoch 00048: val_acc did not improve\n",
      "267475/267475 [==============================] - 1062s - loss: 0.3397 - acc: 0.8511 - val_loss: 0.3755 - val_acc: 0.8380\n",
      "Epoch 50/50\n",
      "267456/267475 [============================>.] - ETA: 0s - loss: 0.3400 - acc: 0.8511Epoch 00049: val_acc did not improve\n",
      "267475/267475 [==============================] - 1061s - loss: 0.3400 - acc: 0.8511 - val_loss: 0.3747 - val_acc: 0.8383\n"
     ]
    }
   ],
   "source": [
    "### Train model ###\n",
    "batch_size = 32\n",
    "epochs = 50\n",
    "\n",
    "history = model.fit([X_melody_train, X_chords_train], Y_train, epochs=epochs, validation_data=([X_melody_valid, X_chords_valid], Y_valid,), batch_size=batch_size, callbacks=[bp])\n",
    "# history = model.fit([X_melody_train, X_chords_train],\n",
    "#                     [Y_C_train, Y_Db_train, Y_D_train, Y_Eb_train, Y_E_train, Y_F_train, Y_Gb_train, Y_G_train, Y_Ab_train, Y_A_train, Y_Bb_train, Y_B_train],\n",
    "#                     epochs=epochs, \n",
    "#                     validation_data=([X_melody_valid, X_chords_valid],\n",
    "#                                      [Y_C_valid, Y_Db_valid, Y_D_valid, Y_Eb_valid, Y_E_valid, Y_F_valid, Y_Gb_valid, Y_G_valid, Y_Ab_valid, Y_A_valid, Y_Bb_valid, Y_B_valid]), \n",
    "#                     batch_size=batch_size)\n"
   ]
  },
  {
   "cell_type": "code",
   "execution_count": 12,
   "metadata": {},
   "outputs": [
    {
     "data": {
      "text/plain": [
       "<matplotlib.figure.Figure at 0x7fbd92f46400>"
      ]
     },
     "metadata": {},
     "output_type": "display_data"
    },
    {
     "data": {
      "image/png": "[encoded data removed]",
      "text/plain": [
       "<matplotlib.figure.Figure at 0x7fbd9bde80b8>"
      ]
     },
     "metadata": {},
     "output_type": "display_data"
    }
   ],
   "source": [
    "### Visualize model learning ###\n",
    "plt.clf()\n",
    "\n",
    "plt.figure(figsize=(15,5))\n",
    "plt.subplot(1, 2, 1)\n",
    "plt.plot(history.history['acc'])\n",
    "plt.plot(history.history['val_acc'])\n",
    "plt.title('model accuracy')\n",
    "plt.ylabel('accuracy')\n",
    "plt.xlabel('epoch')\n",
    "plt.legend(['train', 'validation'], loc='upper left')\n",
    "# plt.show()\n",
    "\n",
    "plt.subplot(1, 2, 2)\n",
    "plt.plot(history.history['loss'])\n",
    "plt.plot(history.history['val_loss'])\n",
    "plt.title('model loss')\n",
    "plt.ylabel('loss')\n",
    "plt.xlabel('epoch')\n",
    "plt.legend(['train', 'validation'], loc='upper left')\n",
    "plt.tight_layout()\n",
    "plt.suptitle(\"Training history of root model\", fontsize=16)\n",
    "plt.subplots_adjust(top=0.85)\n",
    "plt.show()"
   ]
  },
  {
   "cell_type": "code",
   "execution_count": 9,
   "metadata": {
    "collapsed": true
   },
   "outputs": [],
   "source": [
    "### Load best performance model ###\n",
    "model = load_model(\"../../models/model-4_seventh_cc-7.h5\")"
   ]
  },
  {
   "cell_type": "code",
   "execution_count": 10,
   "metadata": {},
   "outputs": [
    {
     "name": "stdout",
     "output_type": "stream",
     "text": [
      "Categorical accuracy of combined chord prediction: 0.8408\n",
      "TP: 89003 TN: 248358 FP: 22287 FN: 41572\n",
      "289930 270645\n",
      "111290 130575\n",
      "Kappa score of combined chord prediction: 0.6231\n"
     ]
    }
   ],
   "source": [
    "### Evaluate predictions ###\n",
    "# [C_pred, Db_pred, D_pred, Eb_pred, E_pred, F_pred, Gb_pred, G_pred, Ab_pred, A_pred, Bb_pred, B_pred] = model.predict([X_melody_test, X_chords_test])\n",
    "chord_pred = model.predict([X_melody_test, X_chords_test])\n",
    "\n",
    "# Build tensor of combined predictions\n",
    "# chord_pred = np.zeros((len(test_index), n_chords), dtype='float32')\n",
    "# for i, (root_softmax, suffix_softmax) in enumerate(zip(root_pred, suffix_pred)):\n",
    "#     root_index = np.argmax(root_softmax)\n",
    "#     suffix_index = np.argmax(suffix_softmax)\n",
    "#     root_str = index_roots[root_index]\n",
    "#     suffix_str = index_suffixes[suffix_index]\n",
    "#     label = root_str + suffix_str if not root_str == 'NC' else 'NC' \n",
    "#     chord_pred[i, chords_index[label]] = 1\n",
    "    \n",
    "\n",
    "# Compute accuracy and kappa score \n",
    "# print(\"Categorical accuracy of root prediction: {0:.4f}\".format(harmoutil.compute_accuracy_score(Y_roots_test, harmoutil.softmax_to_argmax(root_pred))))\n",
    "# print(\"Categorical accuracy of suffix prediction: {0:.4f}\".format(harmoutil.compute_accuracy_score(Y_suffixes_test, harmoutil.softmax_to_argmax(suffix_pred))))\n",
    "print(\"Categorical accuracy of combined chord prediction: {0:.4f}\".format(harmoutil.compute_multiclass_binary_accuracy_score(Y_test, chord_pred)))\n",
    "\n",
    "# print(\"Kappa score of root prediction: {0:.4f}\".format(harmoutil.compute_kappa_score(Y_roots_test, harmoutil.softmax_to_argmax(root_pred))))\n",
    "# print(\"Kappa score of suffix prediction: {0:.4f}\".format(harmoutil.compute_kappa_score(Y_suffixes_test, harmoutil.softmax_to_argmax(suffix_pred))))\n",
    "print(\"Kappa score of combined chord prediction: {0:.4f}\".format(harmoutil.compute_multiclass_binary_kappa_score(Y_test, chord_pred)))"
   ]
  },
  {
   "cell_type": "code",
   "execution_count": 11,
   "metadata": {
    "scrolled": false
   },
   "outputs": [
    {
     "name": "stdout",
     "output_type": "stream",
     "text": [
      "[[5.0628461e-02 9.3288362e-01 2.0769142e-01 8.4836902e-03 9.0959156e-01\n",
      "  1.8887846e-02 7.3782921e-01 7.5980186e-02 4.4979683e-01 4.1609269e-02\n",
      "  4.7721699e-01 2.5695109e-01]\n",
      " [1.2974587e-01 1.3122833e-01 4.5468554e-01 5.3156120e-01 1.9455187e-02\n",
      "  6.4661133e-01 4.0208131e-01 1.6597950e-01 1.0907074e-01 4.7915801e-01\n",
      "  2.8388700e-01 5.7900834e-01]\n",
      " [6.0703289e-02 9.0387207e-01 4.4775162e-02 2.6170263e-02 1.9831559e-01\n",
      "  8.8044816e-01 4.6153083e-02 5.1619023e-02 7.5987697e-01 1.6179517e-01\n",
      "  1.1096906e-02 7.2613955e-01]\n",
      " [2.5290650e-01 8.6801782e-02 2.9686087e-01 7.4100089e-01 8.6357482e-03\n",
      "  8.9728570e-01 9.1119193e-02 1.0443248e-02 5.0529772e-01 5.8714662e-02\n",
      "  9.9116349e-01 1.3223315e-03]\n",
      " [7.4586689e-01 8.5305944e-02 7.5265564e-02 8.3123231e-01 1.4433399e-01\n",
      "  3.0244550e-02 7.2830725e-01 5.6288756e-02 8.2705224e-01 1.3290294e-01\n",
      "  5.7527110e-02 1.9305804e-01]\n",
      " [7.6492542e-01 6.5129235e-02 8.5615122e-01 3.1220241e-02 8.1269309e-02\n",
      "  2.2776385e-01 2.2621936e-01 4.7093061e-01 6.1086889e-02 5.5847555e-01\n",
      "  1.7968852e-02 1.1794008e-01]\n",
      " [7.4860764e-01 6.5860488e-03 9.3913263e-01 9.0849688e-03 7.7774562e-02\n",
      "  9.2836881e-01 3.4487408e-02 1.3879656e-02 1.7735288e-01 9.8179823e-01\n",
      "  2.2992054e-03 5.2058768e-02]\n",
      " [9.8244047e-01 1.8407623e-04 9.4154674e-01 3.8660800e-01 3.4289849e-03\n",
      "  2.4218798e-01 9.7387743e-01 1.4253098e-02 1.2001283e-03 9.9394280e-01\n",
      "  7.2044656e-02 5.7346351e-02]\n",
      " [8.2397228e-01 8.2515758e-03 6.9070679e-01 4.4637274e-02 5.3577000e-01\n",
      "  4.1473296e-01 1.1431253e-02 7.1992815e-01 1.9862130e-01 7.7081174e-02\n",
      "  8.5094112e-01 2.9778317e-02]\n",
      " [8.0222028e-01 1.4508126e-02 9.3323129e-01 5.3896774e-03 2.9487023e-02\n",
      "  9.7794026e-01 1.0406620e-02 4.6010833e-02 9.7716206e-01 1.7194314e-02\n",
      "  4.2935327e-02 1.4443332e-01]\n",
      " [7.0665461e-01 1.3948794e-01 1.4662325e-01 9.3252605e-01 6.2419817e-02\n",
      "  3.7246618e-02 8.5070658e-01 9.6732058e-02 8.2842577e-01 4.0025018e-02\n",
      "  3.8745737e-01 9.1223307e-02]\n",
      " [4.3424953e-02 6.0733259e-01 4.6045905e-01 3.7774868e-02 3.8933218e-01\n",
      "  5.6844485e-01 6.4116746e-02 7.5592089e-01 1.1360009e-01 3.9103195e-01\n",
      "  1.5494186e-01 5.7053518e-01]\n",
      " [9.9088341e-01 1.7099938e-03 4.4872469e-01 5.8213073e-01 1.7931866e-02\n",
      "  1.0571497e-01 8.6915064e-01 3.2287460e-02 1.9940194e-01 5.0605935e-01\n",
      "  1.7536242e-01 1.2037686e-02]\n",
      " [3.7090577e-02 3.8300076e-01 3.7010500e-01 4.1112211e-01 6.3837610e-02\n",
      "  1.1418281e-01 4.3009445e-01 6.6274351e-01 3.2522745e-02 9.7772107e-02\n",
      "  8.9600348e-01 2.1024089e-01]\n",
      " [5.9474055e-02 1.3439488e-01 2.4933785e-01 9.2718655e-01 6.7163911e-03\n",
      "  9.2848986e-02 9.0184622e-02 8.9325333e-01 5.7199271e-03 2.0997062e-01\n",
      "  8.3171940e-01 5.3255338e-02]\n",
      " [5.0173318e-01 6.7966712e-01 1.2817606e-01 1.8902200e-01 4.9217898e-01\n",
      "  3.0577913e-01 6.2860662e-01 3.0354184e-01 1.5060627e-01 2.0421611e-01\n",
      "  7.0220572e-01 1.1606333e-01]\n",
      " [8.4012501e-02 2.5030930e-02 9.0684891e-01 8.4767062e-03 9.8737526e-01\n",
      "  1.0900081e-02 7.1706190e-03 9.3500620e-01 3.2357204e-01 3.2390360e-02\n",
      "  2.2967084e-01 8.3103019e-01]\n",
      " [4.3721385e-02 9.7593880e-01 1.3840141e-02 3.0284323e-02 9.7466475e-01\n",
      "  1.7080114e-03 3.6609698e-02 9.1938573e-01 1.6633401e-02 9.4529784e-01\n",
      "  8.5206041e-03 7.3679090e-02]\n",
      " [8.4460907e-02 3.1508681e-01 2.3600474e-01 5.9915395e-03 4.0325043e-01\n",
      "  2.3203687e-01 9.6920542e-02 1.5005396e-01 4.3405089e-01 3.9757648e-01\n",
      "  1.9142291e-04 9.4153035e-01]\n",
      " [3.8303027e-01 2.9450539e-01 2.7399030e-01 3.2130861e-01 3.1927121e-01\n",
      "  3.5102502e-01 2.9223996e-01 3.1835118e-01 3.2175189e-01 3.0908197e-01\n",
      "  3.4539127e-01 2.8265935e-01]]\n",
      "[[0. 1. 0. 0. 1. 0. 1. 0. 0. 0. 1. 0.]\n",
      " [0. 0. 0. 1. 0. 0. 1. 0. 0. 1. 0. 1.]\n",
      " [0. 1. 0. 0. 0. 1. 0. 0. 1. 0. 0. 1.]\n",
      " [0. 0. 1. 0. 0. 1. 0. 0. 1. 0. 1. 0.]\n",
      " [1. 0. 0. 1. 0. 0. 0. 1. 1. 0. 0. 0.]\n",
      " [1. 0. 1. 0. 0. 1. 0. 0. 0. 1. 0. 0.]\n",
      " [1. 0. 1. 0. 0. 1. 0. 0. 0. 1. 0. 0.]\n",
      " [1. 0. 1. 0. 0. 0. 1. 0. 0. 1. 0. 0.]\n",
      " [1. 0. 0. 0. 1. 0. 0. 1. 0. 0. 1. 0.]\n",
      " [1. 0. 1. 0. 0. 1. 0. 0. 1. 0. 0. 0.]\n",
      " [1. 0. 0. 1. 0. 0. 1. 0. 1. 0. 0. 0.]\n",
      " [0. 0. 1. 0. 0. 1. 0. 1. 0. 0. 0. 1.]\n",
      " [1. 0. 1. 0. 0. 0. 1. 0. 0. 1. 0. 0.]\n",
      " [0. 0. 0. 1. 0. 0. 1. 0. 0. 0. 1. 1.]\n",
      " [1. 0. 0. 1. 0. 0. 0. 1. 0. 0. 1. 0.]\n",
      " [0. 1. 0. 0. 0. 0. 1. 0. 0. 0. 1. 0.]\n",
      " [0. 0. 1. 0. 1. 0. 0. 1. 0. 0. 0. 1.]\n",
      " [0. 1. 0. 0. 1. 0. 0. 1. 0. 1. 0. 0.]\n",
      " [0. 1. 0. 0. 0. 1. 0. 0. 1. 0. 0. 1.]\n",
      " [1. 0. 0. 1. 0. 0. 1. 0. 1. 0. 0. 0.]]\n"
     ]
    }
   ],
   "source": [
    "print(chord_pred[:20])\n",
    "print(Y_test[:20])"
   ]
  },
  {
   "cell_type": "code",
   "execution_count": 12,
   "metadata": {},
   "outputs": [
    {
     "name": "stdout",
     "output_type": "stream",
     "text": [
      "Avg notes per prediction: 3.924420306208429\n"
     ]
    }
   ],
   "source": [
    "counts = []\n",
    "for row in chord_pred:\n",
    "    result = []\n",
    "    count = 0\n",
    "    for note in row:\n",
    "        result.append(round(note))\n",
    "        count += note\n",
    "    counts.append(count)\n",
    "#     print(result)\n",
    "print(\"Avg notes per prediction:\", sum(counts)/len(counts))"
   ]
  },
  {
   "cell_type": "code",
   "execution_count": 13,
   "metadata": {},
   "outputs": [
    {
     "name": "stdout",
     "output_type": "stream",
     "text": [
      "F-score: 0.7360\n"
     ]
    }
   ],
   "source": [
    "print(\"F-score: {0:.4f}\".format(harmoutil.compute_binary_fscore(Y_test, chord_pred)))"
   ]
  },
  {
   "cell_type": "code",
   "execution_count": 28,
   "metadata": {
    "scrolled": false
   },
   "outputs": [
    {
     "name": "stdout",
     "output_type": "stream",
     "text": [
      "21010\n",
      "Avg score: 1.9002379819133746\n",
      "Std: 1.207049317049029\n"
     ]
    }
   ],
   "source": [
    "### Check inter-chord performance ###\n",
    "\n",
    "miss_pred_pitches = []\n",
    "miss_test_pitches = []\n",
    "count = 0\n",
    "\n",
    "for pred_pitches, test_pitches in zip(chord_pred, Y_test):\n",
    "    round_pred_pitches = [int(round(pitch)) for pitch in pred_pitches]\n",
    "    round_test_pitches = [int(pitch) for pitch in test_pitches]\n",
    "    \n",
    "    if not round_pred_pitches == round_test_pitches:\n",
    "        miss_pred_pitches.append(round_pred_pitches)\n",
    "        miss_test_pitches.append(round_test_pitches)\n",
    "        count+=1\n",
    "    \n",
    "print(count)\n",
    "\n",
    "def chord_grader(pred, test):\n",
    "    score = 0\n",
    "    for pr_pitch, te_pitch in zip(pred, test):\n",
    "        score += int((pr_pitch == te_pitch) and pr_pitch == 1)\n",
    "    return score\n",
    "\n",
    "scores = []\n",
    "for pred_pitches, test_pitches in zip(miss_pred_pitches, miss_test_pitches):\n",
    "#     print(pred_pitches, test_pitches)\n",
    "    scores.append(chord_grader(pred_pitches, test_pitches))\n",
    "    \n",
    "print(\"Avg score:\", sum(scores)/len(scores))\n",
    "print(\"Std:\", ((1/len(scores))*sum([(i-sum(scores)/len(scores))**2 for i in scores]))**(1/2))"
   ]
  },
  {
   "cell_type": "code",
   "execution_count": 25,
   "metadata": {},
   "outputs": [
    {
     "name": "stdout",
     "output_type": "stream",
     "text": [
      "33435\n"
     ]
    }
   ],
   "source": [
    "print(len(Y_test))"
   ]
  },
  {
   "cell_type": "code",
   "execution_count": null,
   "metadata": {
    "collapsed": true
   },
   "outputs": [],
   "source": []
  }
 ],
 "metadata": {
  "kernelspec": {
   "display_name": "Python 3",
   "language": "python",
   "name": "python3"
  },
  "language_info": {
   "codemirror_mode": {
    "name": "ipython",
    "version": 3
   },
   "file_extension": ".py",
   "mimetype": "text/x-python",
   "name": "python",
   "nbconvert_exporter": "python",
   "pygments_lexer": "ipython3",
   "version": "3.5.2"
  }
 },
 "nbformat": 4,
 "nbformat_minor": 2
}
