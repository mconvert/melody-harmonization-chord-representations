{
 "cells": [
  {
   "cell_type": "code",
   "execution_count": 1,
   "metadata": {},
   "outputs": [
    {
     "name": "stderr",
     "output_type": "stream",
     "text": [
      "/home/maxime/.local/lib/python3.5/site-packages/h5py/__init__.py:34: FutureWarning: Conversion of the second argument of issubdtype from `float` to `np.floating` is deprecated. In future, it will be treated as `np.float64 == np.dtype(float).type`.\n",
      "  from ._conv import register_converters as _register_converters\n",
      "Using TensorFlow backend.\n"
     ]
    }
   ],
   "source": [
    "import re\n",
    "import time\n",
    "\n",
    "import numpy as np\n",
    "import matplotlib.pyplot as plt\n",
    "\n",
    "from sklearn.metrics import confusion_matrix\n",
    "from sklearn.model_selection import StratifiedShuffleSplit\n",
    "from keras.models import Model\n",
    "from keras.models import load_model\n",
    "from keras.layers import Input, Dense, GRU, concatenate\n",
    "from keras import metrics\n",
    "from keras import backend as K\n",
    "from keras.utils import plot_model\n",
    "from keras.callbacks import EarlyStopping, ModelCheckpoint\n",
    "\n",
    "from IPython.display import SVG\n",
    "from keras.utils.vis_utils import model_to_dot\n",
    "\n",
    "# Custom library for the project\n",
    "import sys\n",
    "sys.path.insert(0, '../../../src')\n",
    "import harmoutil\n",
    "\n",
    "%matplotlib inline"
   ]
  },
  {
   "cell_type": "code",
   "execution_count": 17,
   "metadata": {},
   "outputs": [
    {
     "data": {
      "text/plain": [
       "<module 'harmoutil' from '../../../src/harmoutil.py'>"
      ]
     },
     "execution_count": 17,
     "metadata": {},
     "output_type": "execute_result"
    }
   ],
   "source": [
    "# # Remove when done with kernel\n",
    "import importlib\n",
    "importlib.reload(harmoutil)"
   ]
  },
  {
   "cell_type": "code",
   "execution_count": 3,
   "metadata": {},
   "outputs": [
    {
     "name": "stdout",
     "output_type": "stream",
     "text": [
      "334344 334344 334344 2209944\n"
     ]
    }
   ],
   "source": [
    "### Load raw data ###\n",
    "raw_data = harmoutil.load_pickled_data(\"../../../data/refined_data.pkl\") # lists of (chord label, melody seqs) by sections\n",
    "\n",
    "### Augment data ###\n",
    "augmented_data = harmoutil.transpose_and_augment_data(raw_data)\n",
    "\n",
    "data = [harmoutil.to_sevenths(section) for section in augmented_data]\n",
    "data = [harmoutil.melody_to_octave_range(section) for section in data]\n",
    "\n",
    "chords = [ch for section in data for ch, mel in section]\n",
    "# roots, suffixes = harmoutil.roots_and_suffixes(chords) # added for model 2\n",
    "melodies_by_beats = [mel for section in data for ch, mel in section]\n",
    "\n",
    "melodies_by_notes = []\n",
    "for mel in melodies_by_beats:\n",
    "    melodies_by_notes.append([n for b in mel for n in b])\n",
    "notes = [n for sec in melodies_by_notes for n in sec]\n",
    "print(len(chords), len(melodies_by_beats), len(melodies_by_notes), len(notes))"
   ]
  },
  {
   "cell_type": "code",
   "execution_count": 4,
   "metadata": {
    "collapsed": true
   },
   "outputs": [],
   "source": [
    "### Define class integer mapping ###\n",
    "notes_index = dict(\n",
    "    [(c, i) for i, c in enumerate(sorted(list(set(notes)))[1:])])\n",
    "notes_index[-1] = len(notes_index)\n",
    "notes_index['<end>'] = len(notes_index)\n",
    "notes_index['<pad>'] = len(notes_index)\n",
    "\n",
    "index_notes = dict(\n",
    "    [(v, k) for k, v in notes_index.items()])\n",
    "\n",
    "\n",
    "chords_index = dict(\n",
    "    [(c, i) for i, c in enumerate(sorted(list(set(chords))))])\n",
    "chords_index['<bos>'] = len(chords_index)\n",
    "chords_index['<eos>'] = len(chords_index)\n",
    "\n",
    "index_chords = dict(\n",
    "    [(v, k) for k, v in chords_index.items()])"
   ]
  },
  {
   "cell_type": "code",
   "execution_count": 5,
   "metadata": {},
   "outputs": [
    {
     "name": "stdout",
     "output_type": "stream",
     "text": [
      "Total number of distinct chord labels: 195\n",
      "Total number of distinct melody notes: 15\n",
      "Number notes in chord: 12\n",
      "Maximum length of melody sequences: 135\n",
      "Maximum length of chord sequences: 58\n",
      "Number of chords taken into account for next prediction: 5\n"
     ]
    }
   ],
   "source": [
    "### Numerical variables ###\n",
    "n_chords = len(chords_index)\n",
    "n_notes = len(notes_index)\n",
    "n_chord_notes = 12\n",
    "max_melody_seq_len = max([len(mel) for mel in melodies_by_notes])\n",
    "max_chords_seq_len = max([len(section) for section in data])\n",
    "ch_context_window = 5\n",
    "\n",
    "\n",
    "print(\"Total number of distinct chord labels:\", n_chords)\n",
    "print(\"Total number of distinct melody notes:\", n_notes)\n",
    "print(\"Number notes in chord:\", n_chord_notes)\n",
    "print(\"Maximum length of melody sequences:\", max_melody_seq_len)\n",
    "print(\"Maximum length of chord sequences:\", max_chords_seq_len)\n",
    "print(\"Number of chords taken into account for next prediction:\", ch_context_window)"
   ]
  },
  {
   "cell_type": "code",
   "execution_count": 6,
   "metadata": {},
   "outputs": [
    {
     "name": "stdout",
     "output_type": "stream",
     "text": [
      "363228 363228\n",
      "334344 334344\n",
      "45115280 45136440\n"
     ]
    }
   ],
   "source": [
    "### Build tensors ###\n",
    "\n",
    "# Build data lists\n",
    "input_melody_eos = []\n",
    "input_chords_eos = []\n",
    "target_chords_eos = []\n",
    "\n",
    "for section in data:\n",
    "    chord_sequence = [ch for ch, mel in section]\n",
    "    padded_sequence = ['<bos>']*ch_context_window + chord_sequence + ['<eos>']\n",
    "    for i in range(len(chord_sequence)+1):\n",
    "        input_chords_eos.append(padded_sequence[i:i+ch_context_window])\n",
    "        target_chords_eos.append(padded_sequence[i+ch_context_window])\n",
    "\n",
    "    chord_mel = [mel for ch, mel in section]\n",
    "    melody_sequence = []\n",
    "    for mel in chord_mel:\n",
    "        ch_mel = []\n",
    "        for b in mel:\n",
    "            for n in b:\n",
    "                ch_mel.append(n)\n",
    "        melody_sequence.append(ch_mel)\n",
    "    melody_sequence += [['<end>']]\n",
    "    input_melody_eos += melody_sequence\n",
    "\n",
    "print(len(target_chords_eos), len(input_chords_eos))    \n",
    "target_chords = [target_chords_eos[i] for i in range(len(target_chords_eos)) if not target_chords_eos[i] == '<eos>']\n",
    "input_chords = [input_chords_eos[i] for i in range(len(input_chords_eos)) if not target_chords_eos[i] == '<eos>']\n",
    "input_melody = [input_melody_eos[i] for i in range(len(input_melody_eos)) if not target_chords_eos[i] == '<eos>']    \n",
    "print(len(target_chords), len(input_chords))\n",
    "\n",
    "\n",
    "n_entries = len(target_chords)\n",
    "\n",
    "X_melody = np.zeros((n_entries, max_melody_seq_len, n_notes), dtype='float32')\n",
    "X_chords = np.zeros((n_entries, ch_context_window, n_chord_notes), dtype='float32')\n",
    "Y = np.zeros((n_entries, n_chord_notes), dtype='float32')\n",
    "\n",
    "# Y_C = np.zeros((n_entries, 1), dtype='float32')\n",
    "# Y_Db = np.zeros((n_entries, 1), dtype='float32')\n",
    "# Y_D = np.zeros((n_entries, 1), dtype='float32')\n",
    "# Y_Eb = np.zeros((n_entries, 1), dtype='float32')\n",
    "# Y_E = np.zeros((n_entries, 1), dtype='float32')\n",
    "# Y_F = np.zeros((n_entries, 1), dtype='float32')\n",
    "# Y_Gb = np.zeros((n_entries, 1), dtype='float32')\n",
    "# Y_G = np.zeros((n_entries, 1), dtype='float32')\n",
    "# Y_Ab = np.zeros((n_entries, 1), dtype='float32')\n",
    "# Y_A = np.zeros((n_entries, 1), dtype='float32')\n",
    "# Y_Bb = np.zeros((n_entries, 1), dtype='float32')\n",
    "# Y_B = np.zeros((n_entries, 1), dtype='float32')\n",
    "\n",
    "\n",
    "\n",
    "for i, (in_mel, in_ch, tg_ch) in enumerate(zip(input_melody, input_chords, target_chords)):\n",
    "    \n",
    "    # target chord\n",
    "    if tg_ch == '<bos>':\n",
    "        tg_chord_notes = [0]*12 # set <bos> to list of 0s\n",
    "    else:\n",
    "        tg_chord_notes = harmoutil.chord_to_notes(tg_ch)\n",
    "\n",
    "    for j, pres in enumerate(tg_chord_notes):\n",
    "        Y[i, j] = pres\n",
    "        \n",
    "        \n",
    "    # input chords\n",
    "    for j, ch in enumerate(in_ch):\n",
    "        if ch == '<bos>':\n",
    "            in_chord_notes = [0]*12 # set <bos> to list of 0s\n",
    "        else:\n",
    "            in_chord_notes = harmoutil.chord_to_notes(ch)\n",
    "        for k, pres in enumerate(in_chord_notes):\n",
    "            X_chords[i, j, k] = pres\n",
    "            \n",
    "    \n",
    "    # input melody\n",
    "    padded_melody = in_mel + ['<pad>']*(max_melody_seq_len - len(in_mel))\n",
    "    for k, note in enumerate(padded_melody):\n",
    "        X_melody[i, k, notes_index[note]] = 1\n",
    "        \n",
    "        \n",
    "            \n",
    "print(int(np.sum(X_melody)), n_entries*max_melody_seq_len)\n",
    "# print(int(np.sum(X_chords)), n_entries*ch_context_window)\n",
    "# print(int(np.sum(Y)), n_entries)\n"
   ]
  },
  {
   "cell_type": "code",
   "execution_count": 7,
   "metadata": {},
   "outputs": [
    {
     "name": "stdout",
     "output_type": "stream",
     "text": [
      "(267475, 135, 15) (267475, 5, 12) (267475, 12)\n",
      "(33434, 135, 15) (33434, 5, 12) (33434, 12)\n",
      "(33435, 135, 15) (33435, 5, 12) (33435, 12)\n"
     ]
    }
   ],
   "source": [
    "### Train/Validation/Test sets ###\n",
    "seed = 1\n",
    "\n",
    "strat_split = StratifiedShuffleSplit(n_splits=1, test_size=0.2, random_state=seed)\n",
    "\n",
    "for train_index, aux_index in strat_split.split(X_chords, Y):\n",
    "    # train variables\n",
    "    X_melody_train = X_melody[train_index]\n",
    "    X_chords_train = X_chords[train_index]\n",
    "    Y_train = Y[train_index]\n",
    "    \n",
    "    # auxiliary variables\n",
    "    X_melody_aux = X_melody[aux_index]\n",
    "    X_chords_aux = X_chords[aux_index]\n",
    "    Y_aux = Y[aux_index]\n",
    "    \n",
    "    \n",
    "strat_split = StratifiedShuffleSplit(n_splits=1, test_size=0.5, random_state=seed)\n",
    "for valid_index, test_index in strat_split.split(X_chords_aux, Y_aux):\n",
    "    # validation variables\n",
    "    X_melody_valid = X_melody_aux[valid_index]\n",
    "    X_chords_valid = X_chords_aux[valid_index]\n",
    "    Y_valid = Y_aux[valid_index]\n",
    "    \n",
    "    # test variables\n",
    "    X_melody_test = X_melody_aux[test_index]\n",
    "    X_chords_test = X_chords_aux[test_index]\n",
    "    Y_test = Y_aux[test_index]    \n",
    "    \n",
    "    \n",
    "print(X_melody_train.shape, X_chords_train.shape, Y_train.shape)\n",
    "print(X_melody_valid.shape, X_chords_valid.shape, Y_valid.shape)\n",
    "print(X_melody_test.shape, X_chords_test.shape, Y_test.shape)\n",
    "\n",
    "# train_size = melody_train.shape[0]\n",
    "# test_size = melody_test.shape[0]"
   ]
  },
  {
   "cell_type": "code",
   "execution_count": 8,
   "metadata": {},
   "outputs": [
    {
     "name": "stdout",
     "output_type": "stream",
     "text": [
      "____________________________________________________________________________________________________\n",
      "Layer (type)                     Output Shape          Param #     Connected to                     \n",
      "====================================================================================================\n",
      "input_1 (InputLayer)             (None, 135, 15)       0                                            \n",
      "____________________________________________________________________________________________________\n",
      "input_2 (InputLayer)             (None, 5, 12)         0                                            \n",
      "____________________________________________________________________________________________________\n",
      "gru_1 (GRU)                      (None, 128)           55296       input_1[0][0]                    \n",
      "____________________________________________________________________________________________________\n",
      "gru_2 (GRU)                      (None, 128)           54144       input_2[0][0]                    \n",
      "____________________________________________________________________________________________________\n",
      "concatenate_1 (Concatenate)      (None, 256)           0           gru_1[0][0]                      \n",
      "                                                                   gru_2[0][0]                      \n",
      "____________________________________________________________________________________________________\n",
      "dense_1 (Dense)                  (None, 12)            3084        concatenate_1[0][0]              \n",
      "====================================================================================================\n",
      "Total params: 112,524\n",
      "Trainable params: 112,524\n",
      "Non-trainable params: 0\n",
      "____________________________________________________________________________________________________\n",
      "None\n"
     ]
    }
   ],
   "source": [
    "### Define neural net architectur ###\n",
    "latent_dim = 128\n",
    "\n",
    "melody_input = Input(shape=(max_melody_seq_len, n_notes))\n",
    "melody_gru = GRU(latent_dim)(melody_input)\n",
    "\n",
    "chords_input = Input(shape=(ch_context_window, n_chord_notes))\n",
    "chords_gru = GRU(latent_dim)(chords_input)\n",
    "\n",
    "concat = concatenate([melody_gru, chords_gru])\n",
    "\n",
    "# chord_dense = Dense(n_chords, activation='softmax')(concat)\n",
    "\n",
    "chord_notes_dense = Dense(n_chord_notes, activation='sigmoid')(concat)\n",
    "\n",
    "# C_o = Dense(1, activation='sigmoid')(concat)\n",
    "# Db_o = Dense(1, activation='sigmoid')(concat)\n",
    "# D_o = Dense(1, activation='sigmoid')(concat)\n",
    "# Eb_o = Dense(1, activation='sigmoid')(concat)\n",
    "# E_o = Dense(1, activation='sigmoid')(concat)\n",
    "# F_o = Dense(1, activation='sigmoid')(concat)\n",
    "# Gb_o = Dense(1, activation='sigmoid')(concat)\n",
    "# G_o = Dense(1, activation='sigmoid')(concat)\n",
    "# Ab_o = Dense(1, activation='sigmoid')(concat)\n",
    "# A_o = Dense(1, activation='sigmoid')(concat)\n",
    "# Bb_o = Dense(1, activation='sigmoid')(concat)\n",
    "# B_o = Dense(1, activation='sigmoid')(concat)\n",
    "\n",
    "\n",
    "model = Model([melody_input, chords_input], [chord_notes_dense])\n",
    "model.compile(loss='binary_crossentropy',\n",
    "              optimizer='adam',\n",
    "              metrics=['accuracy'])\n",
    "\n",
    "print(model.summary())\n",
    "# SVG(model_to_dot(model).create(prog='dot', format='svg'))"
   ]
  },
  {
   "cell_type": "code",
   "execution_count": 9,
   "metadata": {
    "collapsed": true
   },
   "outputs": [],
   "source": [
    "### Introduce Early-Stopping and Save Best Performance callbacks ###\n",
    "# es = EarlyStopping(monitor='val_loss', min_delta=0, patience=5, verbose=1, mode='min')\n",
    "filepath = \"../../models/model-4_seventh_cc-5.h5\"\n",
    "bp = ModelCheckpoint(filepath, monitor='val_acc', verbose=1, save_best_only=True, mode='max')\n",
    "\n",
    "# filepath = \"../../models/model-4_cc-5.h5\"\n",
    "# mabpc = MultiAccuracyBestPerformanceCheckpoint(filepath, monitor=['val_dense_1_acc', 'val_dense_2_acc'], verbose=1)\n"
   ]
  },
  {
   "cell_type": "code",
   "execution_count": 10,
   "metadata": {
    "scrolled": false
   },
   "outputs": [
    {
     "name": "stdout",
     "output_type": "stream",
     "text": [
      "Train on 267475 samples, validate on 33434 samples\n",
      "Epoch 1/50\n",
      "267456/267475 [============================>.] - ETA: 0s - loss: 0.5238 - acc: 0.7492Epoch 00000: val_acc improved from -inf to 0.77303, saving model to ../../models/model-4_seventh_cc-5.h5\n",
      "267475/267475 [==============================] - 1359s - loss: 0.5238 - acc: 0.7492 - val_loss: 0.4890 - val_acc: 0.7730\n",
      "Epoch 2/50\n",
      "267456/267475 [============================>.] - ETA: 0s - loss: 0.4688 - acc: 0.7852Epoch 00001: val_acc improved from 0.77303 to 0.79197, saving model to ../../models/model-4_seventh_cc-5.h5\n",
      "267475/267475 [==============================] - 1355s - loss: 0.4688 - acc: 0.7852 - val_loss: 0.4582 - val_acc: 0.7920\n",
      "Epoch 3/50\n",
      "267456/267475 [============================>.] - ETA: 0s - loss: 0.4429 - acc: 0.8001Epoch 00002: val_acc improved from 0.79197 to 0.80104, saving model to ../../models/model-4_seventh_cc-5.h5\n",
      "267475/267475 [==============================] - 1355s - loss: 0.4429 - acc: 0.8001 - val_loss: 0.4411 - val_acc: 0.8010\n",
      "Epoch 4/50\n",
      "267456/267475 [============================>.] - ETA: 0s - loss: 0.4234 - acc: 0.8098Epoch 00003: val_acc improved from 0.80104 to 0.80913, saving model to ../../models/model-4_seventh_cc-5.h5\n",
      "267475/267475 [==============================] - 1355s - loss: 0.4234 - acc: 0.8098 - val_loss: 0.4258 - val_acc: 0.8091\n",
      "Epoch 5/50\n",
      "267456/267475 [============================>.] - ETA: 0s - loss: 0.4082 - acc: 0.8175Epoch 00004: val_acc improved from 0.80913 to 0.81523, saving model to ../../models/model-4_seventh_cc-5.h5\n",
      "267475/267475 [==============================] - 1355s - loss: 0.4082 - acc: 0.8175 - val_loss: 0.4149 - val_acc: 0.8152\n",
      "Epoch 6/50\n",
      "267456/267475 [============================>.] - ETA: 0s - loss: 0.3959 - acc: 0.8241Epoch 00005: val_acc improved from 0.81523 to 0.82016, saving model to ../../models/model-4_seventh_cc-5.h5\n",
      "267475/267475 [==============================] - 1355s - loss: 0.3959 - acc: 0.8241 - val_loss: 0.4062 - val_acc: 0.8202\n",
      "Epoch 7/50\n",
      "267456/267475 [============================>.] - ETA: 0s - loss: 0.3864 - acc: 0.8294Epoch 00006: val_acc improved from 0.82016 to 0.82415, saving model to ../../models/model-4_seventh_cc-5.h5\n",
      "267475/267475 [==============================] - 1356s - loss: 0.3864 - acc: 0.8294 - val_loss: 0.3986 - val_acc: 0.8241\n",
      "Epoch 8/50\n",
      "267456/267475 [============================>.] - ETA: 0s - loss: 0.3789 - acc: 0.8333Epoch 00007: val_acc improved from 0.82415 to 0.82644, saving model to ../../models/model-4_seventh_cc-5.h5\n",
      "267475/267475 [==============================] - 1355s - loss: 0.3789 - acc: 0.8333 - val_loss: 0.3960 - val_acc: 0.8264\n",
      "Epoch 9/50\n",
      "267456/267475 [============================>.] - ETA: 0s - loss: 0.3723 - acc: 0.8365Epoch 00008: val_acc improved from 0.82644 to 0.82740, saving model to ../../models/model-4_seventh_cc-5.h5\n",
      "267475/267475 [==============================] - 1355s - loss: 0.3723 - acc: 0.8365 - val_loss: 0.3938 - val_acc: 0.8274\n",
      "Epoch 10/50\n",
      "267456/267475 [============================>.] - ETA: 0s - loss: 0.3683 - acc: 0.8386Epoch 00009: val_acc improved from 0.82740 to 0.82920, saving model to ../../models/model-4_seventh_cc-5.h5\n",
      "267475/267475 [==============================] - 1355s - loss: 0.3683 - acc: 0.8386 - val_loss: 0.3906 - val_acc: 0.8292\n",
      "Epoch 11/50\n",
      "267456/267475 [============================>.] - ETA: 0s - loss: 0.3647 - acc: 0.8403Epoch 00010: val_acc improved from 0.82920 to 0.83007, saving model to ../../models/model-4_seventh_cc-5.h5\n",
      "267475/267475 [==============================] - 1354s - loss: 0.3647 - acc: 0.8403 - val_loss: 0.3883 - val_acc: 0.8301\n",
      "Epoch 12/50\n",
      "267456/267475 [============================>.] - ETA: 0s - loss: 0.3604 - acc: 0.8426Epoch 00011: val_acc improved from 0.83007 to 0.83277, saving model to ../../models/model-4_seventh_cc-5.h5\n",
      "267475/267475 [==============================] - 1356s - loss: 0.3604 - acc: 0.8426 - val_loss: 0.3846 - val_acc: 0.8328\n",
      "Epoch 13/50\n",
      "267456/267475 [============================>.] - ETA: 0s - loss: 0.3630 - acc: 0.8410Epoch 00012: val_acc did not improve\n",
      "267475/267475 [==============================] - 1356s - loss: 0.3630 - acc: 0.8410 - val_loss: 0.3935 - val_acc: 0.8283\n",
      "Epoch 14/50\n",
      "267456/267475 [============================>.] - ETA: 0s - loss: 0.3670 - acc: 0.8388Epoch 00013: val_acc did not improve\n",
      "267475/267475 [==============================] - 1355s - loss: 0.3670 - acc: 0.8388 - val_loss: 0.3931 - val_acc: 0.8283\n",
      "Epoch 15/50\n",
      "267456/267475 [============================>.] - ETA: 0s - loss: 0.3659 - acc: 0.8394Epoch 00014: val_acc did not improve\n",
      "267475/267475 [==============================] - 1355s - loss: 0.3659 - acc: 0.8394 - val_loss: 0.3930 - val_acc: 0.8285\n",
      "Epoch 16/50\n",
      "267456/267475 [============================>.] - ETA: 0s - loss: 0.3642 - acc: 0.8400Epoch 00015: val_acc did not improve\n",
      "267475/267475 [==============================] - 1355s - loss: 0.3642 - acc: 0.8400 - val_loss: 0.3924 - val_acc: 0.8286\n",
      "Epoch 17/50\n",
      "267456/267475 [============================>.] - ETA: 0s - loss: 0.3623 - acc: 0.8411Epoch 00016: val_acc did not improve\n",
      "267475/267475 [==============================] - 1355s - loss: 0.3623 - acc: 0.8411 - val_loss: 0.3906 - val_acc: 0.8306\n",
      "Epoch 18/50\n",
      "267456/267475 [============================>.] - ETA: 0s - loss: 0.3605 - acc: 0.8418Epoch 00017: val_acc did not improve\n",
      "267475/267475 [==============================] - 1354s - loss: 0.3605 - acc: 0.8418 - val_loss: 0.3881 - val_acc: 0.8312\n",
      "Epoch 19/50\n",
      "267456/267475 [============================>.] - ETA: 0s - loss: 0.3592 - acc: 0.8427Epoch 00018: val_acc did not improve\n",
      "267475/267475 [==============================] - 1355s - loss: 0.3592 - acc: 0.8427 - val_loss: 0.3897 - val_acc: 0.8307\n",
      "Epoch 20/50\n",
      "267456/267475 [============================>.] - ETA: 0s - loss: 0.3580 - acc: 0.8432Epoch 00019: val_acc did not improve\n",
      "267475/267475 [==============================] - 1355s - loss: 0.3580 - acc: 0.8432 - val_loss: 0.3866 - val_acc: 0.8321\n",
      "Epoch 21/50\n",
      "267456/267475 [============================>.] - ETA: 0s - loss: 0.3566 - acc: 0.8440Epoch 00020: val_acc did not improve\n",
      "267475/267475 [==============================] - 1355s - loss: 0.3566 - acc: 0.8440 - val_loss: 0.3864 - val_acc: 0.8317\n",
      "Epoch 22/50\n",
      "267456/267475 [============================>.] - ETA: 0s - loss: 0.3553 - acc: 0.8446Epoch 00021: val_acc improved from 0.83277 to 0.83345, saving model to ../../models/model-4_seventh_cc-5.h5\n",
      "267475/267475 [==============================] - 1355s - loss: 0.3553 - acc: 0.8446 - val_loss: 0.3845 - val_acc: 0.8334\n",
      "Epoch 23/50\n",
      "267456/267475 [============================>.] - ETA: 0s - loss: 0.3553 - acc: 0.8446Epoch 00022: val_acc improved from 0.83345 to 0.83378, saving model to ../../models/model-4_seventh_cc-5.h5\n",
      "267475/267475 [==============================] - 1355s - loss: 0.3553 - acc: 0.8446 - val_loss: 0.3850 - val_acc: 0.8338\n",
      "Epoch 24/50\n",
      "267456/267475 [============================>.] - ETA: 0s - loss: 0.3547 - acc: 0.8450Epoch 00023: val_acc did not improve\n",
      "267475/267475 [==============================] - 1355s - loss: 0.3547 - acc: 0.8450 - val_loss: 0.3860 - val_acc: 0.8329\n",
      "Epoch 25/50\n",
      "267456/267475 [============================>.] - ETA: 0s - loss: 0.3542 - acc: 0.8451Epoch 00024: val_acc improved from 0.83378 to 0.83386, saving model to ../../models/model-4_seventh_cc-5.h5\n",
      "267475/267475 [==============================] - 1356s - loss: 0.3542 - acc: 0.8451 - val_loss: 0.3828 - val_acc: 0.8339\n",
      "Epoch 26/50\n",
      "267456/267475 [============================>.] - ETA: 0s - loss: 0.3526 - acc: 0.8457Epoch 00025: val_acc did not improve\n",
      "267475/267475 [==============================] - 1355s - loss: 0.3526 - acc: 0.8457 - val_loss: 0.3835 - val_acc: 0.8338\n",
      "Epoch 27/50\n",
      "267456/267475 [============================>.] - ETA: 0s - loss: 0.3514 - acc: 0.8464Epoch 00026: val_acc did not improve\n",
      "267475/267475 [==============================] - 1355s - loss: 0.3514 - acc: 0.8464 - val_loss: 0.3833 - val_acc: 0.8333\n",
      "Epoch 28/50\n",
      "267456/267475 [============================>.] - ETA: 0s - loss: 0.3505 - acc: 0.8466Epoch 00027: val_acc improved from 0.83386 to 0.83410, saving model to ../../models/model-4_seventh_cc-5.h5\n"
     ]
    },
    {
     "name": "stdout",
     "output_type": "stream",
     "text": [
      "267475/267475 [==============================] - 1355s - loss: 0.3505 - acc: 0.8466 - val_loss: 0.3818 - val_acc: 0.8341\n",
      "Epoch 29/50\n",
      "267456/267475 [============================>.] - ETA: 0s - loss: 0.3498 - acc: 0.8468Epoch 00028: val_acc improved from 0.83410 to 0.83436, saving model to ../../models/model-4_seventh_cc-5.h5\n",
      "267475/267475 [==============================] - 1355s - loss: 0.3498 - acc: 0.8468 - val_loss: 0.3825 - val_acc: 0.8344\n",
      "Epoch 30/50\n",
      "267456/267475 [============================>.] - ETA: 0s - loss: 0.3498 - acc: 0.8470Epoch 00029: val_acc improved from 0.83436 to 0.83489, saving model to ../../models/model-4_seventh_cc-5.h5\n",
      "267475/267475 [==============================] - 1355s - loss: 0.3498 - acc: 0.8470 - val_loss: 0.3839 - val_acc: 0.8349\n",
      "Epoch 31/50\n",
      "267456/267475 [============================>.] - ETA: 0s - loss: 0.3496 - acc: 0.8472Epoch 00030: val_acc did not improve\n",
      "267475/267475 [==============================] - 1355s - loss: 0.3496 - acc: 0.8472 - val_loss: 0.3825 - val_acc: 0.8341\n",
      "Epoch 32/50\n",
      "267456/267475 [============================>.] - ETA: 0s - loss: 0.3487 - acc: 0.8475Epoch 00031: val_acc improved from 0.83489 to 0.83491, saving model to ../../models/model-4_seventh_cc-5.h5\n",
      "267475/267475 [==============================] - 1354s - loss: 0.3487 - acc: 0.8475 - val_loss: 0.3816 - val_acc: 0.8349\n",
      "Epoch 33/50\n",
      "267456/267475 [============================>.] - ETA: 0s - loss: 0.3479 - acc: 0.8479Epoch 00032: val_acc improved from 0.83491 to 0.83512, saving model to ../../models/model-4_seventh_cc-5.h5\n",
      "267475/267475 [==============================] - 1355s - loss: 0.3479 - acc: 0.8479 - val_loss: 0.3819 - val_acc: 0.8351\n",
      "Epoch 34/50\n",
      "267456/267475 [============================>.] - ETA: 0s - loss: 0.3478 - acc: 0.8480Epoch 00033: val_acc improved from 0.83512 to 0.83594, saving model to ../../models/model-4_seventh_cc-5.h5\n",
      "267475/267475 [==============================] - 1356s - loss: 0.3478 - acc: 0.8480 - val_loss: 0.3800 - val_acc: 0.8359\n",
      "Epoch 35/50\n",
      "267456/267475 [============================>.] - ETA: 0s - loss: 0.3471 - acc: 0.8484Epoch 00034: val_acc did not improve\n",
      "267475/267475 [==============================] - 1356s - loss: 0.3471 - acc: 0.8484 - val_loss: 0.3810 - val_acc: 0.8355\n",
      "Epoch 36/50\n",
      "267456/267475 [============================>.] - ETA: 0s - loss: 0.3467 - acc: 0.8484Epoch 00035: val_acc improved from 0.83594 to 0.83673, saving model to ../../models/model-4_seventh_cc-5.h5\n",
      "267475/267475 [==============================] - 1355s - loss: 0.3467 - acc: 0.8484 - val_loss: 0.3796 - val_acc: 0.8367\n",
      "Epoch 37/50\n",
      "267456/267475 [============================>.] - ETA: 0s - loss: 0.3460 - acc: 0.8487Epoch 00036: val_acc did not improve\n",
      "267475/267475 [==============================] - 1355s - loss: 0.3460 - acc: 0.8487 - val_loss: 0.3801 - val_acc: 0.8357\n",
      "Epoch 38/50\n",
      "267456/267475 [============================>.] - ETA: 0s - loss: 0.3450 - acc: 0.8492Epoch 00037: val_acc did not improve\n",
      "267475/267475 [==============================] - 1356s - loss: 0.3450 - acc: 0.8492 - val_loss: 0.3799 - val_acc: 0.8358\n",
      "Epoch 39/50\n",
      "267456/267475 [============================>.] - ETA: 0s - loss: 0.3454 - acc: 0.8489Epoch 00038: val_acc did not improve\n",
      "267475/267475 [==============================] - 1355s - loss: 0.3454 - acc: 0.8489 - val_loss: 0.3781 - val_acc: 0.8365\n",
      "Epoch 40/50\n",
      "267456/267475 [============================>.] - ETA: 0s - loss: 0.3444 - acc: 0.8495Epoch 00039: val_acc did not improve\n",
      "267475/267475 [==============================] - 1355s - loss: 0.3444 - acc: 0.8495 - val_loss: 0.3771 - val_acc: 0.8364\n",
      "Epoch 41/50\n",
      "267456/267475 [============================>.] - ETA: 0s - loss: 0.3438 - acc: 0.8497Epoch 00040: val_acc did not improve\n",
      "267475/267475 [==============================] - 1355s - loss: 0.3438 - acc: 0.8497 - val_loss: 0.3798 - val_acc: 0.8359\n",
      "Epoch 42/50\n",
      "267456/267475 [============================>.] - ETA: 0s - loss: 0.3434 - acc: 0.8500Epoch 00041: val_acc did not improve\n",
      "267475/267475 [==============================] - 1355s - loss: 0.3434 - acc: 0.8500 - val_loss: 0.3776 - val_acc: 0.8366\n",
      "Epoch 43/50\n",
      "267456/267475 [============================>.] - ETA: 0s - loss: 0.3430 - acc: 0.8500Epoch 00042: val_acc did not improve\n",
      "267475/267475 [==============================] - 1355s - loss: 0.3430 - acc: 0.8500 - val_loss: 0.3788 - val_acc: 0.8357\n",
      "Epoch 44/50\n",
      "267456/267475 [============================>.] - ETA: 0s - loss: 0.3429 - acc: 0.8500Epoch 00043: val_acc improved from 0.83673 to 0.83703, saving model to ../../models/model-4_seventh_cc-5.h5\n",
      "267475/267475 [==============================] - 1355s - loss: 0.3429 - acc: 0.8500 - val_loss: 0.3762 - val_acc: 0.8370\n",
      "Epoch 45/50\n",
      "267456/267475 [============================>.] - ETA: 0s - loss: 0.3426 - acc: 0.8503Epoch 00044: val_acc did not improve\n",
      "267475/267475 [==============================] - 1355s - loss: 0.3426 - acc: 0.8503 - val_loss: 0.3763 - val_acc: 0.8366\n",
      "Epoch 46/50\n",
      "267456/267475 [============================>.] - ETA: 0s - loss: 0.3422 - acc: 0.8503Epoch 00045: val_acc improved from 0.83703 to 0.83818, saving model to ../../models/model-4_seventh_cc-5.h5\n",
      "267475/267475 [==============================] - 1355s - loss: 0.3422 - acc: 0.8503 - val_loss: 0.3753 - val_acc: 0.8382\n",
      "Epoch 47/50\n",
      "267456/267475 [============================>.] - ETA: 0s - loss: 0.3415 - acc: 0.8505Epoch 00046: val_acc did not improve\n",
      "267475/267475 [==============================] - 1356s - loss: 0.3415 - acc: 0.8505 - val_loss: 0.3745 - val_acc: 0.8377\n",
      "Epoch 48/50\n",
      "267456/267475 [============================>.] - ETA: 0s - loss: 0.3410 - acc: 0.8509Epoch 00047: val_acc did not improve\n",
      "267475/267475 [==============================] - 1356s - loss: 0.3410 - acc: 0.8510 - val_loss: 0.3754 - val_acc: 0.8376\n",
      "Epoch 49/50\n",
      "267456/267475 [============================>.] - ETA: 0s - loss: 0.3406 - acc: 0.8508Epoch 00048: val_acc did not improve\n",
      "267475/267475 [==============================] - 1355s - loss: 0.3406 - acc: 0.8508 - val_loss: 0.3743 - val_acc: 0.8382\n",
      "Epoch 50/50\n",
      "267456/267475 [============================>.] - ETA: 0s - loss: 0.3402 - acc: 0.8512Epoch 00049: val_acc did not improve\n",
      "267475/267475 [==============================] - 1356s - loss: 0.3402 - acc: 0.8512 - val_loss: 0.3762 - val_acc: 0.8370\n"
     ]
    }
   ],
   "source": [
    "### Train model ###\n",
    "batch_size = 32\n",
    "epochs = 50\n",
    "\n",
    "history = model.fit([X_melody_train, X_chords_train], Y_train, epochs=epochs, validation_data=([X_melody_valid, X_chords_valid], Y_valid,), batch_size=batch_size, callbacks=[bp])\n",
    "# history = model.fit([X_melody_train, X_chords_train],\n",
    "#                     [Y_C_train, Y_Db_train, Y_D_train, Y_Eb_train, Y_E_train, Y_F_train, Y_Gb_train, Y_G_train, Y_Ab_train, Y_A_train, Y_Bb_train, Y_B_train],\n",
    "#                     epochs=epochs, \n",
    "#                     validation_data=([X_melody_valid, X_chords_valid],\n",
    "#                                      [Y_C_valid, Y_Db_valid, Y_D_valid, Y_Eb_valid, Y_E_valid, Y_F_valid, Y_Gb_valid, Y_G_valid, Y_Ab_valid, Y_A_valid, Y_Bb_valid, Y_B_valid]), \n",
    "#                     batch_size=batch_size)\n"
   ]
  },
  {
   "cell_type": "code",
   "execution_count": 11,
   "metadata": {},
   "outputs": [
    {
     "data": {
      "text/plain": [
       "<matplotlib.figure.Figure at 0x7f8fbb868e10>"
      ]
     },
     "metadata": {},
     "output_type": "display_data"
    },
    {
     "data": {
      "image/png": "[encoded data removed]",
      "text/plain": [
       "<matplotlib.figure.Figure at 0x7f8ef319d6d8>"
      ]
     },
     "metadata": {},
     "output_type": "display_data"
    }
   ],
   "source": [
    "### Visualize model learning ###\n",
    "plt.clf()\n",
    "\n",
    "plt.figure(figsize=(15,5))\n",
    "plt.subplot(1, 2, 1)\n",
    "plt.plot(history.history['acc'])\n",
    "plt.plot(history.history['val_acc'])\n",
    "plt.title('model accuracy')\n",
    "plt.ylabel('accuracy')\n",
    "plt.xlabel('epoch')\n",
    "plt.legend(['train', 'validation'], loc='upper left')\n",
    "# plt.show()\n",
    "\n",
    "plt.subplot(1, 2, 2)\n",
    "plt.plot(history.history['loss'])\n",
    "plt.plot(history.history['val_loss'])\n",
    "plt.title('model loss')\n",
    "plt.ylabel('loss')\n",
    "plt.xlabel('epoch')\n",
    "plt.legend(['train', 'validation'], loc='upper left')\n",
    "plt.tight_layout()\n",
    "plt.suptitle(\"Training history of root model\", fontsize=16)\n",
    "plt.subplots_adjust(top=0.85)\n",
    "plt.show()"
   ]
  },
  {
   "cell_type": "code",
   "execution_count": 9,
   "metadata": {
    "collapsed": true
   },
   "outputs": [],
   "source": [
    "### Load best performance model ###\n",
    "model = load_model(\"../../models/model-4_seventh_cc-5.h5\")"
   ]
  },
  {
   "cell_type": "code",
   "execution_count": 15,
   "metadata": {},
   "outputs": [
    {
     "name": "stdout",
     "output_type": "stream",
     "text": [
      "Categorical accuracy of combined chord prediction: 0.8370\n",
      "TP: 86033 TN: 249783 FP: 20862 FN: 44542\n",
      "294325 270645\n",
      "106895 130575\n",
      "Kappa score of combined chord prediction: 0.6104\n"
     ]
    }
   ],
   "source": [
    "### Evaluate predictions ###\n",
    "# [C_pred, Db_pred, D_pred, Eb_pred, E_pred, F_pred, Gb_pred, G_pred, Ab_pred, A_pred, Bb_pred, B_pred] = model.predict([X_melody_test, X_chords_test])\n",
    "chord_pred = model.predict([X_melody_test, X_chords_test])\n",
    "\n",
    "# Build tensor of combined predictions\n",
    "# chord_pred = np.zeros((len(test_index), n_chords), dtype='float32')\n",
    "# for i, (root_softmax, suffix_softmax) in enumerate(zip(root_pred, suffix_pred)):\n",
    "#     root_index = np.argmax(root_softmax)\n",
    "#     suffix_index = np.argmax(suffix_softmax)\n",
    "#     root_str = index_roots[root_index]\n",
    "#     suffix_str = index_suffixes[suffix_index]\n",
    "#     label = root_str + suffix_str if not root_str == 'NC' else 'NC' \n",
    "#     chord_pred[i, chords_index[label]] = 1\n",
    "    \n",
    "\n",
    "# Compute accuracy and kappa score \n",
    "# print(\"Categorical accuracy of root prediction: {0:.4f}\".format(harmoutil.compute_accuracy_score(Y_roots_test, harmoutil.softmax_to_argmax(root_pred))))\n",
    "# print(\"Categorical accuracy of suffix prediction: {0:.4f}\".format(harmoutil.compute_accuracy_score(Y_suffixes_test, harmoutil.softmax_to_argmax(suffix_pred))))\n",
    "print(\"Categorical accuracy of combined chord prediction: {0:.4f}\".format(harmoutil.compute_multiclass_binary_accuracy_score(Y_test, chord_pred)))\n",
    "\n",
    "# print(\"Kappa score of root prediction: {0:.4f}\".format(harmoutil.compute_kappa_score(Y_roots_test, harmoutil.softmax_to_argmax(root_pred))))\n",
    "# print(\"Kappa score of suffix prediction: {0:.4f}\".format(harmoutil.compute_kappa_score(Y_suffixes_test, harmoutil.softmax_to_argmax(suffix_pred))))\n",
    "print(\"Kappa score of combined chord prediction: {0:.4f}\".format(harmoutil.compute_multiclass_binary_kappa_score(Y_test, chord_pred)))"
   ]
  },
  {
   "cell_type": "code",
   "execution_count": 14,
   "metadata": {},
   "outputs": [
    {
     "name": "stdout",
     "output_type": "stream",
     "text": [
      "[[  2.65563484e-02   9.57236290e-01   3.14573795e-02   4.18381467e-02\n",
      "    8.77214432e-01   3.81050520e-02   5.86301088e-01   1.37197629e-01\n",
      "    6.82940781e-02   8.24400038e-03   9.48071122e-01   4.88494895e-02]\n",
      " [  1.76407307e-01   2.45285586e-01   3.46421659e-01   4.17948782e-01\n",
      "    1.48199961e-01   2.09533095e-01   5.73665798e-01   1.89355627e-01\n",
      "    1.71891049e-01   5.48111618e-01   1.49914116e-01   4.04167265e-01]\n",
      " [  3.52827497e-02   8.32911730e-01   8.71144980e-02   6.52618781e-02\n",
      "    9.72302184e-02   7.81671822e-01   8.49733651e-02   4.88707647e-02\n",
      "    7.67690659e-01   1.11300200e-01   7.88468346e-02   6.86362147e-01]\n",
      " [  1.21055739e-02   8.45088437e-02   3.96465003e-01   4.49941576e-01\n",
      "    2.05950178e-02   6.74131930e-01   1.85590629e-02   1.72558933e-01\n",
      "    5.19066513e-01   9.38684680e-03   9.79808748e-01   7.41257295e-02]\n",
      " [  9.18449998e-01   3.08495879e-01   1.49588771e-02   6.55490696e-01\n",
      "    1.40131280e-01   1.04960039e-01   2.67735541e-01   9.39246640e-02\n",
      "    8.04433048e-01   3.54146719e-01   7.69856060e-03   5.68397641e-02]\n",
      " [  9.84201610e-01   1.48896100e-02   7.74813950e-01   2.47619689e-01\n",
      "    2.42815306e-03   9.46160913e-01   3.49867612e-01   2.17762534e-02\n",
      "    1.90813541e-02   9.96340573e-01   1.41768968e-02   2.14254274e-03]\n",
      " [  7.37857819e-01   1.55237759e-03   9.96265233e-01   8.72427889e-04\n",
      "    3.23142767e-01   8.60192835e-01   7.59270415e-03   2.35067248e-01\n",
      "    1.23581916e-01   8.83132219e-01   9.23652016e-03   6.70489445e-02]\n",
      " [  3.89816493e-01   2.51420308e-03   9.75952685e-01   1.64024103e-02\n",
      "    1.87288150e-01   3.66343230e-01   7.52048373e-01   2.42186897e-02\n",
      "    3.61696854e-02   8.31957161e-01   8.64085779e-02   3.24111044e-01]\n",
      " [  3.27614516e-01   3.64422888e-01   1.91881865e-01   3.21289986e-01\n",
      "    3.48211139e-01   4.59349632e-01   4.72732587e-03   8.58055413e-01\n",
      "    2.48093233e-01   1.15353599e-01   5.14682531e-01   6.81838542e-02]\n",
      " [  5.81511915e-01   5.04116476e-01   1.24150924e-01   6.59248512e-03\n",
      "    7.85295784e-01   1.17596872e-01   1.75929070e-02   5.10309398e-01\n",
      "    3.12540233e-01   4.65106964e-01   1.33870794e-02   1.38155483e-02]\n",
      " [  7.36290753e-01   1.02873720e-01   1.33127660e-01   8.57764721e-01\n",
      "    7.57312551e-02   7.77240321e-02   7.75349259e-01   1.25087619e-01\n",
      "    6.28593326e-01   8.28693211e-02   2.38845244e-01   1.43338263e-01]\n",
      " [  1.18602946e-01   3.05617929e-01   5.01888394e-01   1.51308924e-01\n",
      "    2.25682363e-01   5.32117903e-01   1.47322491e-01   6.58092082e-01\n",
      "    1.18922599e-01   1.37560278e-01   2.61342436e-01   5.25273979e-01]\n",
      " [  8.39887917e-01   9.48954001e-03   4.64499384e-01   5.02843976e-01\n",
      "    7.31224567e-03   1.59102842e-01   8.44622195e-01   1.38674816e-02\n",
      "    1.85362175e-01   4.56947923e-01   8.09789971e-02   6.20996766e-02]\n",
      " [  1.58428624e-02   7.80251563e-01   8.73211175e-02   5.26404083e-01\n",
      "    1.72411889e-01   2.07914822e-02   3.71085048e-01   7.18433917e-01\n",
      "    1.26815170e-01   2.13124938e-02   8.51682007e-01   2.35637277e-01]\n",
      " [  2.18016252e-01   7.64578059e-02   1.45707473e-01   9.92712021e-01\n",
      "    3.59675591e-03   2.78759953e-02   2.72167534e-01   9.02231574e-01\n",
      "    1.46876450e-03   3.61940026e-01   7.24695563e-01   1.48871914e-02]\n",
      " [  3.42330575e-01   3.44229877e-01   3.74680370e-01   2.32957155e-01\n",
      "    3.83301049e-01   2.94041425e-01   3.54147792e-01   3.71151417e-01\n",
      "    2.50933677e-01   4.10558492e-01   2.29946792e-01   3.11331928e-01]\n",
      " [  4.21287911e-03   7.70839751e-01   4.89133954e-01   5.00673577e-02\n",
      "    4.77967024e-01   5.13803214e-02   1.60604790e-02   8.03038538e-01\n",
      "    1.20751828e-01   1.49058059e-01   4.84096259e-01   3.34544539e-01]\n",
      " [  4.91852723e-02   8.68548691e-01   3.09735257e-02   2.74236724e-02\n",
      "    9.64682758e-01   2.49008164e-02   2.72993632e-02   9.16151583e-01\n",
      "    1.37518754e-03   9.76349652e-01   5.95830008e-02   4.54353355e-02]\n",
      " [  3.17109860e-02   5.88683903e-01   2.54938394e-01   1.58561572e-01\n",
      "    2.67267644e-01   8.11534077e-02   2.72149712e-01   9.81904790e-02\n",
      "    5.71903288e-01   4.95704412e-02   3.66981812e-02   8.14790964e-01]\n",
      " [  3.01246524e-01   3.91112536e-01   2.66517490e-01   2.25808144e-01\n",
      "    3.90383899e-01   3.53060931e-01   2.94049770e-01   2.70084977e-01\n",
      "    2.71835685e-01   2.94842690e-01   3.61448556e-01   2.54480422e-01]]\n",
      "[[ 0.  1.  0.  0.  1.  0.  1.  0.  0.  0.  1.  0.]\n",
      " [ 0.  0.  0.  1.  0.  0.  1.  0.  0.  1.  0.  1.]\n",
      " [ 0.  1.  0.  0.  0.  1.  0.  0.  1.  0.  0.  1.]\n",
      " [ 0.  0.  1.  0.  0.  1.  0.  0.  1.  0.  1.  0.]\n",
      " [ 1.  0.  0.  1.  0.  0.  0.  1.  1.  0.  0.  0.]\n",
      " [ 1.  0.  1.  0.  0.  1.  0.  0.  0.  1.  0.  0.]\n",
      " [ 1.  0.  1.  0.  0.  1.  0.  0.  0.  1.  0.  0.]\n",
      " [ 1.  0.  1.  0.  0.  0.  1.  0.  0.  1.  0.  0.]\n",
      " [ 1.  0.  0.  0.  1.  0.  0.  1.  0.  0.  1.  0.]\n",
      " [ 1.  0.  1.  0.  0.  1.  0.  0.  1.  0.  0.  0.]\n",
      " [ 1.  0.  0.  1.  0.  0.  1.  0.  1.  0.  0.  0.]\n",
      " [ 0.  0.  1.  0.  0.  1.  0.  1.  0.  0.  0.  1.]\n",
      " [ 1.  0.  1.  0.  0.  0.  1.  0.  0.  1.  0.  0.]\n",
      " [ 0.  0.  0.  1.  0.  0.  1.  0.  0.  0.  1.  1.]\n",
      " [ 1.  0.  0.  1.  0.  0.  0.  1.  0.  0.  1.  0.]\n",
      " [ 0.  1.  0.  0.  0.  0.  1.  0.  0.  0.  1.  0.]\n",
      " [ 0.  0.  1.  0.  1.  0.  0.  1.  0.  0.  0.  1.]\n",
      " [ 0.  1.  0.  0.  1.  0.  0.  1.  0.  1.  0.  0.]\n",
      " [ 0.  1.  0.  0.  0.  1.  0.  0.  1.  0.  0.  1.]\n",
      " [ 1.  0.  0.  1.  0.  0.  1.  0.  1.  0.  0.  0.]]\n"
     ]
    }
   ],
   "source": [
    "print(chord_pred[:20])\n",
    "print(Y_test[:20])"
   ]
  },
  {
   "cell_type": "code",
   "execution_count": 17,
   "metadata": {},
   "outputs": [
    {
     "name": "stdout",
     "output_type": "stream",
     "text": [
      "Avg notes per prediction: 3.88221313908\n"
     ]
    }
   ],
   "source": [
    "counts = []\n",
    "for row in chord_pred:\n",
    "    result = []\n",
    "    count = 0\n",
    "    for note in row:\n",
    "        result.append(round(note))\n",
    "        count += note\n",
    "    counts.append(count)\n",
    "#     print(result)\n",
    "print(\"Avg notes per prediction:\", sum(counts)/len(counts))"
   ]
  },
  {
   "cell_type": "code",
   "execution_count": 18,
   "metadata": {},
   "outputs": [
    {
     "name": "stdout",
     "output_type": "stream",
     "text": [
      "F-score: 0.7246\n"
     ]
    }
   ],
   "source": [
    "print(\"F-score: {0:.4f}\".format(harmoutil.compute_binary_fscore(Y_test, chord_pred)))"
   ]
  },
  {
   "cell_type": "code",
   "execution_count": null,
   "metadata": {
    "collapsed": true
   },
   "outputs": [],
   "source": []
  }
 ],
 "metadata": {
  "kernelspec": {
   "display_name": "Python 3",
   "language": "python",
   "name": "python3"
  },
  "language_info": {
   "codemirror_mode": {
    "name": "ipython",
    "version": 3
   },
   "file_extension": ".py",
   "mimetype": "text/x-python",
   "name": "python",
   "nbconvert_exporter": "python",
   "pygments_lexer": "ipython3",
   "version": "3.5.2"
  }
 },
 "nbformat": 4,
 "nbformat_minor": 2
}
