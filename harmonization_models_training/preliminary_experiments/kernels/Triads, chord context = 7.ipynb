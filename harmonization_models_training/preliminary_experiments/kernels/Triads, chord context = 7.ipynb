{
 "cells": [
  {
   "cell_type": "code",
   "execution_count": 1,
   "metadata": {},
   "outputs": [
    {
     "name": "stderr",
     "output_type": "stream",
     "text": [
      "/home/maxime/.local/lib/python3.5/site-packages/h5py/__init__.py:34: FutureWarning: Conversion of the second argument of issubdtype from `float` to `np.floating` is deprecated. In future, it will be treated as `np.float64 == np.dtype(float).type`.\n",
      "  from ._conv import register_converters as _register_converters\n",
      "Using TensorFlow backend.\n"
     ]
    }
   ],
   "source": [
    "import re\n",
    "import time\n",
    "\n",
    "import numpy as np\n",
    "import matplotlib.pyplot as plt\n",
    "\n",
    "from sklearn.metrics import confusion_matrix\n",
    "from sklearn.model_selection import StratifiedShuffleSplit\n",
    "from keras.models import Model\n",
    "from keras.models import load_model\n",
    "from keras.layers import Input, Dense, GRU, concatenate\n",
    "from keras import metrics\n",
    "from keras import backend as K\n",
    "from keras.utils import plot_model\n",
    "from keras.callbacks import EarlyStopping, ModelCheckpoint\n",
    "\n",
    "from IPython.display import SVG\n",
    "from keras.utils.vis_utils import model_to_dot\n",
    "\n",
    "# Custom library for the project\n",
    "import sys\n",
    "sys.path.insert(0, '../../../src')\n",
    "import harmoutil\n",
    "\n",
    "%matplotlib inline"
   ]
  },
  {
   "cell_type": "code",
   "execution_count": 2,
   "metadata": {},
   "outputs": [
    {
     "data": {
      "text/plain": [
       "<module 'harmoutil' from '../../../src/harmoutil.py'>"
      ]
     },
     "execution_count": 2,
     "metadata": {},
     "output_type": "execute_result"
    }
   ],
   "source": [
    "# # Remove when done with kernel\n",
    "import importlib\n",
    "importlib.reload(harmoutil)"
   ]
  },
  {
   "cell_type": "code",
   "execution_count": 3,
   "metadata": {},
   "outputs": [
    {
     "name": "stdout",
     "output_type": "stream",
     "text": [
      "334344 334344 334344 2209944\n"
     ]
    }
   ],
   "source": [
    "### Load raw data ###\n",
    "raw_data = harmoutil.load_pickled_data(\"../../../data/refined_data.pkl\") # lists of (chord label, melody seqs) by sections\n",
    "\n",
    "### Augment data ###\n",
    "augmented_data = harmoutil.transpose_and_augment_data(raw_data)\n",
    "\n",
    "data = [harmoutil.to_triads(section) for section in augmented_data]\n",
    "data = [harmoutil.melody_to_octave_range(section) for section in data]\n",
    "\n",
    "chords = [ch for section in data for ch, mel in section]\n",
    "melodies_by_beats = [mel for section in data for ch, mel in section]\n",
    "\n",
    "melodies_by_notes = []\n",
    "for mel in melodies_by_beats:\n",
    "    melodies_by_notes.append([n for b in mel for n in b])\n",
    "notes = [n for sec in melodies_by_notes for n in sec]\n",
    "print(len(chords), len(melodies_by_beats), len(melodies_by_notes), len(notes))"
   ]
  },
  {
   "cell_type": "code",
   "execution_count": 4,
   "metadata": {},
   "outputs": [
    {
     "data": {
      "text/plain": [
       "<matplotlib.figure.Figure at 0x7fe31ab3bba8>"
      ]
     },
     "metadata": {},
     "output_type": "display_data"
    },
    {
     "data": {
      "image/png": "[encoded data removed]",
      "text/plain": [
       "<matplotlib.figure.Figure at 0x7fe31ab41588>"
      ]
     },
     "metadata": {},
     "output_type": "display_data"
    },
    {
     "data": {
      "image/png": "[encoded data removed]",
      "text/plain": [
       "<matplotlib.figure.Figure at 0x7fe319d99b38>"
      ]
     },
     "metadata": {},
     "output_type": "display_data"
    }
   ],
   "source": [
    "### Visualize classes statistics ###\n",
    "\n",
    "chord_seq_lengths = [len(section) for section in data]\n",
    "\n",
    "plt.clf()\n",
    "\n",
    "labels = sorted(list(set(chord_seq_lengths)))\n",
    "x_axis = range(len(labels))\n",
    "y_axis = [chord_seq_lengths.count(lab) for lab in labels]\n",
    "\n",
    "plt.figure(figsize=(15,5))\n",
    "plt.bar(x_axis, y_axis, tick_label=labels)\n",
    "plt.xticks(rotation='vertical')\n",
    "plt.title('Chord statistics')\n",
    "plt.show()\n",
    "\n",
    "\n",
    "melody_seq_lengths = [len(sec) for sec in melodies_by_notes]\n",
    "    \n",
    "labels = sorted(list(set(melody_seq_lengths)))\n",
    "x_axis = range(len(labels))\n",
    "y_axis = [melody_seq_lengths.count(lab) for lab in labels]\n",
    "\n",
    "plt.figure(figsize=(15,5))\n",
    "plt.bar(x_axis, y_axis, tick_label=labels)\n",
    "plt.xticks(rotation='vertical')\n",
    "plt.title('Chord statistics')\n",
    "plt.show()"
   ]
  },
  {
   "cell_type": "code",
   "execution_count": 5,
   "metadata": {
    "collapsed": true
   },
   "outputs": [],
   "source": [
    "### Define class integer mappings ###\n",
    "notes_index = dict(\n",
    "    [(c, i) for i, c in enumerate(sorted(list(set(notes)))[1:])])\n",
    "notes_index[-1] = len(notes_index)\n",
    "notes_index['<end>'] = len(notes_index)\n",
    "notes_index['<pad>'] = len(notes_index)\n",
    "\n",
    "index_notes = dict(\n",
    "    [(v, k) for k, v in notes_index.items()])\n",
    "\n",
    "\n",
    "chords_index = dict(\n",
    "    [(c, i) for i, c in enumerate(sorted(list(set(chords))))])\n",
    "chords_index['<bos>'] = len(chords_index)\n",
    "chords_index['<eos>'] = len(chords_index)\n",
    "\n",
    "index_chords = dict(\n",
    "    [(v, k) for k, v in chords_index.items()])"
   ]
  },
  {
   "cell_type": "code",
   "execution_count": 6,
   "metadata": {},
   "outputs": [
    {
     "name": "stdout",
     "output_type": "stream",
     "text": [
      "Total number of distinct chord labels: 63\n",
      "Total number of distinct melody notes: 15\n",
      "Maximum length of melody sequences: 135\n",
      "Maximum length of chord sequences: 58\n",
      "Number of chords taken into account for next prediction: 7\n"
     ]
    }
   ],
   "source": [
    "### Numerical variables ###\n",
    "n_chords = len(chords_index)\n",
    "n_notes = len(notes_index)\n",
    "max_melody_seq_len = max([len(mel) for mel in melodies_by_notes])\n",
    "max_chords_seq_len = max([len(section) for section in data])\n",
    "ch_context_window = 7\n",
    "\n",
    "\n",
    "print(\"Total number of distinct chord labels:\", n_chords)\n",
    "print(\"Total number of distinct melody notes:\", n_notes)\n",
    "print(\"Maximum length of melody sequences:\", max_melody_seq_len)\n",
    "print(\"Maximum length of chord sequences:\", max_chords_seq_len)\n",
    "print(\"Number of chords taken into account for next prediction:\", ch_context_window)"
   ]
  },
  {
   "cell_type": "code",
   "execution_count": 7,
   "metadata": {
    "scrolled": false
   },
   "outputs": [
    {
     "name": "stdout",
     "output_type": "stream",
     "text": [
      "363228 363228 363228\n",
      "334344 334344 334344\n",
      "45115280 45136440\n",
      "2340408 2340408\n",
      "334344 334344\n"
     ]
    }
   ],
   "source": [
    "### Build tensors ###\n",
    "\n",
    "\n",
    "# Build data lists\n",
    "input_melody_eos = []\n",
    "input_chords_eos = []\n",
    "target_chords_eos = []\n",
    "\n",
    "for section in data:\n",
    "    chord_sequence = [ch for ch, mel in section]\n",
    "    padded_sequence = ['<bos>']*ch_context_window + chord_sequence + ['<eos>']\n",
    "    for i in range(len(chord_sequence)+1):\n",
    "        input_chords_eos.append(padded_sequence[i:i+ch_context_window])\n",
    "        target_chords_eos.append(padded_sequence[i+ch_context_window])\n",
    "\n",
    "    chord_mel = [mel for ch, mel in section]\n",
    "    melody_sequence = []\n",
    "    for mel in chord_mel:\n",
    "        ch_mel = []\n",
    "        for b in mel:\n",
    "            for n in b:\n",
    "                ch_mel.append(n)\n",
    "        melody_sequence.append(ch_mel)\n",
    "    melody_sequence += [['<end>']]\n",
    "    input_melody_eos += melody_sequence\n",
    "    \n",
    "    \n",
    "# for i in range(len(data[0])+1):\n",
    "#     print(input_melody[i], input_chords[i], target_chords[i])\n",
    "# print(len(input_melody), len(input_chords), len(target_chords))\n",
    "    \n",
    "# Remove any \n",
    "print(len(target_chords_eos), len(input_chords_eos), len(input_melody_eos))\n",
    "target_chords = [target_chords_eos[i] for i in range(len(target_chords_eos)) if not target_chords_eos[i] == '<eos>']\n",
    "input_chords = [input_chords_eos[i] for i in range(len(input_chords_eos)) if not target_chords_eos[i] == '<eos>']\n",
    "input_melody = [input_melody_eos[i] for i in range(len(input_melody_eos)) if not target_chords_eos[i] == '<eos>']\n",
    "print(len(target_chords), len(input_chords), len(input_melody))\n",
    "    \n",
    "    \n",
    "n_entries = len(target_chords)\n",
    "\n",
    "X_melody = np.zeros((n_entries, max_melody_seq_len, n_notes), dtype='float32')\n",
    "X_chords = np.zeros((n_entries, ch_context_window, n_chords), dtype='float32')\n",
    "Y = np.zeros((n_entries, n_chords), dtype='float32')\n",
    "\n",
    "\n",
    "\n",
    "for i, (in_mel, in_ch, tg_ch) in enumerate(zip(input_melody, input_chords, target_chords)):\n",
    "    Y[i, chords_index[tg_ch]] = 1\n",
    "    for j, ch in enumerate(in_ch):\n",
    "        X_chords[i, j, chords_index[ch]] = 1\n",
    "        \n",
    "    padded_melody = in_mel + ['<pad>']*(max_melody_seq_len - len(in_mel))\n",
    "    for k, note in enumerate(padded_melody):\n",
    "        X_melody[i, k, notes_index[note]] = 1\n",
    "            \n",
    "print(int(np.sum(X_melody)), n_entries*max_melody_seq_len)\n",
    "print(int(np.sum(X_chords)), n_entries*ch_context_window)\n",
    "print(int(np.sum(Y)), n_entries)\n"
   ]
  },
  {
   "cell_type": "code",
   "execution_count": 8,
   "metadata": {},
   "outputs": [
    {
     "name": "stdout",
     "output_type": "stream",
     "text": [
      "(267475, 135, 15) (267475, 7, 63) (267475, 63)\n",
      "(33434, 135, 15) (33434, 7, 63) (33434, 63)\n",
      "(33435, 135, 15) (33435, 7, 63) (33435, 63)\n"
     ]
    }
   ],
   "source": [
    "### Train/Validation/Test sets ###\n",
    "seed = 1\n",
    "\n",
    "strat_split = StratifiedShuffleSplit(n_splits=1, test_size=0.2, random_state=seed)\n",
    "\n",
    "for train_index, aux_index in strat_split.split(X_chords, Y):\n",
    "    X_melody_train = X_melody[train_index]\n",
    "    X_chords_train = X_chords[train_index]\n",
    "    Y_train = Y[train_index]\n",
    "    \n",
    "    X_melody_aux = X_melody[aux_index]\n",
    "    X_chords_aux = X_chords[aux_index]\n",
    "    Y_aux = Y[aux_index]\n",
    "    \n",
    "strat_split = StratifiedShuffleSplit(n_splits=1, test_size=0.5, random_state=seed)\n",
    "for valid_index, test_index in strat_split.split(X_chords_aux, Y_aux):\n",
    "    X_melody_valid = X_melody_aux[valid_index]\n",
    "    X_chords_valid = X_chords_aux[valid_index]\n",
    "    Y_valid = Y_aux[valid_index]\n",
    "    \n",
    "    X_melody_test = X_melody_aux[test_index]\n",
    "    X_chords_test = X_chords_aux[test_index]\n",
    "    Y_test = Y_aux[test_index]\n",
    "\n",
    "print(X_melody_train.shape, X_chords_train.shape, Y_train.shape)\n",
    "print(X_melody_valid.shape, X_chords_valid.shape, Y_valid.shape)\n",
    "print(X_melody_test.shape, X_chords_test.shape, Y_test.shape)\n",
    "\n",
    "# train_size = melody_train.shape[0]\n",
    "# test_size = melody_test.shape[0]"
   ]
  },
  {
   "cell_type": "code",
   "execution_count": 9,
   "metadata": {},
   "outputs": [
    {
     "name": "stdout",
     "output_type": "stream",
     "text": [
      "____________________________________________________________________________________________________\n",
      "Layer (type)                     Output Shape          Param #     Connected to                     \n",
      "====================================================================================================\n",
      "input_1 (InputLayer)             (None, 135, 15)       0                                            \n",
      "____________________________________________________________________________________________________\n",
      "input_2 (InputLayer)             (None, 7, 63)         0                                            \n",
      "____________________________________________________________________________________________________\n",
      "gru_1 (GRU)                      (None, 128)           55296       input_1[0][0]                    \n",
      "____________________________________________________________________________________________________\n",
      "gru_2 (GRU)                      (None, 128)           73728       input_2[0][0]                    \n",
      "____________________________________________________________________________________________________\n",
      "concatenate_1 (Concatenate)      (None, 256)           0           gru_1[0][0]                      \n",
      "                                                                   gru_2[0][0]                      \n",
      "____________________________________________________________________________________________________\n",
      "dense_1 (Dense)                  (None, 63)            16191       concatenate_1[0][0]              \n",
      "====================================================================================================\n",
      "Total params: 145,215\n",
      "Trainable params: 145,215\n",
      "Non-trainable params: 0\n",
      "____________________________________________________________________________________________________\n",
      "None\n"
     ]
    }
   ],
   "source": [
    "### Define neural net architectur ###\n",
    "latent_dim = 128\n",
    "\n",
    "melody_input = Input(shape=(max_melody_seq_len, n_notes))\n",
    "melody_gru = GRU(latent_dim)(melody_input)\n",
    "\n",
    "chords_input = Input(shape=(ch_context_window, n_chords))\n",
    "chords_gru = GRU(latent_dim)(chords_input)\n",
    "\n",
    "concat = concatenate([melody_gru, chords_gru])\n",
    "\n",
    "chord_dense = Dense(n_chords, activation='softmax')(concat)\n",
    "\n",
    "model = Model([melody_input, chords_input], chord_dense)\n",
    "model.compile(loss='categorical_crossentropy',\n",
    "              optimizer='adam',\n",
    "              metrics=['accuracy'])\n",
    "\n",
    "print(model.summary())\n",
    "# SVG(model_to_dot(model).create(prog='dot', format='svg'))"
   ]
  },
  {
   "cell_type": "code",
   "execution_count": 10,
   "metadata": {
    "collapsed": true
   },
   "outputs": [],
   "source": [
    "### Introduce Early-Stopping and Save Best Performance callbacks ###\n",
    "es = EarlyStopping(monitor='val_loss', min_delta=0, patience=5, verbose=1, mode='min')\n",
    "filepath = \"../../models/triad_cc-7.h5\"\n",
    "bp = ModelCheckpoint(filepath, monitor='val_acc', verbose=1, save_best_only=True, mode='max')"
   ]
  },
  {
   "cell_type": "code",
   "execution_count": 11,
   "metadata": {
    "scrolled": false
   },
   "outputs": [
    {
     "name": "stdout",
     "output_type": "stream",
     "text": [
      "Train on 267475 samples, validate on 33434 samples\n",
      "Epoch 1/50\n",
      "267456/267475 [============================>.] - ETA: 0s - loss: 2.6053 - acc: 0.4018Epoch 00000: val_acc improved from -inf to 0.45720, saving model to ../../models/seventh_cc-7.h5\n",
      "267475/267475 [==============================] - 1368s - loss: 2.6053 - acc: 0.4018 - val_loss: 2.2735 - val_acc: 0.4572\n",
      "Epoch 2/50\n",
      "267456/267475 [============================>.] - ETA: 0s - loss: 2.1019 - acc: 0.4966Epoch 00001: val_acc improved from 0.45720 to 0.52294, saving model to ../../models/seventh_cc-7.h5\n",
      "267475/267475 [==============================] - 1369s - loss: 2.1020 - acc: 0.4966 - val_loss: 2.0034 - val_acc: 0.5229\n",
      "Epoch 3/50\n",
      "267456/267475 [============================>.] - ETA: 0s - loss: 1.8604 - acc: 0.5524Epoch 00002: val_acc improved from 0.52294 to 0.55832, saving model to ../../models/seventh_cc-7.h5\n",
      "267475/267475 [==============================] - 1373s - loss: 1.8604 - acc: 0.5524 - val_loss: 1.8481 - val_acc: 0.5583\n",
      "Epoch 4/50\n",
      "267456/267475 [============================>.] - ETA: 0s - loss: 1.6918 - acc: 0.5919Epoch 00003: val_acc improved from 0.55832 to 0.59036, saving model to ../../models/seventh_cc-7.h5\n",
      "267475/267475 [==============================] - 1378s - loss: 1.6917 - acc: 0.5919 - val_loss: 1.7212 - val_acc: 0.5904\n",
      "Epoch 5/50\n",
      "267456/267475 [============================>.] - ETA: 0s - loss: 1.5696 - acc: 0.6197Epoch 00004: val_acc improved from 0.59036 to 0.61004, saving model to ../../models/seventh_cc-7.h5\n",
      "267475/267475 [==============================] - 1381s - loss: 1.5696 - acc: 0.6198 - val_loss: 1.6490 - val_acc: 0.6100\n",
      "Epoch 6/50\n",
      "267456/267475 [============================>.] - ETA: 0s - loss: 1.4836 - acc: 0.6395Epoch 00005: val_acc improved from 0.61004 to 0.62215, saving model to ../../models/seventh_cc-7.h5\n",
      "267475/267475 [==============================] - 1383s - loss: 1.4835 - acc: 0.6395 - val_loss: 1.5993 - val_acc: 0.6222\n",
      "Epoch 7/50\n",
      "267456/267475 [============================>.] - ETA: 0s - loss: 1.4408 - acc: 0.6513Epoch 00006: val_acc improved from 0.62215 to 0.62733, saving model to ../../models/seventh_cc-7.h5\n",
      "267475/267475 [==============================] - 1386s - loss: 1.4408 - acc: 0.6513 - val_loss: 1.5819 - val_acc: 0.6273\n",
      "Epoch 8/50\n",
      "267456/267475 [============================>.] - ETA: 0s - loss: 1.3639 - acc: 0.6655Epoch 00007: val_acc improved from 0.62733 to 0.62798, saving model to ../../models/seventh_cc-7.h5\n",
      "267475/267475 [==============================] - 1359s - loss: 1.3639 - acc: 0.6655 - val_loss: 1.5846 - val_acc: 0.6280\n",
      "Epoch 9/50\n",
      "267456/267475 [============================>.] - ETA: 0s - loss: 1.2376 - acc: 0.6866Epoch 00008: val_acc improved from 0.62798 to 0.66968, saving model to ../../models/seventh_cc-7.h5\n",
      "267475/267475 [==============================] - 1360s - loss: 1.2376 - acc: 0.6866 - val_loss: 1.3710 - val_acc: 0.6697\n",
      "Epoch 10/50\n",
      "267456/267475 [============================>.] - ETA: 0s - loss: 1.1487 - acc: 0.7060Epoch 00009: val_acc improved from 0.66968 to 0.67647, saving model to ../../models/seventh_cc-7.h5\n",
      "267475/267475 [==============================] - 1367s - loss: 1.1487 - acc: 0.7060 - val_loss: 1.3306 - val_acc: 0.6765\n",
      "Epoch 11/50\n",
      "267456/267475 [============================>.] - ETA: 0s - loss: 1.1026 - acc: 0.7160Epoch 00010: val_acc improved from 0.67647 to 0.68550, saving model to ../../models/seventh_cc-7.h5\n",
      "267475/267475 [==============================] - 1371s - loss: 1.1026 - acc: 0.7160 - val_loss: 1.3067 - val_acc: 0.6855\n",
      "Epoch 12/50\n",
      "267456/267475 [============================>.] - ETA: 0s - loss: 1.0688 - acc: 0.7231Epoch 00011: val_acc improved from 0.68550 to 0.69017, saving model to ../../models/seventh_cc-7.h5\n",
      "267475/267475 [==============================] - 1374s - loss: 1.0688 - acc: 0.7231 - val_loss: 1.2936 - val_acc: 0.6902\n",
      "Epoch 13/50\n",
      "267456/267475 [============================>.] - ETA: 0s - loss: 1.0394 - acc: 0.7293Epoch 00012: val_acc improved from 0.69017 to 0.69079, saving model to ../../models/seventh_cc-7.h5\n",
      "267475/267475 [==============================] - 1377s - loss: 1.0393 - acc: 0.7294 - val_loss: 1.2818 - val_acc: 0.6908\n",
      "Epoch 14/50\n",
      "267456/267475 [============================>.] - ETA: 0s - loss: 1.0168 - acc: 0.7332Epoch 00013: val_acc improved from 0.69079 to 0.69316, saving model to ../../models/seventh_cc-7.h5\n",
      "267475/267475 [==============================] - 1365s - loss: 1.0168 - acc: 0.7332 - val_loss: 1.2708 - val_acc: 0.6932\n",
      "Epoch 15/50\n",
      "267456/267475 [============================>.] - ETA: 0s - loss: 0.9945 - acc: 0.7385Epoch 00014: val_acc improved from 0.69316 to 0.70315, saving model to ../../models/seventh_cc-7.h5\n",
      "267475/267475 [==============================] - 1358s - loss: 0.9944 - acc: 0.7385 - val_loss: 1.2506 - val_acc: 0.7031\n",
      "Epoch 16/50\n",
      "267456/267475 [============================>.] - ETA: 0s - loss: 1.0293 - acc: 0.7312Epoch 00015: val_acc did not improve\n",
      "267475/267475 [==============================] - 1360s - loss: 1.0293 - acc: 0.7312 - val_loss: 1.2757 - val_acc: 0.6967\n",
      "Epoch 17/50\n",
      "267456/267475 [============================>.] - ETA: 0s - loss: 0.9807 - acc: 0.7411Epoch 00016: val_acc did not improve\n",
      "267475/267475 [==============================] - 1362s - loss: 0.9808 - acc: 0.7411 - val_loss: 1.2679 - val_acc: 0.6985\n",
      "Epoch 18/50\n",
      "267456/267475 [============================>.] - ETA: 0s - loss: 0.9652 - acc: 0.7443Epoch 00017: val_acc improved from 0.70315 to 0.70419, saving model to ../../models/seventh_cc-7.h5\n",
      "267475/267475 [==============================] - 1365s - loss: 0.9652 - acc: 0.7443 - val_loss: 1.2562 - val_acc: 0.7042\n",
      "Epoch 19/50\n",
      "267456/267475 [============================>.] - ETA: 0s - loss: 0.9506 - acc: 0.7472Epoch 00018: val_acc improved from 0.70419 to 0.70542, saving model to ../../models/seventh_cc-7.h5\n",
      "267475/267475 [==============================] - 1368s - loss: 0.9506 - acc: 0.7472 - val_loss: 1.2483 - val_acc: 0.7054\n",
      "Epoch 20/50\n",
      "267456/267475 [============================>.] - ETA: 0s - loss: 0.9397 - acc: 0.7494Epoch 00019: val_acc did not improve\n",
      "267475/267475 [==============================] - 1368s - loss: 0.9397 - acc: 0.7494 - val_loss: 1.2616 - val_acc: 0.7003\n",
      "Epoch 21/50\n",
      "267456/267475 [============================>.] - ETA: 0s - loss: 0.9340 - acc: 0.7509Epoch 00020: val_acc improved from 0.70542 to 0.70620, saving model to ../../models/seventh_cc-7.h5\n",
      "267475/267475 [==============================] - 1353s - loss: 0.9341 - acc: 0.7509 - val_loss: 1.2513 - val_acc: 0.7062\n",
      "Epoch 22/50\n",
      "267456/267475 [============================>.] - ETA: 0s - loss: 0.9545 - acc: 0.7457Epoch 00021: val_acc did not improve\n",
      "267475/267475 [==============================] - 1355s - loss: 0.9545 - acc: 0.7457 - val_loss: 1.2701 - val_acc: 0.7008\n",
      "Epoch 23/50\n",
      "267456/267475 [============================>.] - ETA: 0s - loss: 0.9358 - acc: 0.7496Epoch 00022: val_acc improved from 0.70620 to 0.70898, saving model to ../../models/seventh_cc-7.h5\n",
      "267475/267475 [==============================] - 1361s - loss: 0.9359 - acc: 0.7496 - val_loss: 1.2411 - val_acc: 0.7090\n",
      "Epoch 24/50\n",
      "267456/267475 [============================>.] - ETA: 0s - loss: 0.9440 - acc: 0.7471Epoch 00023: val_acc did not improve\n",
      "267475/267475 [==============================] - 1363s - loss: 0.9440 - acc: 0.7471 - val_loss: 1.2668 - val_acc: 0.7029\n",
      "Epoch 25/50\n",
      "267456/267475 [============================>.] - ETA: 0s - loss: 0.9242 - acc: 0.7514Epoch 00024: val_acc did not improve\n",
      "267475/267475 [==============================] - 1366s - loss: 0.9242 - acc: 0.7514 - val_loss: 1.2529 - val_acc: 0.7088\n",
      "Epoch 26/50\n",
      "267456/267475 [============================>.] - ETA: 0s - loss: 0.9108 - acc: 0.7550Epoch 00025: val_acc improved from 0.70898 to 0.71203, saving model to ../../models/seventh_cc-7.h5\n",
      "267475/267475 [==============================] - 1368s - loss: 0.9107 - acc: 0.7550 - val_loss: 1.2390 - val_acc: 0.7120\n",
      "Epoch 27/50\n",
      "267456/267475 [============================>.] - ETA: 0s - loss: 0.9027 - acc: 0.7563Epoch 00026: val_acc did not improve\n",
      "267475/267475 [==============================] - 1363s - loss: 0.9027 - acc: 0.7563 - val_loss: 1.2466 - val_acc: 0.7108\n",
      "Epoch 28/50\n"
     ]
    },
    {
     "name": "stdout",
     "output_type": "stream",
     "text": [
      "267456/267475 [============================>.] - ETA: 0s - loss: 0.8936 - acc: 0.7582Epoch 00027: val_acc did not improve\n",
      "267475/267475 [==============================] - 1360s - loss: 0.8935 - acc: 0.7582 - val_loss: 1.2471 - val_acc: 0.7079\n",
      "Epoch 29/50\n",
      "267456/267475 [============================>.] - ETA: 0s - loss: 0.8950 - acc: 0.7581Epoch 00028: val_acc did not improve\n",
      "267475/267475 [==============================] - 1361s - loss: 0.8950 - acc: 0.7581 - val_loss: 1.2330 - val_acc: 0.7120\n",
      "Epoch 30/50\n",
      "267456/267475 [============================>.] - ETA: 0s - loss: 0.8791 - acc: 0.7620Epoch 00029: val_acc improved from 0.71203 to 0.71356, saving model to ../../models/seventh_cc-7.h5\n",
      "267475/267475 [==============================] - 1364s - loss: 0.8791 - acc: 0.7620 - val_loss: 1.2332 - val_acc: 0.7136\n",
      "Epoch 31/50\n",
      "267456/267475 [============================>.] - ETA: 0s - loss: 0.8761 - acc: 0.7622Epoch 00030: val_acc did not improve\n",
      "267475/267475 [==============================] - 1365s - loss: 0.8762 - acc: 0.7622 - val_loss: 1.2348 - val_acc: 0.7112\n",
      "Epoch 32/50\n",
      "267456/267475 [============================>.] - ETA: 0s - loss: 0.8998 - acc: 0.7565Epoch 00031: val_acc did not improve\n",
      "267475/267475 [==============================] - 1367s - loss: 0.8998 - acc: 0.7565 - val_loss: 1.2519 - val_acc: 0.7090\n",
      "Epoch 33/50\n",
      "267456/267475 [============================>.] - ETA: 0s - loss: 0.8919 - acc: 0.7577Epoch 00032: val_acc did not improve\n",
      "267475/267475 [==============================] - 1365s - loss: 0.8919 - acc: 0.7577 - val_loss: 1.2510 - val_acc: 0.7117\n",
      "Epoch 34/50\n",
      "267456/267475 [============================>.] - ETA: 0s - loss: 0.8809 - acc: 0.7605Epoch 00033: val_acc did not improve\n",
      "267475/267475 [==============================] - 1360s - loss: 0.8809 - acc: 0.7605 - val_loss: 1.2364 - val_acc: 0.7123\n",
      "Epoch 35/50\n",
      "267456/267475 [============================>.] - ETA: 0s - loss: 0.9592 - acc: 0.7433Epoch 00034: val_acc did not improve\n",
      "267475/267475 [==============================] - 1362s - loss: 0.9592 - acc: 0.7433 - val_loss: 1.3219 - val_acc: 0.6971\n",
      "Epoch 00034: early stopping\n"
     ]
    }
   ],
   "source": [
    "### Train model ###\n",
    "batch_size = 32\n",
    "epochs = 50\n",
    "\n",
    "history = model.fit([X_melody_train, X_chords_train], Y_train, epochs=epochs, validation_data=([X_melody_valid, X_chords_valid], Y_valid,), batch_size=batch_size, callbacks=[es, bp])"
   ]
  },
  {
   "cell_type": "code",
   "execution_count": 12,
   "metadata": {},
   "outputs": [
    {
     "data": {
      "text/plain": [
       "<matplotlib.figure.Figure at 0x7f7389086198>"
      ]
     },
     "metadata": {},
     "output_type": "display_data"
    },
    {
     "data": {
      "image/png": "[encoded data removed]",
      "text/plain": [
       "<matplotlib.figure.Figure at 0x7f73890869b0>"
      ]
     },
     "metadata": {},
     "output_type": "display_data"
    }
   ],
   "source": [
    "### Visualize model learning ###\n",
    "plt.clf()\n",
    "\n",
    "plt.figure(figsize=(15,5))\n",
    "plt.subplot(1, 2, 1)\n",
    "plt.plot(history.history['acc'])\n",
    "plt.plot(history.history['val_acc'])\n",
    "plt.title('model accuracy')\n",
    "plt.ylabel('accuracy')\n",
    "plt.xlabel('epoch')\n",
    "plt.legend(['train', 'validation'], loc='upper left')\n",
    "# plt.show()\n",
    "\n",
    "plt.subplot(1, 2, 2)\n",
    "plt.plot(history.history['loss'])\n",
    "plt.plot(history.history['val_loss'])\n",
    "plt.title('model loss')\n",
    "plt.ylabel('loss')\n",
    "plt.xlabel('epoch')\n",
    "plt.legend(['train', 'validation'], loc='upper left')\n",
    "plt.tight_layout()\n",
    "plt.suptitle(\"Training history of root model\", fontsize=16)\n",
    "plt.subplots_adjust(top=0.85)\n",
    "plt.show()"
   ]
  },
  {
   "cell_type": "code",
   "execution_count": 10,
   "metadata": {
    "collapsed": true
   },
   "outputs": [],
   "source": [
    "### Load best performance model ###\n",
    "model = load_model(\"../../models/triad_cc-7.h5\")"
   ]
  },
  {
   "cell_type": "code",
   "execution_count": 11,
   "metadata": {},
   "outputs": [
    {
     "name": "stdout",
     "output_type": "stream",
     "text": [
      "Categorical accuracy of combined chord prediction: 0.7009\n",
      "Kappa score of combined chord prediction: 0.6862\n"
     ]
    }
   ],
   "source": [
    "### Evaluate predictions ###\n",
    "\n",
    "# Predict chords from each test sample melody\n",
    "chord_pred = model.predict([X_melody_test, X_chords_test])\n",
    "\n",
    "    \n",
    "# Compute accuracy and kappa score \n",
    "print(\"Categorical accuracy of combined chord prediction: {0:.4f}\".format(harmoutil.compute_accuracy_score(Y_test, chord_pred)))\n",
    "print(\"Kappa score of combined chord prediction: {0:.4f}\".format(harmoutil.compute_kappa_score(Y_test, chord_pred)))"
   ]
  },
  {
   "cell_type": "code",
   "execution_count": 12,
   "metadata": {},
   "outputs": [
    {
     "data": {
      "image/png": "[encoded data removed]",
      "text/plain": [
       "<matplotlib.figure.Figure at 0x7fe10c13c908>"
      ]
     },
     "metadata": {},
     "output_type": "display_data"
    }
   ],
   "source": [
    "### Visualize prediction ###\n",
    "chord_test_labels = [index_chords[np.argmax(row)] for row in Y_test]\n",
    "chord_pred_labels = [index_chords[np.argmax(row)] for row in chord_pred]\n",
    "\n",
    "chord_cm = confusion_matrix(chord_test_labels, chord_pred_labels)\n",
    "\n",
    "labels = sorted(list(set(chord_test_labels)))\n",
    "# print(labels)\n",
    "plt.figure(figsize=(15,15))              \n",
    "ax = plt.axes()                 \n",
    "im = ax.matshow(chord_cm)      \n",
    "plt.colorbar(im, ax=ax)               \n",
    "plt.xticks(np.arange(len(labels)), labels, rotation='vertical')\n",
    "plt.yticks(np.arange(len(labels)), labels)\n",
    "plt.show()\n"
   ]
  },
  {
   "cell_type": "code",
   "execution_count": 13,
   "metadata": {},
   "outputs": [
    {
     "name": "stdout",
     "output_type": "stream",
     "text": [
      "Accuracy: 0.8865\n",
      "TP: 77358 TN: 278310 FP: 22758 FN: 22794\n",
      "301104 301068\n",
      "100116 100152\n",
      "Kappa: 0.6969\n"
     ]
    }
   ],
   "source": [
    "### Evaluate performnce in terms of note presence ###\n",
    "\n",
    "# Convertroot+suffix prediction to note presence vector (as in Model 4)\n",
    "converted_preds_list = []\n",
    "for ch in chord_pred:\n",
    "    chord_label = index_chords[np.argmax(ch)]\n",
    "    note_presence = harmoutil.chord_to_notes(chord_label)\n",
    "    converted_preds_list.append(note_presence)\n",
    "    \n",
    "    \n",
    "# Convert original groundtruth test set chords to note presence vector (as in Model 4)\n",
    "converted_trues_list = []\n",
    "for row in Y_test:\n",
    "    prediction = index_chords[np.argmax(row)]\n",
    "    note_presence = harmoutil.chord_to_notes(prediction)\n",
    "    converted_trues_list.append(note_presence)\n",
    "    \n",
    "# Create tesnsors of converted data\n",
    "converted_preds = np.zeros((Y_test.shape[0], 12), dtype='float32')\n",
    "converted_trues = np.zeros((Y_test.shape[0], 12), dtype='float32')\n",
    "for i, (pred, true) in enumerate(zip(converted_preds_list, converted_trues_list)):\n",
    "#     print(pred)\n",
    "    for j, pred_pres in enumerate(pred):\n",
    "#         print(j, pred_pres)\n",
    "        converted_preds[i, j] = pred_pres\n",
    "    for k, true_pres in enumerate(true):\n",
    "        converted_trues[i, k] = true_pres\n",
    "        \n",
    "# Compute accuracy\n",
    "print(\"Accuracy: {0:.4f}\".format(harmoutil.compute_multiclass_binary_accuracy_score(converted_trues, converted_preds)))\n",
    "print(\"Kappa: {0:.4f}\".format(harmoutil.compute_multiclass_binary_kappa_score(converted_trues, converted_preds)))\n",
    "        "
   ]
  },
  {
   "cell_type": "code",
   "execution_count": 14,
   "metadata": {},
   "outputs": [
    {
     "name": "stdout",
     "output_type": "stream",
     "text": [
      "Avg notes per prediction: 2.9943472409152085\n"
     ]
    }
   ],
   "source": [
    "counts = []\n",
    "for row in converted_preds:\n",
    "    result = []\n",
    "    count = 0\n",
    "    for note in row:\n",
    "        result.append(round(note))\n",
    "        count += note\n",
    "    counts.append(count)\n",
    "#     print(result)\n",
    "print(\"Avg notes per prediction:\", sum(counts)/len(counts))"
   ]
  },
  {
   "cell_type": "code",
   "execution_count": 15,
   "metadata": {},
   "outputs": [
    {
     "name": "stdout",
     "output_type": "stream",
     "text": [
      "F-score: 0.7725\n"
     ]
    }
   ],
   "source": [
    "print(\"F-score: {0:.4f}\".format(harmoutil.compute_binary_fscore(converted_trues, converted_preds)))"
   ]
  },
  {
   "cell_type": "code",
   "execution_count": null,
   "metadata": {
    "collapsed": true
   },
   "outputs": [],
   "source": []
  }
 ],
 "metadata": {
  "kernelspec": {
   "display_name": "Python 3",
   "language": "python",
   "name": "python3"
  },
  "language_info": {
   "codemirror_mode": {
    "name": "ipython",
    "version": 3
   },
   "file_extension": ".py",
   "mimetype": "text/x-python",
   "name": "python",
   "nbconvert_exporter": "python",
   "pygments_lexer": "ipython3",
   "version": "3.6.5"
  }
 },
 "nbformat": 4,
 "nbformat_minor": 2
}
