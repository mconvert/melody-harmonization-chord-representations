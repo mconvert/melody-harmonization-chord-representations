{
 "cells": [
  {
   "cell_type": "code",
   "execution_count": 1,
   "metadata": {},
   "outputs": [
    {
     "name": "stderr",
     "output_type": "stream",
     "text": [
      "/home/maxime/.local/lib/python3.5/site-packages/h5py/__init__.py:34: FutureWarning: Conversion of the second argument of issubdtype from `float` to `np.floating` is deprecated. In future, it will be treated as `np.float64 == np.dtype(float).type`.\n",
      "  from ._conv import register_converters as _register_converters\n",
      "Using TensorFlow backend.\n"
     ]
    }
   ],
   "source": [
    "import sys\n",
    "sys.path.insert(0, '../src')\n",
    "import harmoutil\n",
    "\n",
    "import numpy as np\n",
    "\n",
    "from sklearn.model_selection import StratifiedShuffleSplit\n",
    "\n",
    "from keras.models import Model\n",
    "from keras.layers import Input, Dense, GRU, concatenate, Embedding\n",
    "\n",
    "from IPython.display import SVG\n",
    "from keras.utils.vis_utils import model_to_dot\n",
    "\n",
    "from keras.callbacks import EarlyStopping, ModelCheckpoint\n",
    "\n",
    "from keras.models import load_model\n",
    "\n",
    "import matplotlib.pyplot as plt"
   ]
  },
  {
   "cell_type": "code",
   "execution_count": 2,
   "metadata": {},
   "outputs": [
    {
     "name": "stdout",
     "output_type": "stream",
     "text": [
      "---Raw data---\n",
      "Number of sections: 2408\n",
      "Sample section: [('Bb6', [[58.0], [58.0]]), ('G7', [[-1.0], [-1.0]]), ('C-7', [[-1.0], [-1.0]]), ('F7', [[-1.0], [-1.0]]), ('Bb', [[-1.0], [-1.0]]), ('G-7', [[50.0], [57.0, 60.0]]), ('C-7', [[58.0, 55.0], [58.0]]), ('F7', [[61.0], [60.0, 58.0]]), ('F-7', [[60.0], [58.0]]), ('Bb7', [[56.0, 60.0], [59.0, 57.0]]), ('Eb7', [[58.0, 54.0], [55.0, 58.0]]), ('Ab7', [[61.0, 56.0], [61.0, 62.0]]), ('D-7', [[58.0, 60.0], [55.0, 58.0]]), ('G7', [[58.0], [-1.0]]), ('C-7', [[-1.0], [-1.0]]), ('F7', [[-1.0], [-1.0]])]\n",
      "\n",
      "---Transpose and augment data---\n",
      "Number of sections after data augmentation: 28884\n",
      "Sample section: [('E6', [[52.0], [52.0]]), ('Db7', [[-1.0], [-1.0]]), ('Gb-7', [[-1.0], [-1.0]]), ('B7', [[-1.0], [-1.0]]), ('E', [[-1.0], [-1.0]]), ('Db-7', [[44.0], [51.0, 54.0]]), ('Gb-7', [[52.0, 49.0], [52.0]]), ('B7', [[55.0], [54.0, 52.0]]), ('B-7', [[54.0], [52.0]]), ('E7', [[50.0, 54.0], [53.0, 51.0]]), ('A7', [[52.0, 48.0], [49.0, 52.0]]), ('D7', [[55.0, 50.0], [55.0, 56.0]]), ('Ab-7', [[52.0, 54.0], [49.0, 52.0]]), ('Db7', [[52.0], [-1.0]]), ('Gb-7', [[-1.0], [-1.0]]), ('B7', [[-1.0], [-1.0]])]\n",
      "\n",
      "---Truncate chords to sevenths---\n",
      "Number of sections: 28884\n",
      "Sample section: [('E6', [[52.0], [52.0]]), ('Db7', [[-1.0], [-1.0]]), ('Gb-7', [[-1.0], [-1.0]]), ('B7', [[-1.0], [-1.0]]), ('E', [[-1.0], [-1.0]]), ('Db-7', [[44.0], [51.0, 54.0]]), ('Gb-7', [[52.0, 49.0], [52.0]]), ('B7', [[55.0], [54.0, 52.0]]), ('B-7', [[54.0], [52.0]]), ('E7', [[50.0, 54.0], [53.0, 51.0]]), ('A7', [[52.0, 48.0], [49.0, 52.0]]), ('D7', [[55.0, 50.0], [55.0, 56.0]]), ('Ab-7', [[52.0, 54.0], [49.0, 52.0]]), ('Db7', [[52.0], [-1.0]]), ('Gb-7', [[-1.0], [-1.0]]), ('B7', [[-1.0], [-1.0]])]\n",
      "\n",
      "---Convert melody to integers---\n",
      "Number of sections: 28884\n",
      "Sample section: [('E6', [[4], [4]]), ('Db7', [[-1], [-1]]), ('Gb-7', [[-1], [-1]]), ('B7', [[-1], [-1]]), ('E', [[-1], [-1]]), ('Db-7', [[8], [3, 6]]), ('Gb-7', [[4, 1], [4]]), ('B7', [[7], [6, 4]]), ('B-7', [[6], [4]]), ('E7', [[2, 6], [5, 3]]), ('A7', [[4, 0], [1, 4]]), ('D7', [[7, 2], [7, 8]]), ('Ab-7', [[4, 6], [1, 4]]), ('Db7', [[4], [-1]]), ('Gb-7', [[-1], [-1]]), ('B7', [[-1], [-1]])]\n",
      "\n"
     ]
    }
   ],
   "source": [
    "# Load data\n",
    "raw_data = harmoutil.load_pickled_data(\"../data/refined_data.pkl\") # lists of (chord label, melody seqs) by sections\n",
    "print(\"---Raw data---\")\n",
    "print(\"Number of sections: {}\".format(len(raw_data)))\n",
    "print(\"Sample section: {}\\n\".format(raw_data[0]))\n",
    "augmented_data = harmoutil.transpose_and_augment_data(raw_data)\n",
    "print(\"---Transpose and augment data---\")\n",
    "print(\"Number of sections after data augmentation: {}\".format(len(augmented_data)))\n",
    "print(\"Sample section: {}\\n\".format(augmented_data[0]))\n",
    "data = [harmoutil.to_sevenths(section) for section in augmented_data]\n",
    "print(\"---Truncate chords to sevenths---\")\n",
    "print(\"Number of sections: {}\".format(len(data)))\n",
    "print(\"Sample section: {}\\n\".format(data[0]))\n",
    "data = [harmoutil.melody_to_octave_range(section) for section in data]\n",
    "print(\"---Convert melody to integers---\")\n",
    "print(\"Number of sections: {}\".format(len(data)))\n",
    "print(\"Sample section: {}\\n\".format(data[0]))"
   ]
  },
  {
   "cell_type": "code",
   "execution_count": 3,
   "metadata": {},
   "outputs": [
    {
     "name": "stdout",
     "output_type": "stream",
     "text": [
      "---Remove sections with augmented major chord---\n",
      "Number of sections: 28836\n",
      "\n",
      "Number of sections: 28836 | Sample section chords: ['E6', 'Db7', 'Gb-7', 'B7', 'E', 'Db-7', 'Gb-7', 'B7', 'B-7', 'E7', 'A7', 'D7', 'Ab-7', 'Db7', 'Gb-7', 'B7']\n",
      "Number of chords: 333480 | Sample chord: E6\n",
      "Number of melodies 333480 | Sample melody: [4, 4]\n",
      "Number of melody notes in the data: 2195328 | Sample melody note: 4\n"
     ]
    }
   ],
   "source": [
    "# Create individual chord and melody element lists \n",
    "def get_notes_by_chord(beats):\n",
    "    return [note for beat in beats for note in beat]\n",
    "\n",
    "def get_chords_by_section(section):\n",
    "    return [chord_info[0] for chord_info in section]\n",
    "\n",
    "def check_if_augmented_major(section):\n",
    "    section_chords = get_chords_by_section(section)\n",
    "    for ch in section_chords:\n",
    "        if \"+j7\" in ch:\n",
    "            return True\n",
    "    return False\n",
    "\n",
    "\n",
    "# Remove sections that involve augmented major chords (since not enough data to even allow StratifiedShuffleSplit)\n",
    "data = [section for section in data if not check_if_augmented_major(section)]\n",
    "print(\"---Remove sections with augmented major chord---\")\n",
    "print(\"Number of sections: {}\\n\".format(len(data)))\n",
    "\n",
    "chords_by_sections = [get_chords_by_section(section) for section in data]\n",
    "chords = [chord_info[0] for section in data for chord_info in section]\n",
    "notes_by_chords = [get_notes_by_chord(chord_info[1]) for section in data for chord_info in section]\n",
    "notes = [note for chord_notes in notes_by_chords for note in chord_notes]\n",
    "# print(sum([len(section) for section in chords_by_sections]))\n",
    "print(\"Number of sections: {} | Sample section chords: {}\".format(len(chords_by_sections), chords_by_sections[0]))\n",
    "print(\"Number of chords: {} | Sample chord: {}\".format(len(chords), chords[0]))\n",
    "print(\"Number of melodies {} | Sample melody: {}\".format(len(notes_by_chords), notes_by_chords[0]))\n",
    "print(\"Number of melody notes in the data: {} | Sample melody note: {}\".format(len(notes), notes[0]))"
   ]
  },
  {
   "cell_type": "code",
   "execution_count": 4,
   "metadata": {},
   "outputs": [
    {
     "name": "stdout",
     "output_type": "stream",
     "text": [
      "Melody note to integer mapping:\n",
      " {0: 0, 1: 1, 2: 2, 3: 3, 4: 4, 5: 5, 6: 6, 7: 7, 8: 8, 9: 9, 10: 10, 11: 11, '<pad>': 13, -1: 12}\n",
      "\n",
      "Integer to melody note mapping:\n",
      " {0: 0, 1: 1, 2: 2, 3: 3, 4: 4, 5: 5, 6: 6, 7: 7, 8: 8, 9: 9, 10: 10, 11: 11, 12: -1, 13: '<pad>'}\n",
      "\n",
      "Chord label to integer mapping:\n",
      " {'Do': 101, 'Dbsus7': 98, 'E': 105, 'B': 30, 'Go7': 177, 'A7': 8, 'Asus': 28, 'Gbo7': 171, 'D+7': 77, 'Bbo': 50, 'Db-7': 89, 'D': 75, 'Ab+': 10, 'NC': 180, 'Fm7b5': 145, 'Esus': 133, 'A6': 7, 'F7': 143, 'F-6': 139, 'G6': 157, 'D+': 76, 'Abo7': 21, 'Gb-7': 164, 'G-7': 155, 'C7': 68, 'Eb': 114, 'D-': 78, 'Do7': 102, 'D-6': 79, 'Gb-6': 163, 'Bb7': 47, 'Db+': 85, 'Bsus': 58, 'Em7b5': 130, 'A+7': 2, 'Eb-j7': 120, 'Ebm7b5': 124, 'Bb-6': 43, 'B-j7': 36, 'Fsus': 148, 'E+': 106, 'B+7': 32, 'Cj7': 69, 'Gbsus7': 173, 'B7': 38, 'E-7': 110, 'Cm7b5': 70, 'Gsus7': 179, 'D7': 83, 'A-': 3, 'F+': 136, 'G': 150, 'A-j7': 6, 'Eo': 131, 'Gb7': 167, 'Db-j7': 90, 'Dsus': 103, 'Gm7b5': 175, 'Ab6': 16, 'Ao7': 27, 'Eb7': 122, 'C': 60, 'Dbj7': 93, 'Eb+7': 116, 'Ej7': 129, 'Ebo': 125, 'Bb-j7': 45, 'Bj7': 54, 'Dm7b5': 100, 'Db6': 91, 'Dbo': 95, 'E-j7': 111, 'G+7': 152, 'B-7': 35, 'Fj7': 144, 'F6': 142, 'A': 0, 'Bsus7': 59, 'Fo': 146, 'E-': 108, 'Abj7': 18, 'Gb-': 162, 'Gbo': 170, 'G7': 158, 'Db7': 92, 'E6': 112, 'Eb6': 121, 'Ab+7': 11, 'Gbsus': 172, 'F': 135, 'Ab-j7': 15, 'Gbj7': 168, 'Bm7b5': 55, 'Ab-': 12, 'Ao': 26, 'B-': 33, 'Csus7': 74, 'Bbo7': 51, 'Db': 84, 'Db+7': 86, 'D-7': 80, 'D6': 82, 'E7': 113, 'Bb': 39, 'Dbm7b5': 94, 'Bo7': 57, 'Ab7': 17, 'Db-6': 88, 'B+': 31, 'F-j7': 141, 'Eo7': 132, 'Ab-7': 14, 'F+7': 137, 'Gb+7': 161, 'Ebsus': 127, 'Co': 71, 'Bbsus': 52, 'A+': 1, 'Bb6': 46, 'Bb-': 42, 'Eb-6': 118, 'Absus': 22, 'Dsus7': 104, 'Absus7': 23, 'Bo': 56, 'C-': 63, 'Db-': 87, 'Ab': 9, 'Dbsus': 97, 'Bb-7': 44, 'C-j7': 66, 'F-7': 140, 'Esus7': 134, 'Gb': 159, 'Bbsus7': 53, 'Asus7': 29, 'Bb+7': 41, 'C-6': 64, 'Dbo7': 96, 'Aj7': 24, 'G-j7': 156, 'Abo': 20, 'Ebj7': 123, 'Gsus': 178, 'Gj7': 174, 'Bbm7b5': 49, 'A-7': 5, 'G-6': 154, 'Eb-7': 119, 'Bb+': 40, 'D-j7': 81, 'Csus': 73, 'Gb+': 160, 'C+': 61, 'C+7': 62, 'B6': 37, 'Ebsus7': 128, 'Fo7': 147, 'Gbm7b5': 169, 'G-': 153, 'G+': 151, 'Co7': 72, 'Eb+': 115, 'F-': 138, 'C-7': 65, 'Abm7b5': 19, 'Am7b5': 25, 'Gb6': 166, 'A-6': 4, 'Ab-6': 13, 'B-6': 34, 'Gb-j7': 165, 'Go': 176, 'Bbj7': 48, 'C6': 67, 'E+7': 107, 'E-6': 109, '<bos>': 181, 'Eb-': 117, 'Dj7': 99, 'Fsus7': 149, 'Ebo7': 126}\n",
      "\n",
      "Integer to chord label mapping:\n",
      " {0: 'A', 1: 'A+', 2: 'A+7', 3: 'A-', 4: 'A-6', 5: 'A-7', 6: 'A-j7', 7: 'A6', 8: 'A7', 9: 'Ab', 10: 'Ab+', 11: 'Ab+7', 12: 'Ab-', 13: 'Ab-6', 14: 'Ab-7', 15: 'Ab-j7', 16: 'Ab6', 17: 'Ab7', 18: 'Abj7', 19: 'Abm7b5', 20: 'Abo', 21: 'Abo7', 22: 'Absus', 23: 'Absus7', 24: 'Aj7', 25: 'Am7b5', 26: 'Ao', 27: 'Ao7', 28: 'Asus', 29: 'Asus7', 30: 'B', 31: 'B+', 32: 'B+7', 33: 'B-', 34: 'B-6', 35: 'B-7', 36: 'B-j7', 37: 'B6', 38: 'B7', 39: 'Bb', 40: 'Bb+', 41: 'Bb+7', 42: 'Bb-', 43: 'Bb-6', 44: 'Bb-7', 45: 'Bb-j7', 46: 'Bb6', 47: 'Bb7', 48: 'Bbj7', 49: 'Bbm7b5', 50: 'Bbo', 51: 'Bbo7', 52: 'Bbsus', 53: 'Bbsus7', 54: 'Bj7', 55: 'Bm7b5', 56: 'Bo', 57: 'Bo7', 58: 'Bsus', 59: 'Bsus7', 60: 'C', 61: 'C+', 62: 'C+7', 63: 'C-', 64: 'C-6', 65: 'C-7', 66: 'C-j7', 67: 'C6', 68: 'C7', 69: 'Cj7', 70: 'Cm7b5', 71: 'Co', 72: 'Co7', 73: 'Csus', 74: 'Csus7', 75: 'D', 76: 'D+', 77: 'D+7', 78: 'D-', 79: 'D-6', 80: 'D-7', 81: 'D-j7', 82: 'D6', 83: 'D7', 84: 'Db', 85: 'Db+', 86: 'Db+7', 87: 'Db-', 88: 'Db-6', 89: 'Db-7', 90: 'Db-j7', 91: 'Db6', 92: 'Db7', 93: 'Dbj7', 94: 'Dbm7b5', 95: 'Dbo', 96: 'Dbo7', 97: 'Dbsus', 98: 'Dbsus7', 99: 'Dj7', 100: 'Dm7b5', 101: 'Do', 102: 'Do7', 103: 'Dsus', 104: 'Dsus7', 105: 'E', 106: 'E+', 107: 'E+7', 108: 'E-', 109: 'E-6', 110: 'E-7', 111: 'E-j7', 112: 'E6', 113: 'E7', 114: 'Eb', 115: 'Eb+', 116: 'Eb+7', 117: 'Eb-', 118: 'Eb-6', 119: 'Eb-7', 120: 'Eb-j7', 121: 'Eb6', 122: 'Eb7', 123: 'Ebj7', 124: 'Ebm7b5', 125: 'Ebo', 126: 'Ebo7', 127: 'Ebsus', 128: 'Ebsus7', 129: 'Ej7', 130: 'Em7b5', 131: 'Eo', 132: 'Eo7', 133: 'Esus', 134: 'Esus7', 135: 'F', 136: 'F+', 137: 'F+7', 138: 'F-', 139: 'F-6', 140: 'F-7', 141: 'F-j7', 142: 'F6', 143: 'F7', 144: 'Fj7', 145: 'Fm7b5', 146: 'Fo', 147: 'Fo7', 148: 'Fsus', 149: 'Fsus7', 150: 'G', 151: 'G+', 152: 'G+7', 153: 'G-', 154: 'G-6', 155: 'G-7', 156: 'G-j7', 157: 'G6', 158: 'G7', 159: 'Gb', 160: 'Gb+', 161: 'Gb+7', 162: 'Gb-', 163: 'Gb-6', 164: 'Gb-7', 165: 'Gb-j7', 166: 'Gb6', 167: 'Gb7', 168: 'Gbj7', 169: 'Gbm7b5', 170: 'Gbo', 171: 'Gbo7', 172: 'Gbsus', 173: 'Gbsus7', 174: 'Gj7', 175: 'Gm7b5', 176: 'Go', 177: 'Go7', 178: 'Gsus', 179: 'Gsus7', 180: 'NC', 181: '<bos>'}\n",
      "\n"
     ]
    }
   ],
   "source": [
    "# Create categorical data mappings\n",
    "\n",
    "# Note to integer index\n",
    "note_to_int = dict([(c, i) for i, c in enumerate(sorted(list(set(notes)))[1:])])\n",
    "note_to_int[-1] = len(note_to_int)\n",
    "note_to_int['<pad>'] = len(note_to_int)\n",
    "print(\"Melody note to integer mapping:\\n {}\\n\".format(note_to_int))\n",
    "\n",
    "# Integer to note\n",
    "int_to_note = dict([(k, v) for v, k in note_to_int.items()])\n",
    "print(\"Integer to melody note mapping:\\n {}\\n\".format(int_to_note))\n",
    "\n",
    "# Chord to integer index\n",
    "chord_to_int = dict([(c, i) for i, c in enumerate(sorted(list(set(chords))))])\n",
    "chord_to_int['<bos>'] = len(chord_to_int)\n",
    "print(\"Chord label to integer mapping:\\n {}\\n\".format(chord_to_int))\n",
    "\n",
    "\n",
    "# Integer to chord index\n",
    "int_to_chord = dict([(k, v) for v, k in chord_to_int.items()])\n",
    "print(\"Integer to chord label mapping:\\n {}\\n\".format(int_to_chord))"
   ]
  },
  {
   "cell_type": "code",
   "execution_count": 5,
   "metadata": {},
   "outputs": [
    {
     "name": "stdout",
     "output_type": "stream",
     "text": [
      "Total number of samples: 333480\n",
      "Number of distinct melody notes: 14\n",
      "Number of distinct chord labels: 182\n",
      "Maximum melody sequence length: 135\n",
      "Fixed context chord sequence length: 7\n"
     ]
    }
   ],
   "source": [
    "# Define numerical variables\n",
    "\n",
    "n_samples = len(chords)\n",
    "n_notes = len(note_to_int)\n",
    "n_chords = len(chord_to_int)\n",
    "max_melody_len = max([len(mel_seq) for mel_seq in notes_by_chords])\n",
    "chord_context_len = 7\n",
    "\n",
    "print(\"Total number of samples: {}\".format(n_samples))\n",
    "print(\"Number of distinct melody notes: {}\".format(n_notes))\n",
    "print(\"Number of distinct chord labels: {}\".format(n_chords))\n",
    "print(\"Maximum melody sequence length: {}\".format(max_melody_len))\n",
    "print(\"Fixed context chord sequence length: {}\".format(7))"
   ]
  },
  {
   "cell_type": "code",
   "execution_count": 6,
   "metadata": {},
   "outputs": [
    {
     "name": "stdout",
     "output_type": "stream",
     "text": [
      "Sample input melody sequence: [8, 3, 6, '<pad>', '<pad>', '<pad>', '<pad>', '<pad>', '<pad>', '<pad>', '<pad>', '<pad>', '<pad>', '<pad>', '<pad>', '<pad>', '<pad>', '<pad>', '<pad>', '<pad>', '<pad>', '<pad>', '<pad>', '<pad>', '<pad>', '<pad>', '<pad>', '<pad>', '<pad>', '<pad>', '<pad>', '<pad>', '<pad>', '<pad>', '<pad>', '<pad>', '<pad>', '<pad>', '<pad>', '<pad>', '<pad>', '<pad>', '<pad>', '<pad>', '<pad>', '<pad>', '<pad>', '<pad>', '<pad>', '<pad>', '<pad>', '<pad>', '<pad>', '<pad>', '<pad>', '<pad>', '<pad>', '<pad>', '<pad>', '<pad>', '<pad>', '<pad>', '<pad>', '<pad>', '<pad>', '<pad>', '<pad>', '<pad>', '<pad>', '<pad>', '<pad>', '<pad>', '<pad>', '<pad>', '<pad>', '<pad>', '<pad>', '<pad>', '<pad>', '<pad>', '<pad>', '<pad>', '<pad>', '<pad>', '<pad>', '<pad>', '<pad>', '<pad>', '<pad>', '<pad>', '<pad>', '<pad>', '<pad>', '<pad>', '<pad>', '<pad>', '<pad>', '<pad>', '<pad>', '<pad>', '<pad>', '<pad>', '<pad>', '<pad>', '<pad>', '<pad>', '<pad>', '<pad>', '<pad>', '<pad>', '<pad>', '<pad>', '<pad>', '<pad>', '<pad>', '<pad>', '<pad>', '<pad>', '<pad>', '<pad>', '<pad>', '<pad>', '<pad>', '<pad>', '<pad>', '<pad>', '<pad>', '<pad>', '<pad>', '<pad>', '<pad>', '<pad>', '<pad>', '<pad>', '<pad>']\n",
      "\n",
      "Sample input chord sequence: ['<bos>', '<bos>', 'E6', 'Db7', 'Gb-7', 'B7', 'E']\n",
      "\n",
      "Sample target chord: Db-7\n",
      "\n",
      "Input melody: 333480, Input chords: 333480, Target chords: 333480\n"
     ]
    }
   ],
   "source": [
    "# Prepare tensor data\n",
    "\n",
    "def pad_melody(melody, max_len):\n",
    "    return melody + (max_len-len(melody))*['<pad>']\n",
    "\n",
    "def build_input_chord_sequences(chord_seq, context_len):\n",
    "    padded_sequence = context_len*['<bos>'] + chord_seq\n",
    "    formatted_sequences = [padded_sequence[i:i+context_len+1] for i in range(len(chord_seq))]\n",
    "    return formatted_sequences\n",
    "\n",
    "# Melody\n",
    "input_melody_data = [pad_melody(melody, max_melody_len) for melody in notes_by_chords]\n",
    "print(\"Sample input melody sequence: {}\\n\".format(input_melody_data[5]))\n",
    "\n",
    "\n",
    "# Chords\n",
    "formatted_chords_data = []\n",
    "for section_chords in chords_by_sections:\n",
    "    formatted_chords_data += build_input_chord_sequences(section_chords, chord_context_len)\n",
    "\n",
    "input_chords_data = [ch[:-1] for ch in formatted_chords_data]\n",
    "target_chords_data = [ch[-1] for ch in formatted_chords_data]\n",
    "print(\"Sample input chord sequence: {}\\n\".format(input_chords_data[5]))\n",
    "print(\"Sample target chord: {}\\n\".format(target_chords_data[5]))\n",
    "\n",
    "print(\"Input melody: {}, Input chords: {}, Target chords: {}\".format(len(input_melody_data), len(input_chords_data), len(target_chords_data)))"
   ]
  },
  {
   "cell_type": "code",
   "execution_count": 13,
   "metadata": {
    "collapsed": true
   },
   "outputs": [],
   "source": [
    "# Build tensors\n",
    "\n",
    "X_melody = np.zeros((n_samples, max_melody_len, n_notes), dtype='float32')\n",
    "X_chords = np.zeros((n_samples, chord_context_len), dtype='float32')\n",
    "Y = np.zeros((n_samples, n_chords), dtype='float32')\n",
    "\n",
    "for i, (input_mel, input_ch, target_ch) in enumerate(zip(input_melody_data, input_chords_data, target_chords_data)):\n",
    "    Y[i, chord_to_int[target_ch]] = 1\n",
    "    for j, chord in enumerate(input_ch):\n",
    "        X_chords[i, j] = chord_to_int[chord]\n",
    "        \n",
    "    for j, note in enumerate(input_mel):\n",
    "        X_melody[i, j, note_to_int[note]] = 1\n"
   ]
  },
  {
   "cell_type": "code",
   "execution_count": 14,
   "metadata": {},
   "outputs": [
    {
     "name": "stdout",
     "output_type": "stream",
     "text": [
      "(333480, 135, 14) = (n_samples, max_melody_len, n_notes)\n",
      "(True, 45019800, 45019800.0, 44982130.0, 45019800)\n"
     ]
    }
   ],
   "source": [
    "# Test melody tensor\n",
    "\n",
    "def test_samples_axis(melody_tensor):\n",
    "    count = 0\n",
    "    sample_axis_sums = melody_tensor.sum(axis=2)\n",
    "    for entry in sample_axis_sums.ravel():\n",
    "        count += 1\n",
    "        if not (entry == 1):\n",
    "            return (False, count)\n",
    "    return (True, count, np.sum(sample_axis_sums), np.sum(melody_tensor), np.sum(melody_tensor, dtype=np.int32))\n",
    "\n",
    "# Test n_samples axis i.e. axis 1. If there are any \"holes\" (non-1) entry, it's a problem\n",
    "print(\"{} = (n_samples, max_melody_len, n_notes)\".format(X_melody.shape))\n",
    "print(test_samples_axis(X_melody))"
   ]
  },
  {
   "cell_type": "code",
   "execution_count": 15,
   "metadata": {
    "collapsed": true
   },
   "outputs": [],
   "source": [
    "# Split dataset into 80%-10%-10% train-valid-test\n",
    "\n",
    "seed = 0\n",
    "\n",
    "sss = StratifiedShuffleSplit(n_splits=1, test_size=0.2, random_state=seed)\n",
    "\n",
    "for train_index, aux_index in sss.split(X_chords, Y):\n",
    "    X_melody_train, X_melody_aux = X_melody[train_index], X_melody[aux_index]\n",
    "    X_chords_train, X_chords_aux = X_chords[train_index], X_chords[aux_index]\n",
    "    Y_train, Y_aux = Y[train_index], Y[aux_index]\n",
    "    \n",
    "sss = StratifiedShuffleSplit(n_splits=1, test_size=0.5, random_state=seed)\n",
    "\n",
    "for valid_index, test_index in sss.split(X_chords_aux, Y_aux):\n",
    "    X_melody_valid, X_melody_test = X_melody[valid_index], X_melody[test_index]\n",
    "    X_chords_valid, X_chords_test = X_chords[valid_index], X_chords[test_index]\n",
    "    Y_valid, Y_test = Y[valid_index], Y[test_index]"
   ]
  },
  {
   "cell_type": "code",
   "execution_count": 16,
   "metadata": {
    "scrolled": false
   },
   "outputs": [
    {
     "name": "stdout",
     "output_type": "stream",
     "text": [
      "____________________________________________________________________________________________________\n",
      "Layer (type)                     Output Shape          Param #     Connected to                     \n",
      "====================================================================================================\n",
      "chords-input (InputLayer)        (None, 7)             0                                            \n",
      "____________________________________________________________________________________________________\n",
      "melody-input (InputLayer)        (None, 135, 14)       0                                            \n",
      "____________________________________________________________________________________________________\n",
      "embeddings (Embedding)           (None, 7, 50)         9100        chords-input[0][0]               \n",
      "____________________________________________________________________________________________________\n",
      "gru_6 (GRU)                      (None, 135, 128)      54912       melody-input[0][0]               \n",
      "____________________________________________________________________________________________________\n",
      "chords-gru1 (GRU)                (None, 7, 128)        68736       embeddings[0][0]                 \n",
      "____________________________________________________________________________________________________\n",
      "gru_7 (GRU)                      (None, 135, 128)      98688       gru_6[0][0]                      \n",
      "____________________________________________________________________________________________________\n",
      "gru_9 (GRU)                      (None, 7, 128)        98688       chords-gru1[0][0]                \n",
      "____________________________________________________________________________________________________\n",
      "gru_8 (GRU)                      (None, 128)           98688       gru_7[0][0]                      \n",
      "____________________________________________________________________________________________________\n",
      "gru_10 (GRU)                     (None, 128)           98688       gru_9[0][0]                      \n",
      "____________________________________________________________________________________________________\n",
      "concatenate_2 (Concatenate)      (None, 256)           0           gru_8[0][0]                      \n",
      "                                                                   gru_10[0][0]                     \n",
      "____________________________________________________________________________________________________\n",
      "dense_4 (Dense)                  (None, 128)           32896       concatenate_2[0][0]              \n",
      "____________________________________________________________________________________________________\n",
      "dense_5 (Dense)                  (None, 128)           16512       dense_4[0][0]                    \n",
      "____________________________________________________________________________________________________\n",
      "dense_6 (Dense)                  (None, 182)           23478       dense_5[0][0]                    \n",
      "====================================================================================================\n",
      "Total params: 600,386\n",
      "Trainable params: 600,386\n",
      "Non-trainable params: 0\n",
      "____________________________________________________________________________________________________\n",
      "None\n"
     ]
    },
    {
     "data": {
      "image/svg+xml": [
       "<svg height=\"629pt\" viewBox=\"0.00 0.00 337.50 629.00\" width=\"338pt\" xmlns=\"http://www.w3.org/2000/svg\" xmlns:xlink=\"http://www.w3.org/1999/xlink\">\n",
       "<g class=\"graph\" id=\"graph0\" transform=\"scale(1 1) rotate(0) translate(4 625)\">\n",
       "<title>G</title>\n",
       "<polygon fill=\"white\" points=\"-4,4 -4,-625 333.5,-625 333.5,4 -4,4\" stroke=\"none\"/>\n",
       "<!-- 140209596771072 -->\n",
       "<g class=\"node\" id=\"node1\"><title>140209596771072</title>\n",
       "<polygon fill=\"none\" points=\"0.5,-584.5 0.5,-620.5 152.5,-620.5 152.5,-584.5 0.5,-584.5\" stroke=\"black\"/>\n",
       "<text font-family=\"Times,serif\" font-size=\"14.00\" text-anchor=\"middle\" x=\"76.5\" y=\"-598.8\">chords-input: InputLayer</text>\n",
       "</g>\n",
       "<!-- 140209595595464 -->\n",
       "<g class=\"node\" id=\"node3\"><title>140209595595464</title>\n",
       "<polygon fill=\"none\" points=\"0,-511.5 0,-547.5 153,-547.5 153,-511.5 0,-511.5\" stroke=\"black\"/>\n",
       "<text font-family=\"Times,serif\" font-size=\"14.00\" text-anchor=\"middle\" x=\"76.5\" y=\"-525.8\">embeddings: Embedding</text>\n",
       "</g>\n",
       "<!-- 140209596771072&#45;&gt;140209595595464 -->\n",
       "<g class=\"edge\" id=\"edge1\"><title>140209596771072-&gt;140209595595464</title>\n",
       "<path d=\"M76.5,-584.313C76.5,-576.289 76.5,-566.547 76.5,-557.569\" fill=\"none\" stroke=\"black\"/>\n",
       "<polygon fill=\"black\" points=\"80.0001,-557.529 76.5,-547.529 73.0001,-557.529 80.0001,-557.529\" stroke=\"black\"/>\n",
       "</g>\n",
       "<!-- 140209606537344 -->\n",
       "<g class=\"node\" id=\"node2\"><title>140209606537344</title>\n",
       "<polygon fill=\"none\" points=\"171.5,-511.5 171.5,-547.5 329.5,-547.5 329.5,-511.5 171.5,-511.5\" stroke=\"black\"/>\n",
       "<text font-family=\"Times,serif\" font-size=\"14.00\" text-anchor=\"middle\" x=\"250.5\" y=\"-525.8\">melody-input: InputLayer</text>\n",
       "</g>\n",
       "<!-- 140209606540648 -->\n",
       "<g class=\"node\" id=\"node4\"><title>140209606540648</title>\n",
       "<polygon fill=\"none\" points=\"194.5,-438.5 194.5,-474.5 278.5,-474.5 278.5,-438.5 194.5,-438.5\" stroke=\"black\"/>\n",
       "<text font-family=\"Times,serif\" font-size=\"14.00\" text-anchor=\"middle\" x=\"236.5\" y=\"-452.8\">gru_6: GRU</text>\n",
       "</g>\n",
       "<!-- 140209606537344&#45;&gt;140209606540648 -->\n",
       "<g class=\"edge\" id=\"edge2\"><title>140209606537344-&gt;140209606540648</title>\n",
       "<path d=\"M247.111,-511.313C245.529,-503.289 243.608,-493.547 241.838,-484.569\" fill=\"none\" stroke=\"black\"/>\n",
       "<polygon fill=\"black\" points=\"245.226,-483.663 239.858,-474.529 238.359,-485.017 245.226,-483.663\" stroke=\"black\"/>\n",
       "</g>\n",
       "<!-- 140209595596304 -->\n",
       "<g class=\"node\" id=\"node5\"><title>140209595596304</title>\n",
       "<polygon fill=\"none\" points=\"31.5,-438.5 31.5,-474.5 149.5,-474.5 149.5,-438.5 31.5,-438.5\" stroke=\"black\"/>\n",
       "<text font-family=\"Times,serif\" font-size=\"14.00\" text-anchor=\"middle\" x=\"90.5\" y=\"-452.8\">chords-gru1: GRU</text>\n",
       "</g>\n",
       "<!-- 140209595595464&#45;&gt;140209595596304 -->\n",
       "<g class=\"edge\" id=\"edge3\"><title>140209595595464-&gt;140209595596304</title>\n",
       "<path d=\"M79.889,-511.313C81.4711,-503.289 83.392,-493.547 85.1624,-484.569\" fill=\"none\" stroke=\"black\"/>\n",
       "<polygon fill=\"black\" points=\"88.6414,-485.017 87.1422,-474.529 81.7737,-483.663 88.6414,-485.017\" stroke=\"black\"/>\n",
       "</g>\n",
       "<!-- 140209606538352 -->\n",
       "<g class=\"node\" id=\"node6\"><title>140209606538352</title>\n",
       "<polygon fill=\"none\" points=\"191.5,-365.5 191.5,-401.5 275.5,-401.5 275.5,-365.5 191.5,-365.5\" stroke=\"black\"/>\n",
       "<text font-family=\"Times,serif\" font-size=\"14.00\" text-anchor=\"middle\" x=\"233.5\" y=\"-379.8\">gru_7: GRU</text>\n",
       "</g>\n",
       "<!-- 140209606540648&#45;&gt;140209606538352 -->\n",
       "<g class=\"edge\" id=\"edge4\"><title>140209606540648-&gt;140209606538352</title>\n",
       "<path d=\"M235.774,-438.313C235.435,-430.289 235.023,-420.547 234.644,-411.569\" fill=\"none\" stroke=\"black\"/>\n",
       "<polygon fill=\"black\" points=\"238.139,-411.372 234.22,-401.529 231.145,-411.668 238.139,-411.372\" stroke=\"black\"/>\n",
       "</g>\n",
       "<!-- 140209595596080 -->\n",
       "<g class=\"node\" id=\"node7\"><title>140209595596080</title>\n",
       "<polygon fill=\"none\" points=\"68.5,-365.5 68.5,-401.5 152.5,-401.5 152.5,-365.5 68.5,-365.5\" stroke=\"black\"/>\n",
       "<text font-family=\"Times,serif\" font-size=\"14.00\" text-anchor=\"middle\" x=\"110.5\" y=\"-379.8\">gru_9: GRU</text>\n",
       "</g>\n",
       "<!-- 140209595596304&#45;&gt;140209595596080 -->\n",
       "<g class=\"edge\" id=\"edge5\"><title>140209595596304-&gt;140209595596080</title>\n",
       "<path d=\"M95.3414,-438.313C97.6261,-430.202 100.405,-420.336 102.957,-411.277\" fill=\"none\" stroke=\"black\"/>\n",
       "<polygon fill=\"black\" points=\"106.361,-412.103 105.703,-401.529 99.6228,-410.205 106.361,-412.103\" stroke=\"black\"/>\n",
       "</g>\n",
       "<!-- 140209606495032 -->\n",
       "<g class=\"node\" id=\"node8\"><title>140209606495032</title>\n",
       "<polygon fill=\"none\" points=\"181.5,-292.5 181.5,-328.5 265.5,-328.5 265.5,-292.5 181.5,-292.5\" stroke=\"black\"/>\n",
       "<text font-family=\"Times,serif\" font-size=\"14.00\" text-anchor=\"middle\" x=\"223.5\" y=\"-306.8\">gru_8: GRU</text>\n",
       "</g>\n",
       "<!-- 140209606538352&#45;&gt;140209606495032 -->\n",
       "<g class=\"edge\" id=\"edge6\"><title>140209606538352-&gt;140209606495032</title>\n",
       "<path d=\"M231.079,-365.313C229.949,-357.289 228.577,-347.547 227.313,-338.569\" fill=\"none\" stroke=\"black\"/>\n",
       "<polygon fill=\"black\" points=\"230.759,-337.943 225.898,-328.529 223.827,-338.919 230.759,-337.943\" stroke=\"black\"/>\n",
       "</g>\n",
       "<!-- 140209594053352 -->\n",
       "<g class=\"node\" id=\"node9\"><title>140209594053352</title>\n",
       "<polygon fill=\"none\" points=\"70,-292.5 70,-328.5 161,-328.5 161,-292.5 70,-292.5\" stroke=\"black\"/>\n",
       "<text font-family=\"Times,serif\" font-size=\"14.00\" text-anchor=\"middle\" x=\"115.5\" y=\"-306.8\">gru_10: GRU</text>\n",
       "</g>\n",
       "<!-- 140209595596080&#45;&gt;140209594053352 -->\n",
       "<g class=\"edge\" id=\"edge7\"><title>140209595596080-&gt;140209594053352</title>\n",
       "<path d=\"M111.71,-365.313C112.275,-357.289 112.961,-347.547 113.594,-338.569\" fill=\"none\" stroke=\"black\"/>\n",
       "<polygon fill=\"black\" points=\"117.09,-338.75 114.301,-328.529 110.107,-338.258 117.09,-338.75\" stroke=\"black\"/>\n",
       "</g>\n",
       "<!-- 140209592472632 -->\n",
       "<g class=\"node\" id=\"node10\"><title>140209592472632</title>\n",
       "<polygon fill=\"none\" points=\"85.5,-219.5 85.5,-255.5 253.5,-255.5 253.5,-219.5 85.5,-219.5\" stroke=\"black\"/>\n",
       "<text font-family=\"Times,serif\" font-size=\"14.00\" text-anchor=\"middle\" x=\"169.5\" y=\"-233.8\">concatenate_2: Concatenate</text>\n",
       "</g>\n",
       "<!-- 140209606495032&#45;&gt;140209592472632 -->\n",
       "<g class=\"edge\" id=\"edge8\"><title>140209606495032-&gt;140209592472632</title>\n",
       "<path d=\"M210.428,-292.313C203.862,-283.679 195.781,-273.055 188.54,-263.534\" fill=\"none\" stroke=\"black\"/>\n",
       "<polygon fill=\"black\" points=\"191.291,-261.37 182.452,-255.529 185.719,-265.607 191.291,-261.37\" stroke=\"black\"/>\n",
       "</g>\n",
       "<!-- 140209594053352&#45;&gt;140209592472632 -->\n",
       "<g class=\"edge\" id=\"edge9\"><title>140209594053352-&gt;140209592472632</title>\n",
       "<path d=\"M128.572,-292.313C135.138,-283.679 143.219,-273.055 150.46,-263.534\" fill=\"none\" stroke=\"black\"/>\n",
       "<polygon fill=\"black\" points=\"153.281,-265.607 156.548,-255.529 147.709,-261.37 153.281,-265.607\" stroke=\"black\"/>\n",
       "</g>\n",
       "<!-- 140206911020896 -->\n",
       "<g class=\"node\" id=\"node11\"><title>140206911020896</title>\n",
       "<polygon fill=\"none\" points=\"118.5,-146.5 118.5,-182.5 220.5,-182.5 220.5,-146.5 118.5,-146.5\" stroke=\"black\"/>\n",
       "<text font-family=\"Times,serif\" font-size=\"14.00\" text-anchor=\"middle\" x=\"169.5\" y=\"-160.8\">dense_4: Dense</text>\n",
       "</g>\n",
       "<!-- 140209592472632&#45;&gt;140206911020896 -->\n",
       "<g class=\"edge\" id=\"edge10\"><title>140209592472632-&gt;140206911020896</title>\n",
       "<path d=\"M169.5,-219.313C169.5,-211.289 169.5,-201.547 169.5,-192.569\" fill=\"none\" stroke=\"black\"/>\n",
       "<polygon fill=\"black\" points=\"173,-192.529 169.5,-182.529 166,-192.529 173,-192.529\" stroke=\"black\"/>\n",
       "</g>\n",
       "<!-- 140209592833864 -->\n",
       "<g class=\"node\" id=\"node12\"><title>140209592833864</title>\n",
       "<polygon fill=\"none\" points=\"118.5,-73.5 118.5,-109.5 220.5,-109.5 220.5,-73.5 118.5,-73.5\" stroke=\"black\"/>\n",
       "<text font-family=\"Times,serif\" font-size=\"14.00\" text-anchor=\"middle\" x=\"169.5\" y=\"-87.8\">dense_5: Dense</text>\n",
       "</g>\n",
       "<!-- 140206911020896&#45;&gt;140209592833864 -->\n",
       "<g class=\"edge\" id=\"edge11\"><title>140206911020896-&gt;140209592833864</title>\n",
       "<path d=\"M169.5,-146.313C169.5,-138.289 169.5,-128.547 169.5,-119.569\" fill=\"none\" stroke=\"black\"/>\n",
       "<polygon fill=\"black\" points=\"173,-119.529 169.5,-109.529 166,-119.529 173,-119.529\" stroke=\"black\"/>\n",
       "</g>\n",
       "<!-- 140206910954856 -->\n",
       "<g class=\"node\" id=\"node13\"><title>140206910954856</title>\n",
       "<polygon fill=\"none\" points=\"118.5,-0.5 118.5,-36.5 220.5,-36.5 220.5,-0.5 118.5,-0.5\" stroke=\"black\"/>\n",
       "<text font-family=\"Times,serif\" font-size=\"14.00\" text-anchor=\"middle\" x=\"169.5\" y=\"-14.8\">dense_6: Dense</text>\n",
       "</g>\n",
       "<!-- 140209592833864&#45;&gt;140206910954856 -->\n",
       "<g class=\"edge\" id=\"edge12\"><title>140209592833864-&gt;140206910954856</title>\n",
       "<path d=\"M169.5,-73.3129C169.5,-65.2895 169.5,-55.5475 169.5,-46.5691\" fill=\"none\" stroke=\"black\"/>\n",
       "<polygon fill=\"black\" points=\"173,-46.5288 169.5,-36.5288 166,-46.5289 173,-46.5288\" stroke=\"black\"/>\n",
       "</g>\n",
       "</g>\n",
       "</svg>"
      ],
      "text/plain": [
       "<IPython.core.display.SVG object>"
      ]
     },
     "execution_count": 16,
     "metadata": {},
     "output_type": "execute_result"
    }
   ],
   "source": [
    "# Define neural net architecture\n",
    "\n",
    "latent_dim = 128\n",
    "\n",
    "melody_input = Input(shape=(max_melody_len, n_notes), name=\"melody-input\")\n",
    "melody_gru1 = GRU(latent_dim, return_sequences=True)(melody_input)\n",
    "melody_gru2 = GRU(latent_dim, return_sequences=True)(melody_gru1)\n",
    "melody_gru3 = GRU(latent_dim)(melody_gru2)\n",
    "\n",
    "chords_input = Input(shape=(chord_context_len,), name=\"chords-input\")\n",
    "\n",
    "embeddings = Embedding(n_chords, 50, input_length=chord_context_len, name=\"embeddings\")(chords_input)\n",
    "\n",
    "chords_gru1 = GRU(latent_dim, return_sequences=True, name=\"chords-gru1\")(embeddings)\n",
    "chords_gru2 = GRU(latent_dim, return_sequences=True)(chords_gru1)\n",
    "chords_gru3 = GRU(latent_dim)(chords_gru2)\n",
    "\n",
    "concat = concatenate([melody_gru3, chords_gru3])\n",
    "\n",
    "chord_hidden1 = Dense(latent_dim, activation='relu')(concat)\n",
    "chord_hidden2 = Dense(latent_dim, activation='relu')(chord_hidden1)\n",
    "chord_dense = Dense(n_chords, activation='softmax')(chord_hidden2)\n",
    "\n",
    "model = Model([melody_input, chords_input], chord_dense)\n",
    "model.compile(loss='categorical_crossentropy',\n",
    "              optimizer='adam',\n",
    "              metrics=['accuracy'])\n",
    "\n",
    "print(model.summary())\n",
    "SVG(model_to_dot(model).create(prog='dot', format='svg'))\n"
   ]
  },
  {
   "cell_type": "code",
   "execution_count": 17,
   "metadata": {
    "collapsed": true
   },
   "outputs": [],
   "source": [
    "# Introduce Early-Stopping and Save-Best-Performance callbacks\n",
    "es = EarlyStopping(monitor='val_loss', min_delta=0, patience=5, verbose=1, mode='min')\n",
    "filepath = \"../models/label-Mel3-Cho3-FC3_embeddings50.h5\"\n",
    "bp = ModelCheckpoint(filepath, monitor='val_acc', verbose=1, save_best_only=True, mode='max')"
   ]
  },
  {
   "cell_type": "code",
   "execution_count": 18,
   "metadata": {
    "scrolled": false
   },
   "outputs": [
    {
     "name": "stdout",
     "output_type": "stream",
     "text": [
      "Train on 266784 samples, validate on 33348 samples\n",
      "Epoch 1/150\n",
      "  2048/266784 [..............................] - ETA: 1533s - loss: 5.1417 - acc: 0.0254"
     ]
    },
    {
     "ename": "KeyboardInterrupt",
     "evalue": "",
     "output_type": "error",
     "traceback": [
      "\u001b[0;31m---------------------------------------------------------------------------\u001b[0m",
      "\u001b[0;31mKeyboardInterrupt\u001b[0m                         Traceback (most recent call last)",
      "\u001b[0;32m<ipython-input-18-f043eec330a4>\u001b[0m in \u001b[0;36m<module>\u001b[0;34m()\u001b[0m\n\u001b[1;32m      3\u001b[0m \u001b[0mepochs\u001b[0m \u001b[0;34m=\u001b[0m \u001b[0;36m150\u001b[0m\u001b[0;34m\u001b[0m\u001b[0m\n\u001b[1;32m      4\u001b[0m \u001b[0;34m\u001b[0m\u001b[0m\n\u001b[0;32m----> 5\u001b[0;31m \u001b[0mhistory\u001b[0m \u001b[0;34m=\u001b[0m \u001b[0mmodel\u001b[0m\u001b[0;34m.\u001b[0m\u001b[0mfit\u001b[0m\u001b[0;34m(\u001b[0m\u001b[0;34m[\u001b[0m\u001b[0mX_melody_train\u001b[0m\u001b[0;34m,\u001b[0m \u001b[0mX_chords_train\u001b[0m\u001b[0;34m]\u001b[0m\u001b[0;34m,\u001b[0m \u001b[0mY_train\u001b[0m\u001b[0;34m,\u001b[0m \u001b[0mepochs\u001b[0m\u001b[0;34m=\u001b[0m\u001b[0mepochs\u001b[0m\u001b[0;34m,\u001b[0m \u001b[0mvalidation_data\u001b[0m\u001b[0;34m=\u001b[0m\u001b[0;34m(\u001b[0m\u001b[0;34m[\u001b[0m\u001b[0mX_melody_valid\u001b[0m\u001b[0;34m,\u001b[0m \u001b[0mX_chords_valid\u001b[0m\u001b[0;34m]\u001b[0m\u001b[0;34m,\u001b[0m \u001b[0mY_valid\u001b[0m\u001b[0;34m,\u001b[0m\u001b[0;34m)\u001b[0m\u001b[0;34m,\u001b[0m \u001b[0mbatch_size\u001b[0m\u001b[0;34m=\u001b[0m\u001b[0mbatch_size\u001b[0m\u001b[0;34m,\u001b[0m \u001b[0mcallbacks\u001b[0m\u001b[0;34m=\u001b[0m\u001b[0;34m[\u001b[0m\u001b[0mbp\u001b[0m\u001b[0;34m]\u001b[0m\u001b[0;34m)\u001b[0m\u001b[0;34m\u001b[0m\u001b[0m\n\u001b[0m",
      "\u001b[0;32m/home/maxime/.local/lib/python3.5/site-packages/keras/engine/training.py\u001b[0m in \u001b[0;36mfit\u001b[0;34m(self, x, y, batch_size, epochs, verbose, callbacks, validation_split, validation_data, shuffle, class_weight, sample_weight, initial_epoch, **kwargs)\u001b[0m\n\u001b[1;32m   1428\u001b[0m                               \u001b[0mval_f\u001b[0m\u001b[0;34m=\u001b[0m\u001b[0mval_f\u001b[0m\u001b[0;34m,\u001b[0m \u001b[0mval_ins\u001b[0m\u001b[0;34m=\u001b[0m\u001b[0mval_ins\u001b[0m\u001b[0;34m,\u001b[0m \u001b[0mshuffle\u001b[0m\u001b[0;34m=\u001b[0m\u001b[0mshuffle\u001b[0m\u001b[0;34m,\u001b[0m\u001b[0;34m\u001b[0m\u001b[0m\n\u001b[1;32m   1429\u001b[0m                               \u001b[0mcallback_metrics\u001b[0m\u001b[0;34m=\u001b[0m\u001b[0mcallback_metrics\u001b[0m\u001b[0;34m,\u001b[0m\u001b[0;34m\u001b[0m\u001b[0m\n\u001b[0;32m-> 1430\u001b[0;31m                               initial_epoch=initial_epoch)\n\u001b[0m\u001b[1;32m   1431\u001b[0m \u001b[0;34m\u001b[0m\u001b[0m\n\u001b[1;32m   1432\u001b[0m     \u001b[0;32mdef\u001b[0m \u001b[0mevaluate\u001b[0m\u001b[0;34m(\u001b[0m\u001b[0mself\u001b[0m\u001b[0;34m,\u001b[0m \u001b[0mx\u001b[0m\u001b[0;34m,\u001b[0m \u001b[0my\u001b[0m\u001b[0;34m,\u001b[0m \u001b[0mbatch_size\u001b[0m\u001b[0;34m=\u001b[0m\u001b[0;36m32\u001b[0m\u001b[0;34m,\u001b[0m \u001b[0mverbose\u001b[0m\u001b[0;34m=\u001b[0m\u001b[0;36m1\u001b[0m\u001b[0;34m,\u001b[0m \u001b[0msample_weight\u001b[0m\u001b[0;34m=\u001b[0m\u001b[0;32mNone\u001b[0m\u001b[0;34m)\u001b[0m\u001b[0;34m:\u001b[0m\u001b[0;34m\u001b[0m\u001b[0m\n",
      "\u001b[0;32m/home/maxime/.local/lib/python3.5/site-packages/keras/engine/training.py\u001b[0m in \u001b[0;36m_fit_loop\u001b[0;34m(self, f, ins, out_labels, batch_size, epochs, verbose, callbacks, val_f, val_ins, shuffle, callback_metrics, initial_epoch)\u001b[0m\n\u001b[1;32m   1077\u001b[0m                 \u001b[0mbatch_logs\u001b[0m\u001b[0;34m[\u001b[0m\u001b[0;34m'size'\u001b[0m\u001b[0;34m]\u001b[0m \u001b[0;34m=\u001b[0m \u001b[0mlen\u001b[0m\u001b[0;34m(\u001b[0m\u001b[0mbatch_ids\u001b[0m\u001b[0;34m)\u001b[0m\u001b[0;34m\u001b[0m\u001b[0m\n\u001b[1;32m   1078\u001b[0m                 \u001b[0mcallbacks\u001b[0m\u001b[0;34m.\u001b[0m\u001b[0mon_batch_begin\u001b[0m\u001b[0;34m(\u001b[0m\u001b[0mbatch_index\u001b[0m\u001b[0;34m,\u001b[0m \u001b[0mbatch_logs\u001b[0m\u001b[0;34m)\u001b[0m\u001b[0;34m\u001b[0m\u001b[0m\n\u001b[0;32m-> 1079\u001b[0;31m                 \u001b[0mouts\u001b[0m \u001b[0;34m=\u001b[0m \u001b[0mf\u001b[0m\u001b[0;34m(\u001b[0m\u001b[0mins_batch\u001b[0m\u001b[0;34m)\u001b[0m\u001b[0;34m\u001b[0m\u001b[0m\n\u001b[0m\u001b[1;32m   1080\u001b[0m                 \u001b[0;32mif\u001b[0m \u001b[0;32mnot\u001b[0m \u001b[0misinstance\u001b[0m\u001b[0;34m(\u001b[0m\u001b[0mouts\u001b[0m\u001b[0;34m,\u001b[0m \u001b[0mlist\u001b[0m\u001b[0;34m)\u001b[0m\u001b[0;34m:\u001b[0m\u001b[0;34m\u001b[0m\u001b[0m\n\u001b[1;32m   1081\u001b[0m                     \u001b[0mouts\u001b[0m \u001b[0;34m=\u001b[0m \u001b[0;34m[\u001b[0m\u001b[0mouts\u001b[0m\u001b[0;34m]\u001b[0m\u001b[0;34m\u001b[0m\u001b[0m\n",
      "\u001b[0;32m/home/maxime/.local/lib/python3.5/site-packages/keras/backend/tensorflow_backend.py\u001b[0m in \u001b[0;36m__call__\u001b[0;34m(self, inputs)\u001b[0m\n\u001b[1;32m   2266\u001b[0m         updated = session.run(self.outputs + [self.updates_op],\n\u001b[1;32m   2267\u001b[0m                               \u001b[0mfeed_dict\u001b[0m\u001b[0;34m=\u001b[0m\u001b[0mfeed_dict\u001b[0m\u001b[0;34m,\u001b[0m\u001b[0;34m\u001b[0m\u001b[0m\n\u001b[0;32m-> 2268\u001b[0;31m                               **self.session_kwargs)\n\u001b[0m\u001b[1;32m   2269\u001b[0m         \u001b[0;32mreturn\u001b[0m \u001b[0mupdated\u001b[0m\u001b[0;34m[\u001b[0m\u001b[0;34m:\u001b[0m\u001b[0mlen\u001b[0m\u001b[0;34m(\u001b[0m\u001b[0mself\u001b[0m\u001b[0;34m.\u001b[0m\u001b[0moutputs\u001b[0m\u001b[0;34m)\u001b[0m\u001b[0;34m]\u001b[0m\u001b[0;34m\u001b[0m\u001b[0m\n\u001b[1;32m   2270\u001b[0m \u001b[0;34m\u001b[0m\u001b[0m\n",
      "\u001b[0;32m/home/maxime/.local/lib/python3.5/site-packages/tensorflow/python/client/session.py\u001b[0m in \u001b[0;36mrun\u001b[0;34m(self, fetches, feed_dict, options, run_metadata)\u001b[0m\n\u001b[1;32m    898\u001b[0m     \u001b[0;32mtry\u001b[0m\u001b[0;34m:\u001b[0m\u001b[0;34m\u001b[0m\u001b[0m\n\u001b[1;32m    899\u001b[0m       result = self._run(None, fetches, feed_dict, options_ptr,\n\u001b[0;32m--> 900\u001b[0;31m                          run_metadata_ptr)\n\u001b[0m\u001b[1;32m    901\u001b[0m       \u001b[0;32mif\u001b[0m \u001b[0mrun_metadata\u001b[0m\u001b[0;34m:\u001b[0m\u001b[0;34m\u001b[0m\u001b[0m\n\u001b[1;32m    902\u001b[0m         \u001b[0mproto_data\u001b[0m \u001b[0;34m=\u001b[0m \u001b[0mtf_session\u001b[0m\u001b[0;34m.\u001b[0m\u001b[0mTF_GetBuffer\u001b[0m\u001b[0;34m(\u001b[0m\u001b[0mrun_metadata_ptr\u001b[0m\u001b[0;34m)\u001b[0m\u001b[0;34m\u001b[0m\u001b[0m\n",
      "\u001b[0;32m/home/maxime/.local/lib/python3.5/site-packages/tensorflow/python/client/session.py\u001b[0m in \u001b[0;36m_run\u001b[0;34m(self, handle, fetches, feed_dict, options, run_metadata)\u001b[0m\n\u001b[1;32m   1133\u001b[0m     \u001b[0;32mif\u001b[0m \u001b[0mfinal_fetches\u001b[0m \u001b[0;32mor\u001b[0m \u001b[0mfinal_targets\u001b[0m \u001b[0;32mor\u001b[0m \u001b[0;34m(\u001b[0m\u001b[0mhandle\u001b[0m \u001b[0;32mand\u001b[0m \u001b[0mfeed_dict_tensor\u001b[0m\u001b[0;34m)\u001b[0m\u001b[0;34m:\u001b[0m\u001b[0;34m\u001b[0m\u001b[0m\n\u001b[1;32m   1134\u001b[0m       results = self._do_run(handle, final_targets, final_fetches,\n\u001b[0;32m-> 1135\u001b[0;31m                              feed_dict_tensor, options, run_metadata)\n\u001b[0m\u001b[1;32m   1136\u001b[0m     \u001b[0;32melse\u001b[0m\u001b[0;34m:\u001b[0m\u001b[0;34m\u001b[0m\u001b[0m\n\u001b[1;32m   1137\u001b[0m       \u001b[0mresults\u001b[0m \u001b[0;34m=\u001b[0m \u001b[0;34m[\u001b[0m\u001b[0;34m]\u001b[0m\u001b[0;34m\u001b[0m\u001b[0m\n",
      "\u001b[0;32m/home/maxime/.local/lib/python3.5/site-packages/tensorflow/python/client/session.py\u001b[0m in \u001b[0;36m_do_run\u001b[0;34m(self, handle, target_list, fetch_list, feed_dict, options, run_metadata)\u001b[0m\n\u001b[1;32m   1314\u001b[0m     \u001b[0;32mif\u001b[0m \u001b[0mhandle\u001b[0m \u001b[0;32mis\u001b[0m \u001b[0;32mNone\u001b[0m\u001b[0;34m:\u001b[0m\u001b[0;34m\u001b[0m\u001b[0m\n\u001b[1;32m   1315\u001b[0m       return self._do_call(_run_fn, feeds, fetches, targets, options,\n\u001b[0;32m-> 1316\u001b[0;31m                            run_metadata)\n\u001b[0m\u001b[1;32m   1317\u001b[0m     \u001b[0;32melse\u001b[0m\u001b[0;34m:\u001b[0m\u001b[0;34m\u001b[0m\u001b[0m\n\u001b[1;32m   1318\u001b[0m       \u001b[0;32mreturn\u001b[0m \u001b[0mself\u001b[0m\u001b[0;34m.\u001b[0m\u001b[0m_do_call\u001b[0m\u001b[0;34m(\u001b[0m\u001b[0m_prun_fn\u001b[0m\u001b[0;34m,\u001b[0m \u001b[0mhandle\u001b[0m\u001b[0;34m,\u001b[0m \u001b[0mfeeds\u001b[0m\u001b[0;34m,\u001b[0m \u001b[0mfetches\u001b[0m\u001b[0;34m)\u001b[0m\u001b[0;34m\u001b[0m\u001b[0m\n",
      "\u001b[0;32m/home/maxime/.local/lib/python3.5/site-packages/tensorflow/python/client/session.py\u001b[0m in \u001b[0;36m_do_call\u001b[0;34m(self, fn, *args)\u001b[0m\n\u001b[1;32m   1320\u001b[0m   \u001b[0;32mdef\u001b[0m \u001b[0m_do_call\u001b[0m\u001b[0;34m(\u001b[0m\u001b[0mself\u001b[0m\u001b[0;34m,\u001b[0m \u001b[0mfn\u001b[0m\u001b[0;34m,\u001b[0m \u001b[0;34m*\u001b[0m\u001b[0margs\u001b[0m\u001b[0;34m)\u001b[0m\u001b[0;34m:\u001b[0m\u001b[0;34m\u001b[0m\u001b[0m\n\u001b[1;32m   1321\u001b[0m     \u001b[0;32mtry\u001b[0m\u001b[0;34m:\u001b[0m\u001b[0;34m\u001b[0m\u001b[0m\n\u001b[0;32m-> 1322\u001b[0;31m       \u001b[0;32mreturn\u001b[0m \u001b[0mfn\u001b[0m\u001b[0;34m(\u001b[0m\u001b[0;34m*\u001b[0m\u001b[0margs\u001b[0m\u001b[0;34m)\u001b[0m\u001b[0;34m\u001b[0m\u001b[0m\n\u001b[0m\u001b[1;32m   1323\u001b[0m     \u001b[0;32mexcept\u001b[0m \u001b[0merrors\u001b[0m\u001b[0;34m.\u001b[0m\u001b[0mOpError\u001b[0m \u001b[0;32mas\u001b[0m \u001b[0me\u001b[0m\u001b[0;34m:\u001b[0m\u001b[0;34m\u001b[0m\u001b[0m\n\u001b[1;32m   1324\u001b[0m       \u001b[0mmessage\u001b[0m \u001b[0;34m=\u001b[0m \u001b[0mcompat\u001b[0m\u001b[0;34m.\u001b[0m\u001b[0mas_text\u001b[0m\u001b[0;34m(\u001b[0m\u001b[0me\u001b[0m\u001b[0;34m.\u001b[0m\u001b[0mmessage\u001b[0m\u001b[0;34m)\u001b[0m\u001b[0;34m\u001b[0m\u001b[0m\n",
      "\u001b[0;32m/home/maxime/.local/lib/python3.5/site-packages/tensorflow/python/client/session.py\u001b[0m in \u001b[0;36m_run_fn\u001b[0;34m(feed_dict, fetch_list, target_list, options, run_metadata)\u001b[0m\n\u001b[1;32m   1305\u001b[0m       \u001b[0mself\u001b[0m\u001b[0;34m.\u001b[0m\u001b[0m_extend_graph\u001b[0m\u001b[0;34m(\u001b[0m\u001b[0;34m)\u001b[0m\u001b[0;34m\u001b[0m\u001b[0m\n\u001b[1;32m   1306\u001b[0m       return self._call_tf_sessionrun(\n\u001b[0;32m-> 1307\u001b[0;31m           options, feed_dict, fetch_list, target_list, run_metadata)\n\u001b[0m\u001b[1;32m   1308\u001b[0m \u001b[0;34m\u001b[0m\u001b[0m\n\u001b[1;32m   1309\u001b[0m     \u001b[0;32mdef\u001b[0m \u001b[0m_prun_fn\u001b[0m\u001b[0;34m(\u001b[0m\u001b[0mhandle\u001b[0m\u001b[0;34m,\u001b[0m \u001b[0mfeed_dict\u001b[0m\u001b[0;34m,\u001b[0m \u001b[0mfetch_list\u001b[0m\u001b[0;34m)\u001b[0m\u001b[0;34m:\u001b[0m\u001b[0;34m\u001b[0m\u001b[0m\n",
      "\u001b[0;32m/home/maxime/.local/lib/python3.5/site-packages/tensorflow/python/client/session.py\u001b[0m in \u001b[0;36m_call_tf_sessionrun\u001b[0;34m(self, options, feed_dict, fetch_list, target_list, run_metadata)\u001b[0m\n\u001b[1;32m   1407\u001b[0m       return tf_session.TF_SessionRun_wrapper(\n\u001b[1;32m   1408\u001b[0m           \u001b[0mself\u001b[0m\u001b[0;34m.\u001b[0m\u001b[0m_session\u001b[0m\u001b[0;34m,\u001b[0m \u001b[0moptions\u001b[0m\u001b[0;34m,\u001b[0m \u001b[0mfeed_dict\u001b[0m\u001b[0;34m,\u001b[0m \u001b[0mfetch_list\u001b[0m\u001b[0;34m,\u001b[0m \u001b[0mtarget_list\u001b[0m\u001b[0;34m,\u001b[0m\u001b[0;34m\u001b[0m\u001b[0m\n\u001b[0;32m-> 1409\u001b[0;31m           run_metadata)\n\u001b[0m\u001b[1;32m   1410\u001b[0m     \u001b[0;32melse\u001b[0m\u001b[0;34m:\u001b[0m\u001b[0;34m\u001b[0m\u001b[0m\n\u001b[1;32m   1411\u001b[0m       \u001b[0;32mwith\u001b[0m \u001b[0merrors\u001b[0m\u001b[0;34m.\u001b[0m\u001b[0mraise_exception_on_not_ok_status\u001b[0m\u001b[0;34m(\u001b[0m\u001b[0;34m)\u001b[0m \u001b[0;32mas\u001b[0m \u001b[0mstatus\u001b[0m\u001b[0;34m:\u001b[0m\u001b[0;34m\u001b[0m\u001b[0m\n",
      "\u001b[0;31mKeyboardInterrupt\u001b[0m: "
     ]
    }
   ],
   "source": [
    "# Train model\n",
    "batch_size = 256\n",
    "epochs = 150\n",
    "\n",
    "history = model.fit([X_melody_train, X_chords_train], Y_train, epochs=epochs, validation_data=([X_melody_valid, X_chords_valid], Y_valid,), batch_size=batch_size, callbacks=[bp])"
   ]
  },
  {
   "cell_type": "code",
   "execution_count": 14,
   "metadata": {},
   "outputs": [
    {
     "data": {
      "text/plain": [
       "<matplotlib.figure.Figure at 0x7fcbdd6155c0>"
      ]
     },
     "metadata": {},
     "output_type": "display_data"
    },
    {
     "data": {
      "image/png": "[encoded data removed]",
      "text/plain": [
       "<matplotlib.figure.Figure at 0x7fcbdd615d68>"
      ]
     },
     "metadata": {},
     "output_type": "display_data"
    }
   ],
   "source": [
    "# Visualize model learning\n",
    "plt.clf()\n",
    "\n",
    "plt.figure(figsize=(15,5))\n",
    "plt.subplot(1, 2, 1)\n",
    "plt.plot(history.history['acc'])\n",
    "plt.plot(history.history['val_acc'])\n",
    "plt.title('model accuracy')\n",
    "plt.ylabel('accuracy')\n",
    "plt.xlabel('epoch')\n",
    "plt.legend(['train', 'validation'], loc='upper left')\n",
    "# plt.show()\n",
    "\n",
    "plt.subplot(1, 2, 2)\n",
    "plt.plot(history.history['loss'])\n",
    "plt.plot(history.history['val_loss'])\n",
    "plt.title('model loss')\n",
    "plt.ylabel('loss')\n",
    "plt.xlabel('epoch')\n",
    "plt.legend(['train', 'validation'], loc='upper left')\n",
    "plt.tight_layout()\n",
    "plt.suptitle(\"Training history of root model\", fontsize=16)\n",
    "plt.subplots_adjust(top=0.85)\n",
    "plt.show()"
   ]
  },
  {
   "cell_type": "code",
   "execution_count": 15,
   "metadata": {
    "collapsed": true
   },
   "outputs": [],
   "source": [
    "# Load best performance model\n",
    "model = load_model(\"../models/label-Mel3-Cho3-FC3_embeddings50.h5\")"
   ]
  },
  {
   "cell_type": "code",
   "execution_count": 16,
   "metadata": {},
   "outputs": [
    {
     "name": "stdout",
     "output_type": "stream",
     "text": [
      "Categorical accuracy of combined chord label prediction: 0.7745\n",
      "Kappa score of combined chord label prediction: 0.7690\n"
     ]
    }
   ],
   "source": [
    "# Evaluate predictions in terms of labels\n",
    "\n",
    "# Predict chords from each test sample melody\n",
    "Y_pred = model.predict([X_melody_test, X_chords_test])\n",
    "\n",
    "# Compute accuracy and kappa score\n",
    "print(\"Categorical accuracy of combined chord label prediction: {0:.4f}\".format(harmoutil.compute_accuracy_score(Y_test, Y_pred)))\n",
    "print(\"Kappa score of combined chord label prediction: {0:.4f}\".format(harmoutil.compute_kappa_score(Y_test, Y_pred)))"
   ]
  },
  {
   "cell_type": "code",
   "execution_count": 17,
   "metadata": {},
   "outputs": [
    {
     "name": "stdout",
     "output_type": "stream",
     "text": [
      "Categorical accuracy of combined chord pitch prediction: 0.9090\n",
      "TP: 112046 TN: 251700 FP: 18350 FN: 18080\n",
      "Kappa score of combined chord pitch prediction: 0.7927\n"
     ]
    }
   ],
   "source": [
    "# Evaluate predictions in terms of pitches\n",
    "\n",
    "def label_to_pitch_tensors(predictions):\n",
    "    predicted_chords = [int_to_chord[np.argmax(ch)] for ch in predictions]\n",
    "    pitch_chords = [harmoutil.chord_to_notes(label) for label in predicted_chords]\n",
    "    \n",
    "    Y_pitches = np.zeros((predictions.shape[0], 12), dtype='float32')\n",
    "    for i, chord_pitches in enumerate(pitch_chords):\n",
    "        for j, pitch_presence in enumerate(chord_pitches):\n",
    "            Y_pitches[i, j] = pitch_presence\n",
    "\n",
    "    return Y_pitches\n",
    "    \n",
    "    \n",
    "Y_pred_pitch = label_to_pitch_tensors(Y_pred)\n",
    "Y_test_pitch = label_to_pitch_tensors(Y_test)\n",
    "\n",
    "print(\"Categorical accuracy of combined chord pitch prediction: {0:.4f}\".format(harmoutil.compute_multiclass_binary_accuracy_score(Y_test_pitch, Y_pred_pitch)))\n",
    "print(\"Kappa score of combined chord pitch prediction: {0:.4f}\".format(harmoutil.compute_multiclass_binary_kappa_score(Y_test_pitch, Y_pred_pitch)))"
   ]
  },
  {
   "cell_type": "code",
   "execution_count": 61,
   "metadata": {
    "collapsed": true
   },
   "outputs": [],
   "source": [
    "# print(\"F-score: {0:.4f}\".format(harmoutil.compute_binary_fscore(Y_test_pitch, Y_pred_pitch)))"
   ]
  },
  {
   "cell_type": "code",
   "execution_count": null,
   "metadata": {
    "collapsed": true
   },
   "outputs": [],
   "source": []
  }
 ],
 "metadata": {
  "kernelspec": {
   "display_name": "Python 3",
   "language": "python",
   "name": "python3"
  },
  "language_info": {
   "codemirror_mode": {
    "name": "ipython",
    "version": 3
   },
   "file_extension": ".py",
   "mimetype": "text/x-python",
   "name": "python",
   "nbconvert_exporter": "python",
   "pygments_lexer": "ipython3",
   "version": "3.5.2"
  }
 },
 "nbformat": 4,
 "nbformat_minor": 2
}
